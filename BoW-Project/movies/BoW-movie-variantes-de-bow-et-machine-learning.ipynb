{
 "cells": [
  {
   "cell_type": "markdown",
   "metadata": {},
   "source": [
    "# RITAL - Bag of Words Project"
   ]
  },
  {
   "cell_type": "markdown",
   "metadata": {},
   "source": [
    "Binôme :\n",
    "- **Ben KABONGO**, 21116436\n",
    "\n",
    "- **Sofia BORCHANI**, 21212080"
   ]
  },
  {
   "cell_type": "markdown",
   "metadata": {},
   "source": [
    "# Partie II : Données classification de sentiments (films)\n",
    "\n",
    "**Problématiques**\n",
    "\n",
    "- **Variantes de BoW**\n",
    "    - TF-IDF\n",
    "    - Réduire la taille du vocabulaire (min_df, max_df, max_features)\n",
    "    - BoW binaire\n",
    "    - Bi-grams, tri-grams\n",
    "    - **Quelles performances attendrent? Quels sont les avantages et les inconvénients des ces variantes?**"
   ]
  },
  {
   "cell_type": "code",
   "execution_count": 1,
   "metadata": {},
   "outputs": [],
   "source": [
    "import matplotlib.pyplot as plt\n",
    "import nltk\n",
    "import numpy as np\n",
    "import pandas as pd\n",
    "import sklearn\n",
    "import warnings\n",
    "\n",
    "from imblearn.under_sampling import RandomUnderSampler\n",
    "\n",
    "from nltk.corpus import stopwords\n",
    "from nltk.tokenize import word_tokenize\n",
    "\n",
    "\n",
    "from sklearn import (linear_model, \n",
    "                     ensemble,\n",
    "                     tree,\n",
    "                     decomposition, \n",
    "                     naive_bayes, \n",
    "                     neural_network,\n",
    "                     svm,\n",
    "                     metrics,\n",
    "                     preprocessing, \n",
    "                     model_selection, \n",
    "                     pipeline,)\n",
    "from sklearn.feature_extraction.text import CountVectorizer, TfidfVectorizer\n",
    "\n",
    "from xgboost import XGBClassifier\n",
    "\n",
    "import utils"
   ]
  },
  {
   "cell_type": "code",
   "execution_count": 2,
   "metadata": {},
   "outputs": [],
   "source": [
    "plt.style.use('seaborn-whitegrid')\n",
    "warnings.simplefilter(\"ignore\")"
   ]
  },
  {
   "cell_type": "markdown",
   "metadata": {},
   "source": [
    "### Chargement des données"
   ]
  },
  {
   "cell_type": "code",
   "execution_count": 3,
   "metadata": {},
   "outputs": [
    {
     "data": {
      "text/html": [
       "<div>\n",
       "<style scoped>\n",
       "    .dataframe tbody tr th:only-of-type {\n",
       "        vertical-align: middle;\n",
       "    }\n",
       "\n",
       "    .dataframe tbody tr th {\n",
       "        vertical-align: top;\n",
       "    }\n",
       "\n",
       "    .dataframe thead th {\n",
       "        text-align: right;\n",
       "    }\n",
       "</style>\n",
       "<table border=\"1\" class=\"dataframe\">\n",
       "  <thead>\n",
       "    <tr style=\"text-align: right;\">\n",
       "      <th></th>\n",
       "      <th>text</th>\n",
       "      <th>label</th>\n",
       "    </tr>\n",
       "  </thead>\n",
       "  <tbody>\n",
       "    <tr>\n",
       "      <th>0</th>\n",
       "      <td>bad . bad . \\nbad . \\nthat one word seems to p...</td>\n",
       "      <td>0</td>\n",
       "    </tr>\n",
       "    <tr>\n",
       "      <th>1</th>\n",
       "      <td>isn't it the ultimate sign of a movie's cinema...</td>\n",
       "      <td>0</td>\n",
       "    </tr>\n",
       "    <tr>\n",
       "      <th>2</th>\n",
       "      <td>\" gordy \" is not a movie , it is a 90-minute-...</td>\n",
       "      <td>0</td>\n",
       "    </tr>\n",
       "    <tr>\n",
       "      <th>3</th>\n",
       "      <td>disconnect the phone line . \\ndon't accept the...</td>\n",
       "      <td>0</td>\n",
       "    </tr>\n",
       "    <tr>\n",
       "      <th>4</th>\n",
       "      <td>when robert forster found himself famous again...</td>\n",
       "      <td>0</td>\n",
       "    </tr>\n",
       "    <tr>\n",
       "      <th>...</th>\n",
       "      <td>...</td>\n",
       "      <td>...</td>\n",
       "    </tr>\n",
       "    <tr>\n",
       "      <th>1995</th>\n",
       "      <td>one of the funniest carry on movies and the th...</td>\n",
       "      <td>1</td>\n",
       "    </tr>\n",
       "    <tr>\n",
       "      <th>1996</th>\n",
       "      <td>i remember making a pact , right after `patch ...</td>\n",
       "      <td>1</td>\n",
       "    </tr>\n",
       "    <tr>\n",
       "      <th>1997</th>\n",
       "      <td>barely scrapping by playing at a nyc piano bar...</td>\n",
       "      <td>1</td>\n",
       "    </tr>\n",
       "    <tr>\n",
       "      <th>1998</th>\n",
       "      <td>if the current trends of hollywood filmmaking ...</td>\n",
       "      <td>1</td>\n",
       "    </tr>\n",
       "    <tr>\n",
       "      <th>1999</th>\n",
       "      <td>capsule : the director of cure brings a weird ...</td>\n",
       "      <td>1</td>\n",
       "    </tr>\n",
       "  </tbody>\n",
       "</table>\n",
       "<p>2000 rows × 2 columns</p>\n",
       "</div>"
      ],
      "text/plain": [
       "                                                   text  label\n",
       "0     bad . bad . \\nbad . \\nthat one word seems to p...      0\n",
       "1     isn't it the ultimate sign of a movie's cinema...      0\n",
       "2      \" gordy \" is not a movie , it is a 90-minute-...      0\n",
       "3     disconnect the phone line . \\ndon't accept the...      0\n",
       "4     when robert forster found himself famous again...      0\n",
       "...                                                 ...    ...\n",
       "1995  one of the funniest carry on movies and the th...      1\n",
       "1996  i remember making a pact , right after `patch ...      1\n",
       "1997  barely scrapping by playing at a nyc piano bar...      1\n",
       "1998  if the current trends of hollywood filmmaking ...      1\n",
       "1999  capsule : the director of cure brings a weird ...      1\n",
       "\n",
       "[2000 rows x 2 columns]"
      ]
     },
     "execution_count": 3,
     "metadata": {},
     "output_type": "execute_result"
    }
   ],
   "source": [
    "fname = \"./datasets/movies/movies1000/\"\n",
    "all_movies_df = utils.load_movies(fname)\n",
    "all_movies_df"
   ]
  },
  {
   "cell_type": "markdown",
   "metadata": {},
   "source": [
    "## Méthodes Machine Learning et variantes de BoW"
   ]
  },
  {
   "cell_type": "code",
   "execution_count": 4,
   "metadata": {},
   "outputs": [],
   "source": [
    "y = all_movies_df.label"
   ]
  },
  {
   "cell_type": "code",
   "execution_count": 5,
   "metadata": {},
   "outputs": [],
   "source": [
    "def mvectorizer(vectorizer):\n",
    "    X_text_train, X_text_test, y_train, y_test = model_selection.train_test_split(all_movies_df['text'], \n",
    "        all_movies_df['label'], test_size=0.2, random_state=42)\n",
    "\n",
    "    X_train = vectorizer.fit_transform(X_text_train)\n",
    "    X_test = vectorizer.transform(X_text_test)\n",
    "    \n",
    "    clf = linear_model.LogisticRegression(solver='lbfgs')\n",
    "    clf.fit(X_train, y_train)\n",
    "\n",
    "    y_pred = clf.predict(X_test)\n",
    "\n",
    "    y_prob = clf.predict_proba(X_test)[:,1]\n",
    "    fpr, tpr, thresholds = metrics.roc_curve(y_test, y_prob)\n",
    "    auc = metrics.auc(fpr, tpr)\n",
    "    \n",
    "    f1 = metrics.f1_score(y_test, y_pred)\n",
    "    acc = metrics.accuracy_score(y_test, y_pred)\n",
    "    report = metrics.classification_report(y_test, y_pred)\n",
    "    print(report)\n",
    "\n",
    "    print()\n",
    "    print('Accuracy :\\t', acc)\n",
    "    print('F1 score :\\t', f1)\n",
    "    print('AUC :\\t\\t', auc)\n",
    "    "
   ]
  },
  {
   "cell_type": "markdown",
   "metadata": {},
   "source": [
    "### CountVectorizer"
   ]
  },
  {
   "cell_type": "code",
   "execution_count": 6,
   "metadata": {},
   "outputs": [],
   "source": [
    "def cmvectorizer(**count_vectorizer_args):\n",
    "    vectorizer = CountVectorizer(**count_vectorizer_args)\n",
    "    return mvectorizer(vectorizer)"
   ]
  },
  {
   "cell_type": "markdown",
   "metadata": {},
   "source": [
    "### TdfidfVectorizer"
   ]
  },
  {
   "cell_type": "code",
   "execution_count": 7,
   "metadata": {},
   "outputs": [],
   "source": [
    "def tmvectorizer(**tfidf_vectorizer_args):\n",
    "    vectorizer = TfidfVectorizer(**tfidf_vectorizer_args)\n",
    "    return mvectorizer(vectorizer)"
   ]
  },
  {
   "cell_type": "markdown",
   "metadata": {},
   "source": [
    "### Variantes et évaluations"
   ]
  },
  {
   "cell_type": "markdown",
   "metadata": {},
   "source": [
    "#### Non binaire"
   ]
  },
  {
   "cell_type": "code",
   "execution_count": 8,
   "metadata": {},
   "outputs": [
    {
     "name": "stdout",
     "output_type": "stream",
     "text": [
      "              precision    recall  f1-score   support\n",
      "\n",
      "           0       0.84      0.80      0.82       199\n",
      "           1       0.81      0.85      0.83       201\n",
      "\n",
      "    accuracy                           0.82       400\n",
      "   macro avg       0.83      0.82      0.82       400\n",
      "weighted avg       0.83      0.82      0.82       400\n",
      "\n",
      "\n",
      "Accuracy :\t 0.825\n",
      "F1 score :\t 0.8292682926829269\n",
      "AUC :\t\t 0.9063476586914673\n"
     ]
    }
   ],
   "source": [
    "cmvectorizer()"
   ]
  },
  {
   "cell_type": "code",
   "execution_count": 9,
   "metadata": {},
   "outputs": [
    {
     "name": "stdout",
     "output_type": "stream",
     "text": [
      "              precision    recall  f1-score   support\n",
      "\n",
      "           0       0.85      0.77      0.81       199\n",
      "           1       0.79      0.86      0.82       201\n",
      "\n",
      "    accuracy                           0.81       400\n",
      "   macro avg       0.82      0.81      0.81       400\n",
      "weighted avg       0.82      0.81      0.81       400\n",
      "\n",
      "\n",
      "Accuracy :\t 0.815\n",
      "F1 score :\t 0.8238095238095237\n",
      "AUC :\t\t 0.8891222280557014\n"
     ]
    }
   ],
   "source": [
    "tmvectorizer()"
   ]
  },
  {
   "cell_type": "markdown",
   "metadata": {},
   "source": [
    "#### Binary"
   ]
  },
  {
   "cell_type": "code",
   "execution_count": 10,
   "metadata": {},
   "outputs": [
    {
     "name": "stdout",
     "output_type": "stream",
     "text": [
      "              precision    recall  f1-score   support\n",
      "\n",
      "           0       0.85      0.85      0.85       199\n",
      "           1       0.85      0.85      0.85       201\n",
      "\n",
      "    accuracy                           0.85       400\n",
      "   macro avg       0.85      0.85      0.85       400\n",
      "weighted avg       0.85      0.85      0.85       400\n",
      "\n",
      "\n",
      "Accuracy :\t 0.85\n",
      "F1 score :\t 0.8507462686567164\n",
      "AUC :\t\t 0.9306482662066551\n"
     ]
    }
   ],
   "source": [
    "cmvectorizer(binary=True)"
   ]
  },
  {
   "cell_type": "code",
   "execution_count": 11,
   "metadata": {},
   "outputs": [
    {
     "name": "stdout",
     "output_type": "stream",
     "text": [
      "              precision    recall  f1-score   support\n",
      "\n",
      "           0       0.88      0.84      0.86       199\n",
      "           1       0.85      0.89      0.87       201\n",
      "\n",
      "    accuracy                           0.86       400\n",
      "   macro avg       0.87      0.86      0.86       400\n",
      "weighted avg       0.87      0.86      0.86       400\n",
      "\n",
      "\n",
      "Accuracy :\t 0.865\n",
      "F1 score :\t 0.8682926829268293\n",
      "AUC :\t\t 0.934598364959124\n"
     ]
    }
   ],
   "source": [
    "tmvectorizer(binary=True)"
   ]
  },
  {
   "cell_type": "markdown",
   "metadata": {},
   "source": [
    "#### Stop word : english"
   ]
  },
  {
   "cell_type": "code",
   "execution_count": 12,
   "metadata": {},
   "outputs": [
    {
     "name": "stdout",
     "output_type": "stream",
     "text": [
      "              precision    recall  f1-score   support\n",
      "\n",
      "           0       0.87      0.85      0.86       199\n",
      "           1       0.86      0.87      0.86       201\n",
      "\n",
      "    accuracy                           0.86       400\n",
      "   macro avg       0.86      0.86      0.86       400\n",
      "weighted avg       0.86      0.86      0.86       400\n",
      "\n",
      "\n",
      "Accuracy :\t 0.8625\n",
      "F1 score :\t 0.8641975308641976\n",
      "AUC :\t\t 0.9328733218330458\n"
     ]
    }
   ],
   "source": [
    "cmvectorizer(stop_words='english')"
   ]
  },
  {
   "cell_type": "code",
   "execution_count": 13,
   "metadata": {},
   "outputs": [
    {
     "name": "stdout",
     "output_type": "stream",
     "text": [
      "              precision    recall  f1-score   support\n",
      "\n",
      "           0       0.86      0.80      0.83       199\n",
      "           1       0.82      0.87      0.84       201\n",
      "\n",
      "    accuracy                           0.83       400\n",
      "   macro avg       0.84      0.83      0.83       400\n",
      "weighted avg       0.84      0.83      0.83       400\n",
      "\n",
      "\n",
      "Accuracy :\t 0.835\n",
      "F1 score :\t 0.8405797101449274\n",
      "AUC :\t\t 0.9061726543163579\n"
     ]
    }
   ],
   "source": [
    "tmvectorizer(stop_words='english')"
   ]
  },
  {
   "cell_type": "markdown",
   "metadata": {},
   "source": [
    "#### Stop words + binaire"
   ]
  },
  {
   "cell_type": "code",
   "execution_count": 14,
   "metadata": {},
   "outputs": [
    {
     "name": "stdout",
     "output_type": "stream",
     "text": [
      "              precision    recall  f1-score   support\n",
      "\n",
      "           0       0.85      0.87      0.86       199\n",
      "           1       0.87      0.85      0.86       201\n",
      "\n",
      "    accuracy                           0.86       400\n",
      "   macro avg       0.86      0.86      0.86       400\n",
      "weighted avg       0.86      0.86      0.86       400\n",
      "\n",
      "\n",
      "Accuracy :\t 0.86\n",
      "F1 score :\t 0.8585858585858587\n",
      "AUC :\t\t 0.9364484112102803\n"
     ]
    }
   ],
   "source": [
    "cmvectorizer(stop_words='english', binary=True)"
   ]
  },
  {
   "cell_type": "code",
   "execution_count": 15,
   "metadata": {},
   "outputs": [
    {
     "name": "stdout",
     "output_type": "stream",
     "text": [
      "              precision    recall  f1-score   support\n",
      "\n",
      "           0       0.88      0.84      0.86       199\n",
      "           1       0.85      0.89      0.87       201\n",
      "\n",
      "    accuracy                           0.86       400\n",
      "   macro avg       0.87      0.86      0.86       400\n",
      "weighted avg       0.87      0.86      0.86       400\n",
      "\n",
      "\n",
      "Accuracy :\t 0.865\n",
      "F1 score :\t 0.8682926829268293\n",
      "AUC :\t\t 0.9313732843321083\n"
     ]
    }
   ],
   "source": [
    "tmvectorizer(stop_words='english', binary=True)"
   ]
  },
  {
   "cell_type": "markdown",
   "metadata": {},
   "source": [
    "#### Lower"
   ]
  },
  {
   "cell_type": "code",
   "execution_count": 16,
   "metadata": {},
   "outputs": [
    {
     "name": "stdout",
     "output_type": "stream",
     "text": [
      "              precision    recall  f1-score   support\n",
      "\n",
      "           0       0.84      0.80      0.82       199\n",
      "           1       0.81      0.85      0.83       201\n",
      "\n",
      "    accuracy                           0.82       400\n",
      "   macro avg       0.83      0.82      0.82       400\n",
      "weighted avg       0.83      0.82      0.82       400\n",
      "\n",
      "\n",
      "Accuracy :\t 0.825\n",
      "F1 score :\t 0.8292682926829269\n",
      "AUC :\t\t 0.9063476586914673\n"
     ]
    }
   ],
   "source": [
    "cmvectorizer(lowercase=True)"
   ]
  },
  {
   "cell_type": "code",
   "execution_count": 17,
   "metadata": {},
   "outputs": [
    {
     "name": "stdout",
     "output_type": "stream",
     "text": [
      "              precision    recall  f1-score   support\n",
      "\n",
      "           0       0.85      0.77      0.81       199\n",
      "           1       0.79      0.86      0.82       201\n",
      "\n",
      "    accuracy                           0.81       400\n",
      "   macro avg       0.82      0.81      0.81       400\n",
      "weighted avg       0.82      0.81      0.81       400\n",
      "\n",
      "\n",
      "Accuracy :\t 0.815\n",
      "F1 score :\t 0.8238095238095237\n",
      "AUC :\t\t 0.8891222280557014\n"
     ]
    }
   ],
   "source": [
    "tmvectorizer(lowercase=True)"
   ]
  },
  {
   "cell_type": "code",
   "execution_count": 18,
   "metadata": {},
   "outputs": [
    {
     "name": "stdout",
     "output_type": "stream",
     "text": [
      "              precision    recall  f1-score   support\n",
      "\n",
      "           0       0.85      0.85      0.85       199\n",
      "           1       0.85      0.85      0.85       201\n",
      "\n",
      "    accuracy                           0.85       400\n",
      "   macro avg       0.85      0.85      0.85       400\n",
      "weighted avg       0.85      0.85      0.85       400\n",
      "\n",
      "\n",
      "Accuracy :\t 0.85\n",
      "F1 score :\t 0.8507462686567164\n",
      "AUC :\t\t 0.9306482662066551\n"
     ]
    }
   ],
   "source": [
    "cmvectorizer(lowercase=True, binary=True)"
   ]
  },
  {
   "cell_type": "code",
   "execution_count": 19,
   "metadata": {},
   "outputs": [
    {
     "name": "stdout",
     "output_type": "stream",
     "text": [
      "              precision    recall  f1-score   support\n",
      "\n",
      "           0       0.88      0.84      0.86       199\n",
      "           1       0.85      0.89      0.87       201\n",
      "\n",
      "    accuracy                           0.86       400\n",
      "   macro avg       0.87      0.86      0.86       400\n",
      "weighted avg       0.87      0.86      0.86       400\n",
      "\n",
      "\n",
      "Accuracy :\t 0.865\n",
      "F1 score :\t 0.8682926829268293\n",
      "AUC :\t\t 0.934598364959124\n"
     ]
    }
   ],
   "source": [
    "tmvectorizer(lowercase=True, binary=True)"
   ]
  },
  {
   "cell_type": "markdown",
   "metadata": {},
   "source": [
    "#### Réduction du dictionnaire"
   ]
  },
  {
   "cell_type": "code",
   "execution_count": 20,
   "metadata": {},
   "outputs": [
    {
     "name": "stdout",
     "output_type": "stream",
     "text": [
      "              precision    recall  f1-score   support\n",
      "\n",
      "           0       0.85      0.83      0.84       199\n",
      "           1       0.84      0.86      0.85       201\n",
      "\n",
      "    accuracy                           0.84       400\n",
      "   macro avg       0.85      0.84      0.84       400\n",
      "weighted avg       0.85      0.84      0.84       400\n",
      "\n",
      "\n",
      "Accuracy :\t 0.845\n",
      "F1 score :\t 0.8472906403940886\n",
      "AUC :\t\t 0.9197229930748269\n"
     ]
    }
   ],
   "source": [
    "cmvectorizer(max_df=.75)"
   ]
  },
  {
   "cell_type": "code",
   "execution_count": 21,
   "metadata": {},
   "outputs": [
    {
     "name": "stdout",
     "output_type": "stream",
     "text": [
      "              precision    recall  f1-score   support\n",
      "\n",
      "           0       0.86      0.80      0.83       199\n",
      "           1       0.82      0.88      0.85       201\n",
      "\n",
      "    accuracy                           0.84       400\n",
      "   macro avg       0.84      0.84      0.84       400\n",
      "weighted avg       0.84      0.84      0.84       400\n",
      "\n",
      "\n",
      "Accuracy :\t 0.84\n",
      "F1 score :\t 0.8461538461538461\n",
      "AUC :\t\t 0.9213980349508738\n"
     ]
    }
   ],
   "source": [
    "tmvectorizer(max_df=.75)"
   ]
  },
  {
   "cell_type": "code",
   "execution_count": 22,
   "metadata": {},
   "outputs": [
    {
     "name": "stdout",
     "output_type": "stream",
     "text": [
      "              precision    recall  f1-score   support\n",
      "\n",
      "           0       0.84      0.85      0.85       199\n",
      "           1       0.85      0.85      0.85       201\n",
      "\n",
      "    accuracy                           0.85       400\n",
      "   macro avg       0.85      0.85      0.85       400\n",
      "weighted avg       0.85      0.85      0.85       400\n",
      "\n",
      "\n",
      "Accuracy :\t 0.8475\n",
      "F1 score :\t 0.8478802992518704\n",
      "AUC :\t\t 0.9321483037075926\n"
     ]
    }
   ],
   "source": [
    "cmvectorizer(max_df=.75, binary=True)"
   ]
  },
  {
   "cell_type": "code",
   "execution_count": 23,
   "metadata": {},
   "outputs": [
    {
     "name": "stdout",
     "output_type": "stream",
     "text": [
      "              precision    recall  f1-score   support\n",
      "\n",
      "           0       0.85      0.83      0.84       199\n",
      "           1       0.84      0.86      0.85       201\n",
      "\n",
      "    accuracy                           0.84       400\n",
      "   macro avg       0.85      0.84      0.84       400\n",
      "weighted avg       0.85      0.84      0.84       400\n",
      "\n",
      "\n",
      "Accuracy :\t 0.845\n",
      "F1 score :\t 0.8472906403940886\n",
      "AUC :\t\t 0.9186729668241705\n"
     ]
    }
   ],
   "source": [
    "cmvectorizer(max_df=.75, min_df=len(all_movies_df)//1000)"
   ]
  },
  {
   "cell_type": "code",
   "execution_count": 24,
   "metadata": {},
   "outputs": [
    {
     "name": "stdout",
     "output_type": "stream",
     "text": [
      "              precision    recall  f1-score   support\n",
      "\n",
      "           0       0.88      0.85      0.87       199\n",
      "           1       0.86      0.89      0.87       201\n",
      "\n",
      "    accuracy                           0.87       400\n",
      "   macro avg       0.87      0.87      0.87       400\n",
      "weighted avg       0.87      0.87      0.87       400\n",
      "\n",
      "\n",
      "Accuracy :\t 0.87\n",
      "F1 score :\t 0.8731707317073171\n",
      "AUC :\t\t 0.9364234105852647\n"
     ]
    }
   ],
   "source": [
    "tmvectorizer(max_df=.75, min_df=len(all_movies_df)//1000, binary=True)"
   ]
  },
  {
   "cell_type": "code",
   "execution_count": 25,
   "metadata": {},
   "outputs": [
    {
     "name": "stdout",
     "output_type": "stream",
     "text": [
      "              precision    recall  f1-score   support\n",
      "\n",
      "           0       0.74      0.70      0.72       199\n",
      "           1       0.72      0.76      0.74       201\n",
      "\n",
      "    accuracy                           0.73       400\n",
      "   macro avg       0.73      0.73      0.73       400\n",
      "weighted avg       0.73      0.73      0.73       400\n",
      "\n",
      "\n",
      "Accuracy :\t 0.7275\n",
      "F1 score :\t 0.7360774818401937\n",
      "AUC :\t\t 0.8304707617690442\n"
     ]
    }
   ],
   "source": [
    "cmvectorizer(lowercase=True, binary=True, ngram_range=(1, 2), max_features=1000)"
   ]
  },
  {
   "cell_type": "code",
   "execution_count": 26,
   "metadata": {},
   "outputs": [
    {
     "name": "stdout",
     "output_type": "stream",
     "text": [
      "              precision    recall  f1-score   support\n",
      "\n",
      "           0       0.78      0.74      0.76       199\n",
      "           1       0.76      0.80      0.78       201\n",
      "\n",
      "    accuracy                           0.77       400\n",
      "   macro avg       0.77      0.77      0.77       400\n",
      "weighted avg       0.77      0.77      0.77       400\n",
      "\n",
      "\n",
      "Accuracy :\t 0.77\n",
      "F1 score :\t 0.7766990291262135\n",
      "AUC :\t\t 0.8685967149178729\n"
     ]
    }
   ],
   "source": [
    "tmvectorizer(lowercase=True, binary=True, ngram_range=(1, 2), max_features=1000)"
   ]
  },
  {
   "cell_type": "code",
   "execution_count": 27,
   "metadata": {},
   "outputs": [
    {
     "name": "stdout",
     "output_type": "stream",
     "text": [
      "              precision    recall  f1-score   support\n",
      "\n",
      "           0       0.84      0.84      0.84       199\n",
      "           1       0.84      0.85      0.84       201\n",
      "\n",
      "    accuracy                           0.84       400\n",
      "   macro avg       0.84      0.84      0.84       400\n",
      "weighted avg       0.84      0.84      0.84       400\n",
      "\n",
      "\n",
      "Accuracy :\t 0.8425\n",
      "F1 score :\t 0.8436724565756825\n",
      "AUC :\t\t 0.9305232630815771\n"
     ]
    }
   ],
   "source": [
    "cmvectorizer(lowercase=True, binary=True, ngram_range=(1, 2), max_features=10_000)"
   ]
  },
  {
   "cell_type": "code",
   "execution_count": 28,
   "metadata": {},
   "outputs": [
    {
     "name": "stdout",
     "output_type": "stream",
     "text": [
      "              precision    recall  f1-score   support\n",
      "\n",
      "           0       0.83      0.82      0.83       199\n",
      "           1       0.82      0.84      0.83       201\n",
      "\n",
      "    accuracy                           0.83       400\n",
      "   macro avg       0.83      0.83      0.83       400\n",
      "weighted avg       0.83      0.83      0.83       400\n",
      "\n",
      "\n",
      "Accuracy :\t 0.8275\n",
      "F1 score :\t 0.8296296296296296\n",
      "AUC :\t\t 0.9113977849446236\n"
     ]
    }
   ],
   "source": [
    "cmvectorizer(lowercase=True, binary=False, ngram_range=(1, 2), max_features=10_000)"
   ]
  },
  {
   "cell_type": "code",
   "execution_count": 29,
   "metadata": {},
   "outputs": [
    {
     "name": "stdout",
     "output_type": "stream",
     "text": [
      "              precision    recall  f1-score   support\n",
      "\n",
      "           0       0.86      0.86      0.86       199\n",
      "           1       0.86      0.86      0.86       201\n",
      "\n",
      "    accuracy                           0.86       400\n",
      "   macro avg       0.86      0.86      0.86       400\n",
      "weighted avg       0.86      0.86      0.86       400\n",
      "\n",
      "\n",
      "Accuracy :\t 0.86\n",
      "F1 score :\t 0.86\n",
      "AUC :\t\t 0.9365484137103427\n"
     ]
    }
   ],
   "source": [
    "cmvectorizer(lowercase=True, binary=True, ngram_range=(1, 2), max_features=20_000)"
   ]
  },
  {
   "cell_type": "code",
   "execution_count": 30,
   "metadata": {},
   "outputs": [
    {
     "name": "stdout",
     "output_type": "stream",
     "text": [
      "              precision    recall  f1-score   support\n",
      "\n",
      "           0       0.86      0.87      0.86       199\n",
      "           1       0.87      0.86      0.86       201\n",
      "\n",
      "    accuracy                           0.86       400\n",
      "   macro avg       0.87      0.87      0.86       400\n",
      "weighted avg       0.87      0.86      0.86       400\n",
      "\n",
      "\n",
      "Accuracy :\t 0.865\n",
      "F1 score :\t 0.865\n",
      "AUC :\t\t 0.940198504962624\n"
     ]
    }
   ],
   "source": [
    "cmvectorizer(lowercase=True, binary=True, ngram_range=(1, 2), max_features=40_000)"
   ]
  },
  {
   "cell_type": "code",
   "execution_count": 31,
   "metadata": {},
   "outputs": [
    {
     "name": "stdout",
     "output_type": "stream",
     "text": [
      "              precision    recall  f1-score   support\n",
      "\n",
      "           0       0.88      0.88      0.88       199\n",
      "           1       0.88      0.88      0.88       201\n",
      "\n",
      "    accuracy                           0.88       400\n",
      "   macro avg       0.88      0.88      0.88       400\n",
      "weighted avg       0.88      0.88      0.88       400\n",
      "\n",
      "\n",
      "Accuracy :\t 0.88\n",
      "F1 score :\t 0.8805970149253731\n",
      "AUC :\t\t 0.9393984849621241\n"
     ]
    }
   ],
   "source": [
    "cmvectorizer(lowercase=True, binary=True, ngram_range=(1, 3), max_features=40_000)"
   ]
  },
  {
   "cell_type": "markdown",
   "metadata": {},
   "source": [
    "#### Suppressions : ponctuation, chiffres, majuscules, etc."
   ]
  },
  {
   "cell_type": "code",
   "execution_count": 32,
   "metadata": {},
   "outputs": [],
   "source": [
    "# fonction de preprocessing : suppression de balise, mots maj, chiffres, ponctuation\n",
    "f = lambda doc: utils.delete_balise( utils.replace_maj_word( utils.delete_digit( utils.delete_punctuation(doc) ) ) )"
   ]
  },
  {
   "cell_type": "code",
   "execution_count": 33,
   "metadata": {},
   "outputs": [
    {
     "name": "stdout",
     "output_type": "stream",
     "text": [
      "              precision    recall  f1-score   support\n",
      "\n",
      "           0       0.84      0.81      0.82       199\n",
      "           1       0.82      0.85      0.83       201\n",
      "\n",
      "    accuracy                           0.83       400\n",
      "   macro avg       0.83      0.83      0.83       400\n",
      "weighted avg       0.83      0.83      0.83       400\n",
      "\n",
      "\n",
      "Accuracy :\t 0.8275\n",
      "F1 score :\t 0.8312958435207823\n",
      "AUC :\t\t 0.9086477161929049\n"
     ]
    }
   ],
   "source": [
    "cmvectorizer(preprocessor=utils.delete_punctuation)"
   ]
  },
  {
   "cell_type": "code",
   "execution_count": 34,
   "metadata": {},
   "outputs": [
    {
     "name": "stdout",
     "output_type": "stream",
     "text": [
      "              precision    recall  f1-score   support\n",
      "\n",
      "           0       0.88      0.87      0.88       199\n",
      "           1       0.87      0.89      0.88       201\n",
      "\n",
      "    accuracy                           0.88       400\n",
      "   macro avg       0.88      0.88      0.88       400\n",
      "weighted avg       0.88      0.88      0.88       400\n",
      "\n",
      "\n",
      "Accuracy :\t 0.8775\n",
      "F1 score :\t 0.8790123456790123\n",
      "AUC :\t\t 0.9432485812145303\n"
     ]
    }
   ],
   "source": [
    "cmvectorizer(preprocessor=utils.delete_punctuation, lowercase=True, binary=True, ngram_range=(1, 3), \n",
    "             max_features=40_000, tokenizer=word_tokenize)"
   ]
  },
  {
   "cell_type": "code",
   "execution_count": 35,
   "metadata": {},
   "outputs": [
    {
     "name": "stdout",
     "output_type": "stream",
     "text": [
      "              precision    recall  f1-score   support\n",
      "\n",
      "           0       0.85      0.86      0.86       199\n",
      "           1       0.86      0.86      0.86       201\n",
      "\n",
      "    accuracy                           0.86       400\n",
      "   macro avg       0.86      0.86      0.86       400\n",
      "weighted avg       0.86      0.86      0.86       400\n",
      "\n",
      "\n",
      "Accuracy :\t 0.8575\n",
      "F1 score :\t 0.85785536159601\n",
      "AUC :\t\t 0.9434235855896397\n"
     ]
    }
   ],
   "source": [
    "cmvectorizer(preprocessor=f, lowercase=True, binary=True, ngram_range=(1, 2), \n",
    "             max_features=40_000, tokenizer=word_tokenize)"
   ]
  },
  {
   "cell_type": "code",
   "execution_count": 36,
   "metadata": {},
   "outputs": [
    {
     "name": "stdout",
     "output_type": "stream",
     "text": [
      "              precision    recall  f1-score   support\n",
      "\n",
      "           0       0.86      0.87      0.86       199\n",
      "           1       0.87      0.86      0.86       201\n",
      "\n",
      "    accuracy                           0.86       400\n",
      "   macro avg       0.87      0.87      0.86       400\n",
      "weighted avg       0.87      0.86      0.86       400\n",
      "\n",
      "\n",
      "Accuracy :\t 0.865\n",
      "F1 score :\t 0.865\n",
      "AUC :\t\t 0.9413735343383585\n"
     ]
    }
   ],
   "source": [
    "cmvectorizer(preprocessor=f, lowercase=True, binary=True, ngram_range=(1, 2), \n",
    "             max_features=40_000)"
   ]
  },
  {
   "cell_type": "code",
   "execution_count": 37,
   "metadata": {},
   "outputs": [
    {
     "name": "stdout",
     "output_type": "stream",
     "text": [
      "              precision    recall  f1-score   support\n",
      "\n",
      "           0       0.88      0.86      0.87       199\n",
      "           1       0.86      0.88      0.87       201\n",
      "\n",
      "    accuracy                           0.87       400\n",
      "   macro avg       0.87      0.87      0.87       400\n",
      "weighted avg       0.87      0.87      0.87       400\n",
      "\n",
      "\n",
      "Accuracy :\t 0.87\n",
      "F1 score :\t 0.8719211822660099\n",
      "AUC :\t\t 0.9374234355858897\n"
     ]
    }
   ],
   "source": [
    "tmvectorizer(preprocessor=f, lowercase=True, binary=True, ngram_range=(1, 2), \n",
    "             max_features=40_000)"
   ]
  },
  {
   "cell_type": "code",
   "execution_count": 38,
   "metadata": {},
   "outputs": [
    {
     "name": "stdout",
     "output_type": "stream",
     "text": [
      "              precision    recall  f1-score   support\n",
      "\n",
      "           0       0.86      0.85      0.86       199\n",
      "           1       0.86      0.87      0.86       201\n",
      "\n",
      "    accuracy                           0.86       400\n",
      "   macro avg       0.86      0.86      0.86       400\n",
      "weighted avg       0.86      0.86      0.86       400\n",
      "\n",
      "\n",
      "Accuracy :\t 0.86\n",
      "F1 score :\t 0.8613861386138614\n",
      "AUC :\t\t 0.9454486362159054\n"
     ]
    }
   ],
   "source": [
    "cmvectorizer(preprocessor=utils.replace_maj_word, binary=True, ngram_range=(1, 2), \n",
    "             max_features=40_000, tokenizer=word_tokenize)"
   ]
  },
  {
   "cell_type": "code",
   "execution_count": null,
   "metadata": {},
   "outputs": [],
   "source": []
  }
 ],
 "metadata": {
  "kernelspec": {
   "display_name": "Python 3 (ipykernel)",
   "language": "python",
   "name": "python3"
  },
  "language_info": {
   "codemirror_mode": {
    "name": "ipython",
    "version": 3
   },
   "file_extension": ".py",
   "mimetype": "text/x-python",
   "name": "python",
   "nbconvert_exporter": "python",
   "pygments_lexer": "ipython3",
   "version": "3.9.13"
  }
 },
 "nbformat": 4,
 "nbformat_minor": 2
}
