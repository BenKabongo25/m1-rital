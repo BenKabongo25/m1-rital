{
 "cells": [
  {
   "cell_type": "markdown",
   "metadata": {},
   "source": [
    "**Ben KABONGO**, *21116436*, M1 DAC"
   ]
  },
  {
   "cell_type": "markdown",
   "metadata": {},
   "source": [
    "# NLP & representation learning: Neural Embeddings, Text Classification\n",
    "\n",
    "\n",
    "To use statistical classifiers with text, it is first necessary to vectorize the text. In the first practical session we explored the **Bag of Word (BoW)** model. \n",
    "\n",
    "Modern **state of the art** methods uses  embeddings to vectorize the text before classification in order to avoid feature engineering.\n",
    "\n",
    "## [Dataset](https://thome.isir.upmc.fr/classes/RITAL/json_pol)\n",
    "\n",
    "\n",
    "## \"Modern\" NLP pipeline\n",
    "\n",
    "By opposition to the **bag of word** model, in the modern NLP pipeline everything is **embeddings**. Instead of encoding a text as a **sparse vector** of length $D$ (size of feature dictionnary) the goal is to encode the text in a meaningful dense vector of a small size $|e| <<< |D|$. \n",
    "\n",
    "\n",
    "The raw classification pipeline is then the following:\n",
    "\n",
    "```\n",
    "raw text ---|embedding table|-->  vectors --|Neural Net|--> class \n",
    "```\n",
    "\n",
    "\n",
    "### Using a  language model:\n",
    "\n",
    "How to tokenize the text and extract a feature dictionnary is still a manual task. To directly have meaningful embeddings, it is common to use a pre-trained language model such as `word2vec` which we explore in this practical.\n",
    "\n",
    "In this setting, the pipeline becomes the following:\n",
    "```\n",
    "      \n",
    "raw text ---|(pre-trained) Language Model|--> vectors --|classifier (or fine-tuning)|--> class \n",
    "```\n",
    "\n",
    "\n",
    "- #### Classic word embeddings\n",
    "\n",
    " - [Word2Vec](https://arxiv.org/abs/1301.3781)\n",
    " - [Glove](https://nlp.stanford.edu/projects/glove/)\n",
    "\n",
    "\n",
    "- #### bleeding edge language models techniques (see next)\n",
    "\n",
    " - [UMLFIT](https://arxiv.org/abs/1801.06146)\n",
    " - [ELMO](https://arxiv.org/abs/1802.05365)\n",
    " - [GPT](https://blog.openai.com/language-unsupervised/)\n",
    " - [BERT](https://arxiv.org/abs/1810.04805)\n",
    "\n",
    "\n",
    "\n",
    "\n",
    "\n",
    "\n",
    "### Goal of this session:\n",
    "\n",
    "1. Train word embeddings on training dataset\n",
    "2. Tinker with the learnt embeddings and see learnt relations\n",
    "3. Tinker with pre-trained embeddings.\n",
    "4. Use those embeddings for classification\n",
    "5. Compare different embedding models\n",
    "6. Pytorch first look: learn to generate text."
   ]
  },
  {
   "cell_type": "markdown",
   "metadata": {},
   "source": [
    "## STEP 0: Loading data "
   ]
  },
  {
   "cell_type": "code",
   "execution_count": 1,
   "metadata": {},
   "outputs": [
    {
     "name": "stdout",
     "output_type": "stream",
     "text": [
      "Number of train reviews :  25000\n",
      "----> # of positive :  12500\n",
      "----> # of negative :  12500\n",
      "\n",
      "[\"The undoubted highlight of this movie is Peter O'Toole's performance. In turn wildly comical and terribly terribly tragic. Does anybody do it better than O'Toole? I don't think so. What a great face that man has!<br /><br />The story is an odd one and quite disturbing and emotionally intense in parts (especially toward the end) but it is also oddly touching and does succeed on many levels. However, I felt the film basically revolved around Peter O'Toole's luminous performance and I'm sure I wouldn't have enjoyed it even half as much if he hadn't been in it.\", 1]\n",
      "\n",
      "Number of test reviews :  25000\n",
      "----> # of positive :  12500\n",
      "----> # of negative :  12500\n",
      "\n",
      "['Although credit should have been given to Dr. Seuess for stealing the story-line of \"Horton Hatches The Egg\", this was a fine film. It touched both the emotions and the intellect. Due especially to the incredible performance of seven year old Justin Henry and a script that was sympathetic to each character (and each one\\'s predicament), the thought provoking elements linger long after the tear jerking ones are over. Overall, superior acting from a solid cast, excellent directing, and a very powerful script. The right touches of humor throughout help keep a \"heavy\" subject from becoming tedious or difficult to sit through. Lastly, this film stands the test of time and seems in no way dated, decades after it was released.', 1]\n",
      "\n"
     ]
    }
   ],
   "source": [
    "import json\n",
    "from collections import Counter\n",
    "\n",
    "# Loading json\n",
    "with open(\"ressources/json_pol\",encoding=\"utf-8\") as f:\n",
    "    data = f.readlines()\n",
    "    json_data = json.loads(data[0])\n",
    "    train = json_data[\"train\"]\n",
    "    test = json_data[\"test\"]\n",
    "    \n",
    "\n",
    "# Quick Check\n",
    "counter_train = Counter((x[1] for x in train))\n",
    "counter_test = Counter((x[1] for x in test))\n",
    "print(\"Number of train reviews : \", len(train))\n",
    "print(\"----> # of positive : \", counter_train[1])\n",
    "print(\"----> # of negative : \", counter_train[0])\n",
    "print(\"\")\n",
    "print(train[0])\n",
    "print(\"\")\n",
    "print(\"Number of test reviews : \",len(test))\n",
    "print(\"----> # of positive : \", counter_test[1])\n",
    "print(\"----> # of negative : \", counter_test[0])\n",
    "\n",
    "print(\"\")\n",
    "print(test[0])\n",
    "print(\"\")"
   ]
  },
  {
   "cell_type": "code",
   "execution_count": 2,
   "metadata": {},
   "outputs": [],
   "source": [
    "import string\n",
    "import re\n",
    "\n",
    "def preprocess(text):\n",
    "    text = re.sub('[0-9]+', '', text)\n",
    "    punc = string.punctuation \n",
    "    punc += '\\n\\r\\t'\n",
    "    return text.translate(str.maketrans(punc, ' ' * len(punc)))"
   ]
  },
  {
   "cell_type": "code",
   "execution_count": 3,
   "metadata": {},
   "outputs": [
    {
     "data": {
      "text/html": [
       "<div>\n",
       "<style scoped>\n",
       "    .dataframe tbody tr th:only-of-type {\n",
       "        vertical-align: middle;\n",
       "    }\n",
       "\n",
       "    .dataframe tbody tr th {\n",
       "        vertical-align: top;\n",
       "    }\n",
       "\n",
       "    .dataframe thead th {\n",
       "        text-align: right;\n",
       "    }\n",
       "</style>\n",
       "<table border=\"1\" class=\"dataframe\">\n",
       "  <thead>\n",
       "    <tr style=\"text-align: right;\">\n",
       "      <th></th>\n",
       "      <th>text</th>\n",
       "      <th>label</th>\n",
       "    </tr>\n",
       "  </thead>\n",
       "  <tbody>\n",
       "    <tr>\n",
       "      <th>0</th>\n",
       "      <td>The undoubted highlight of this movie is Peter...</td>\n",
       "      <td>1</td>\n",
       "    </tr>\n",
       "    <tr>\n",
       "      <th>1</th>\n",
       "      <td>More eeriness and dark secrets released in the...</td>\n",
       "      <td>1</td>\n",
       "    </tr>\n",
       "    <tr>\n",
       "      <th>2</th>\n",
       "      <td>This was one of those films I probably never w...</td>\n",
       "      <td>1</td>\n",
       "    </tr>\n",
       "    <tr>\n",
       "      <th>3</th>\n",
       "      <td>i love this film. the songs and story lines ar...</td>\n",
       "      <td>1</td>\n",
       "    </tr>\n",
       "    <tr>\n",
       "      <th>4</th>\n",
       "      <td>I really truly enjoyed this movie. (Which is w...</td>\n",
       "      <td>1</td>\n",
       "    </tr>\n",
       "    <tr>\n",
       "      <th>...</th>\n",
       "      <td>...</td>\n",
       "      <td>...</td>\n",
       "    </tr>\n",
       "    <tr>\n",
       "      <th>24995</th>\n",
       "      <td>\"Arahan\" adds nothing positive to the Kung Fu ...</td>\n",
       "      <td>0</td>\n",
       "    </tr>\n",
       "    <tr>\n",
       "      <th>24996</th>\n",
       "      <td>I'm not sure quite why I clicked \"contains spo...</td>\n",
       "      <td>0</td>\n",
       "    </tr>\n",
       "    <tr>\n",
       "      <th>24997</th>\n",
       "      <td>In fact, Marc Blitzstein's off-Broadway adapta...</td>\n",
       "      <td>0</td>\n",
       "    </tr>\n",
       "    <tr>\n",
       "      <th>24998</th>\n",
       "      <td>(Spoilers galore) This is an absolutely awful ...</td>\n",
       "      <td>0</td>\n",
       "    </tr>\n",
       "    <tr>\n",
       "      <th>24999</th>\n",
       "      <td>As a premise, this backwoods version of the De...</td>\n",
       "      <td>0</td>\n",
       "    </tr>\n",
       "  </tbody>\n",
       "</table>\n",
       "<p>25000 rows × 2 columns</p>\n",
       "</div>"
      ],
      "text/plain": [
       "                                                    text  label\n",
       "0      The undoubted highlight of this movie is Peter...      1\n",
       "1      More eeriness and dark secrets released in the...      1\n",
       "2      This was one of those films I probably never w...      1\n",
       "3      i love this film. the songs and story lines ar...      1\n",
       "4      I really truly enjoyed this movie. (Which is w...      1\n",
       "...                                                  ...    ...\n",
       "24995  \"Arahan\" adds nothing positive to the Kung Fu ...      0\n",
       "24996  I'm not sure quite why I clicked \"contains spo...      0\n",
       "24997  In fact, Marc Blitzstein's off-Broadway adapta...      0\n",
       "24998  (Spoilers galore) This is an absolutely awful ...      0\n",
       "24999  As a premise, this backwoods version of the De...      0\n",
       "\n",
       "[25000 rows x 2 columns]"
      ]
     },
     "execution_count": 3,
     "metadata": {},
     "output_type": "execute_result"
    }
   ],
   "source": [
    "import pandas as pd\n",
    "train_df = pd.DataFrame(train, columns=['text', 'label'])\n",
    "train_df"
   ]
  },
  {
   "cell_type": "code",
   "execution_count": 4,
   "metadata": {},
   "outputs": [
    {
     "data": {
      "text/html": [
       "<div>\n",
       "<style scoped>\n",
       "    .dataframe tbody tr th:only-of-type {\n",
       "        vertical-align: middle;\n",
       "    }\n",
       "\n",
       "    .dataframe tbody tr th {\n",
       "        vertical-align: top;\n",
       "    }\n",
       "\n",
       "    .dataframe thead th {\n",
       "        text-align: right;\n",
       "    }\n",
       "</style>\n",
       "<table border=\"1\" class=\"dataframe\">\n",
       "  <thead>\n",
       "    <tr style=\"text-align: right;\">\n",
       "      <th></th>\n",
       "      <th>text</th>\n",
       "      <th>label</th>\n",
       "    </tr>\n",
       "  </thead>\n",
       "  <tbody>\n",
       "    <tr>\n",
       "      <th>0</th>\n",
       "      <td>Although credit should have been given to Dr. ...</td>\n",
       "      <td>1</td>\n",
       "    </tr>\n",
       "    <tr>\n",
       "      <th>1</th>\n",
       "      <td>This was one of those films I would always com...</td>\n",
       "      <td>1</td>\n",
       "    </tr>\n",
       "    <tr>\n",
       "      <th>2</th>\n",
       "      <td>The Man Who Knew Too Much{1956}is a remake of ...</td>\n",
       "      <td>1</td>\n",
       "    </tr>\n",
       "    <tr>\n",
       "      <th>3</th>\n",
       "      <td>Jamie Foxx does a fine job of impersonating th...</td>\n",
       "      <td>1</td>\n",
       "    </tr>\n",
       "    <tr>\n",
       "      <th>4</th>\n",
       "      <td>12/17/01 All I can do with this film is improv...</td>\n",
       "      <td>1</td>\n",
       "    </tr>\n",
       "    <tr>\n",
       "      <th>...</th>\n",
       "      <td>...</td>\n",
       "      <td>...</td>\n",
       "    </tr>\n",
       "    <tr>\n",
       "      <th>24995</th>\n",
       "      <td>I wasn't impressed with the Graffiti Artist, d...</td>\n",
       "      <td>0</td>\n",
       "    </tr>\n",
       "    <tr>\n",
       "      <th>24996</th>\n",
       "      <td>Here is a rundown of a typical Rachael Ray Sho...</td>\n",
       "      <td>0</td>\n",
       "    </tr>\n",
       "    <tr>\n",
       "      <th>24997</th>\n",
       "      <td>Wow...not in a good way.&lt;br /&gt;&lt;br /&gt;I can't be...</td>\n",
       "      <td>0</td>\n",
       "    </tr>\n",
       "    <tr>\n",
       "      <th>24998</th>\n",
       "      <td>This movie made me want to bang my head agains...</td>\n",
       "      <td>0</td>\n",
       "    </tr>\n",
       "    <tr>\n",
       "      <th>24999</th>\n",
       "      <td>Director Todd Verow's unexpected turn into sen...</td>\n",
       "      <td>0</td>\n",
       "    </tr>\n",
       "  </tbody>\n",
       "</table>\n",
       "<p>25000 rows × 2 columns</p>\n",
       "</div>"
      ],
      "text/plain": [
       "                                                    text  label\n",
       "0      Although credit should have been given to Dr. ...      1\n",
       "1      This was one of those films I would always com...      1\n",
       "2      The Man Who Knew Too Much{1956}is a remake of ...      1\n",
       "3      Jamie Foxx does a fine job of impersonating th...      1\n",
       "4      12/17/01 All I can do with this film is improv...      1\n",
       "...                                                  ...    ...\n",
       "24995  I wasn't impressed with the Graffiti Artist, d...      0\n",
       "24996  Here is a rundown of a typical Rachael Ray Sho...      0\n",
       "24997  Wow...not in a good way.<br /><br />I can't be...      0\n",
       "24998  This movie made me want to bang my head agains...      0\n",
       "24999  Director Todd Verow's unexpected turn into sen...      0\n",
       "\n",
       "[25000 rows x 2 columns]"
      ]
     },
     "execution_count": 4,
     "metadata": {},
     "output_type": "execute_result"
    }
   ],
   "source": [
    "test_df = pd.DataFrame(test, columns=['text', 'label'])\n",
    "test_df"
   ]
  },
  {
   "cell_type": "markdown",
   "metadata": {},
   "source": [
    "## Word2Vec: Quick Recap\n",
    "\n",
    "**[Word2Vec](https://arxiv.org/abs/1301.3781) is composed of two distinct language models (CBOW and SG), optimized to quickly learn word vectors**\n",
    "\n",
    "\n",
    "given a random text: `i'm taking the dog out for a walk`\n",
    "\n",
    "\n",
    "\n",
    "### (a) Continuous Bag of Word (CBOW)\n",
    "    -  predicts a word given a context\n",
    "    \n",
    "maximizing `p(dog | i'm taking the ___ out for a walk)`\n",
    "    \n",
    "### (b) Skip-Gram (SG)               \n",
    "    -  predicts a context given a word\n",
    "    \n",
    " maximizing `p(i'm taking the out for a walk | dog)`\n",
    "\n",
    "\n",
    "\n",
    "   "
   ]
  },
  {
   "cell_type": "markdown",
   "metadata": {},
   "source": [
    "## STEP 1: train a language model (word2vec)\n",
    "\n",
    "Gensim has one of [Word2Vec](https://radimrehurek.com/gensim/models/word2vec.html) fastest implementation.\n",
    "\n",
    "\n",
    "### Train:"
   ]
  },
  {
   "cell_type": "code",
   "execution_count": 5,
   "metadata": {},
   "outputs": [],
   "source": [
    "# if gensim not installed yet\n",
    "# ! pip install gensim"
   ]
  },
  {
   "cell_type": "code",
   "execution_count": 6,
   "metadata": {
    "scrolled": false
   },
   "outputs": [
    {
     "name": "stderr",
     "output_type": "stream",
     "text": [
      "2023-02-16 00:09:38,413 : INFO : collecting all words and their counts\n",
      "2023-02-16 00:09:38,414 : INFO : PROGRESS: at sentence #0, processed 0 words, keeping 0 word types\n",
      "2023-02-16 00:09:38,707 : INFO : PROGRESS: at sentence #10000, processed 2426102 words, keeping 61702 word types\n",
      "2023-02-16 00:09:39,011 : INFO : PROGRESS: at sentence #20000, processed 4816878 words, keeping 84298 word types\n",
      "2023-02-16 00:09:39,153 : INFO : collected 93201 word types from a corpus of 6022875 raw words and 25000 sentences\n",
      "2023-02-16 00:09:39,154 : INFO : Creating a fresh vocabulary\n",
      "2023-02-16 00:09:39,239 : INFO : Word2Vec lifecycle event {'msg': 'effective_min_count=5 retains 33359 unique words (35.79253441486679%% of original 93201, drops 59842)', 'datetime': '2023-02-16T00:09:39.239185', 'gensim': '4.1.2', 'python': '3.9.13 (main, Aug 25 2022, 18:29:29) \\n[Clang 12.0.0 ]', 'platform': 'macOS-10.16-x86_64-i386-64bit', 'event': 'prepare_vocab'}\n",
      "2023-02-16 00:09:39,239 : INFO : Word2Vec lifecycle event {'msg': 'effective_min_count=5 leaves 5924674 word corpus (98.36953282277982%% of original 6022875, drops 98201)', 'datetime': '2023-02-16T00:09:39.239596', 'gensim': '4.1.2', 'python': '3.9.13 (main, Aug 25 2022, 18:29:29) \\n[Clang 12.0.0 ]', 'platform': 'macOS-10.16-x86_64-i386-64bit', 'event': 'prepare_vocab'}\n",
      "2023-02-16 00:09:39,351 : INFO : deleting the raw counts dictionary of 93201 items\n",
      "2023-02-16 00:09:39,352 : INFO : sample=0.001 downsamples 47 most-common words\n",
      "2023-02-16 00:09:39,354 : INFO : Word2Vec lifecycle event {'msg': 'downsampling leaves estimated 4500851.640108086 word corpus (76.0%% of prior 5924674)', 'datetime': '2023-02-16T00:09:39.354262', 'gensim': '4.1.2', 'python': '3.9.13 (main, Aug 25 2022, 18:29:29) \\n[Clang 12.0.0 ]', 'platform': 'macOS-10.16-x86_64-i386-64bit', 'event': 'prepare_vocab'}\n",
      "2023-02-16 00:09:39,577 : INFO : estimated required memory for 33359 words and 100 dimensions: 43366700 bytes\n",
      "2023-02-16 00:09:39,578 : INFO : resetting layer weights\n",
      "2023-02-16 00:09:39,591 : INFO : Word2Vec lifecycle event {'update': False, 'trim_rule': 'None', 'datetime': '2023-02-16T00:09:39.591636', 'gensim': '4.1.2', 'python': '3.9.13 (main, Aug 25 2022, 18:29:29) \\n[Clang 12.0.0 ]', 'platform': 'macOS-10.16-x86_64-i386-64bit', 'event': 'build_vocab'}\n",
      "2023-02-16 00:09:39,592 : INFO : Word2Vec lifecycle event {'msg': 'training model with 3 workers on 33359 vocabulary and 100 features, using sg=1 hs=0 sample=0.001 negative=5 window=5 shrink_windows=True', 'datetime': '2023-02-16T00:09:39.592068', 'gensim': '4.1.2', 'python': '3.9.13 (main, Aug 25 2022, 18:29:29) \\n[Clang 12.0.0 ]', 'platform': 'macOS-10.16-x86_64-i386-64bit', 'event': 'train'}\n",
      "2023-02-16 00:09:40,625 : INFO : EPOCH 1 - PROGRESS: at 9.78% examples, 434529 words/s, in_qsize 5, out_qsize 0\n",
      "2023-02-16 00:09:41,631 : INFO : EPOCH 1 - PROGRESS: at 19.68% examples, 438857 words/s, in_qsize 5, out_qsize 0\n",
      "2023-02-16 00:09:42,640 : INFO : EPOCH 1 - PROGRESS: at 29.54% examples, 439697 words/s, in_qsize 5, out_qsize 0\n",
      "2023-02-16 00:09:43,643 : INFO : EPOCH 1 - PROGRESS: at 39.54% examples, 442209 words/s, in_qsize 5, out_qsize 0\n",
      "2023-02-16 00:09:44,652 : INFO : EPOCH 1 - PROGRESS: at 48.80% examples, 437969 words/s, in_qsize 5, out_qsize 0\n",
      "2023-02-16 00:09:45,655 : INFO : EPOCH 1 - PROGRESS: at 58.68% examples, 438147 words/s, in_qsize 5, out_qsize 0\n",
      "2023-02-16 00:09:46,669 : INFO : EPOCH 1 - PROGRESS: at 68.53% examples, 437698 words/s, in_qsize 5, out_qsize 0\n",
      "2023-02-16 00:09:47,687 : INFO : EPOCH 1 - PROGRESS: at 78.57% examples, 436944 words/s, in_qsize 5, out_qsize 0\n",
      "2023-02-16 00:09:48,691 : INFO : EPOCH 1 - PROGRESS: at 87.93% examples, 435635 words/s, in_qsize 5, out_qsize 0\n",
      "2023-02-16 00:09:49,696 : INFO : EPOCH 1 - PROGRESS: at 97.47% examples, 434655 words/s, in_qsize 5, out_qsize 0\n",
      "2023-02-16 00:09:49,906 : INFO : worker thread finished; awaiting finish of 2 more threads\n",
      "2023-02-16 00:09:49,919 : INFO : worker thread finished; awaiting finish of 1 more threads\n",
      "2023-02-16 00:09:49,939 : INFO : worker thread finished; awaiting finish of 0 more threads\n",
      "2023-02-16 00:09:49,939 : INFO : EPOCH - 1 : training on 6022875 raw words (4500753 effective words) took 10.3s, 435100 effective words/s\n",
      "2023-02-16 00:09:50,957 : INFO : EPOCH 2 - PROGRESS: at 9.24% examples, 418089 words/s, in_qsize 5, out_qsize 0\n",
      "2023-02-16 00:09:51,973 : INFO : EPOCH 2 - PROGRESS: at 19.07% examples, 425208 words/s, in_qsize 5, out_qsize 0\n",
      "2023-02-16 00:09:52,974 : INFO : EPOCH 2 - PROGRESS: at 29.00% examples, 433814 words/s, in_qsize 5, out_qsize 0\n",
      "2023-02-16 00:09:54,002 : INFO : EPOCH 2 - PROGRESS: at 39.20% examples, 436952 words/s, in_qsize 5, out_qsize 0\n",
      "2023-02-16 00:09:55,004 : INFO : EPOCH 2 - PROGRESS: at 49.12% examples, 440130 words/s, in_qsize 5, out_qsize 0\n",
      "2023-02-16 00:09:56,024 : INFO : EPOCH 2 - PROGRESS: at 59.15% examples, 439865 words/s, in_qsize 5, out_qsize 0\n",
      "2023-02-16 00:09:57,028 : INFO : EPOCH 2 - PROGRESS: at 69.07% examples, 439756 words/s, in_qsize 5, out_qsize 0\n",
      "2023-02-16 00:09:58,030 : INFO : EPOCH 2 - PROGRESS: at 79.27% examples, 440581 words/s, in_qsize 5, out_qsize 0\n",
      "2023-02-16 00:09:59,056 : INFO : EPOCH 2 - PROGRESS: at 89.32% examples, 441138 words/s, in_qsize 5, out_qsize 0\n",
      "2023-02-16 00:10:00,058 : INFO : EPOCH 2 - PROGRESS: at 99.36% examples, 441918 words/s, in_qsize 4, out_qsize 0\n",
      "2023-02-16 00:10:00,095 : INFO : worker thread finished; awaiting finish of 2 more threads\n",
      "2023-02-16 00:10:00,103 : INFO : worker thread finished; awaiting finish of 1 more threads\n",
      "2023-02-16 00:10:00,108 : INFO : worker thread finished; awaiting finish of 0 more threads\n",
      "2023-02-16 00:10:00,108 : INFO : EPOCH - 2 : training on 6022875 raw words (4500394 effective words) took 10.2s, 442599 effective words/s\n",
      "2023-02-16 00:10:01,136 : INFO : EPOCH 3 - PROGRESS: at 9.78% examples, 435659 words/s, in_qsize 5, out_qsize 0\n",
      "2023-02-16 00:10:02,156 : INFO : EPOCH 3 - PROGRESS: at 20.02% examples, 443370 words/s, in_qsize 5, out_qsize 0\n",
      "2023-02-16 00:10:03,181 : INFO : EPOCH 3 - PROGRESS: at 30.21% examples, 445403 words/s, in_qsize 5, out_qsize 0\n",
      "2023-02-16 00:10:04,184 : INFO : EPOCH 3 - PROGRESS: at 40.23% examples, 446449 words/s, in_qsize 5, out_qsize 0\n",
      "2023-02-16 00:10:05,211 : INFO : EPOCH 3 - PROGRESS: at 50.24% examples, 447002 words/s, in_qsize 5, out_qsize 0\n",
      "2023-02-16 00:10:06,231 : INFO : EPOCH 3 - PROGRESS: at 60.58% examples, 448074 words/s, in_qsize 5, out_qsize 0\n",
      "2023-02-16 00:10:07,248 : INFO : EPOCH 3 - PROGRESS: at 71.10% examples, 448987 words/s, in_qsize 5, out_qsize 0\n",
      "2023-02-16 00:10:08,259 : INFO : EPOCH 3 - PROGRESS: at 81.27% examples, 448274 words/s, in_qsize 5, out_qsize 0\n",
      "2023-02-16 00:10:09,294 : INFO : EPOCH 3 - PROGRESS: at 91.32% examples, 448239 words/s, in_qsize 5, out_qsize 0\n",
      "2023-02-16 00:10:10,092 : INFO : worker thread finished; awaiting finish of 2 more threads\n",
      "2023-02-16 00:10:10,133 : INFO : worker thread finished; awaiting finish of 1 more threads\n",
      "2023-02-16 00:10:10,137 : INFO : worker thread finished; awaiting finish of 0 more threads\n",
      "2023-02-16 00:10:10,138 : INFO : EPOCH - 3 : training on 6022875 raw words (4500649 effective words) took 10.0s, 448786 effective words/s\n",
      "2023-02-16 00:10:11,164 : INFO : EPOCH 4 - PROGRESS: at 9.78% examples, 435832 words/s, in_qsize 5, out_qsize 0\n",
      "2023-02-16 00:10:12,203 : INFO : EPOCH 4 - PROGRESS: at 19.07% examples, 418631 words/s, in_qsize 5, out_qsize 0\n",
      "2023-02-16 00:10:13,215 : INFO : EPOCH 4 - PROGRESS: at 28.04% examples, 413594 words/s, in_qsize 5, out_qsize 0\n",
      "2023-02-16 00:10:14,222 : INFO : EPOCH 4 - PROGRESS: at 37.84% examples, 420263 words/s, in_qsize 5, out_qsize 0\n",
      "2023-02-16 00:10:15,244 : INFO : EPOCH 4 - PROGRESS: at 47.84% examples, 425130 words/s, in_qsize 5, out_qsize 0\n",
      "2023-02-16 00:10:16,267 : INFO : EPOCH 4 - PROGRESS: at 58.21% examples, 429558 words/s, in_qsize 5, out_qsize 0\n",
      "2023-02-16 00:10:17,272 : INFO : EPOCH 4 - PROGRESS: at 68.36% examples, 432847 words/s, in_qsize 5, out_qsize 0\n",
      "2023-02-16 00:10:18,288 : INFO : EPOCH 4 - PROGRESS: at 78.57% examples, 433748 words/s, in_qsize 5, out_qsize 0\n",
      "2023-02-16 00:10:19,311 : INFO : EPOCH 4 - PROGRESS: at 88.46% examples, 434407 words/s, in_qsize 5, out_qsize 0\n"
     ]
    },
    {
     "name": "stderr",
     "output_type": "stream",
     "text": [
      "2023-02-16 00:10:20,330 : INFO : EPOCH 4 - PROGRESS: at 98.31% examples, 434413 words/s, in_qsize 5, out_qsize 0\n",
      "2023-02-16 00:10:20,439 : INFO : worker thread finished; awaiting finish of 2 more threads\n",
      "2023-02-16 00:10:20,480 : INFO : worker thread finished; awaiting finish of 1 more threads\n",
      "2023-02-16 00:10:20,485 : INFO : worker thread finished; awaiting finish of 0 more threads\n",
      "2023-02-16 00:10:20,485 : INFO : EPOCH - 4 : training on 6022875 raw words (4500473 effective words) took 10.3s, 434961 effective words/s\n",
      "2023-02-16 00:10:21,509 : INFO : EPOCH 5 - PROGRESS: at 9.78% examples, 438046 words/s, in_qsize 5, out_qsize 0\n",
      "2023-02-16 00:10:22,528 : INFO : EPOCH 5 - PROGRESS: at 20.02% examples, 445311 words/s, in_qsize 5, out_qsize 0\n",
      "2023-02-16 00:10:23,539 : INFO : EPOCH 5 - PROGRESS: at 30.06% examples, 446264 words/s, in_qsize 5, out_qsize 0\n",
      "2023-02-16 00:10:24,566 : INFO : EPOCH 5 - PROGRESS: at 40.23% examples, 446252 words/s, in_qsize 5, out_qsize 0\n",
      "2023-02-16 00:10:25,568 : INFO : EPOCH 5 - PROGRESS: at 50.06% examples, 447614 words/s, in_qsize 5, out_qsize 0\n",
      "2023-02-16 00:10:26,591 : INFO : EPOCH 5 - PROGRESS: at 60.12% examples, 445960 words/s, in_qsize 5, out_qsize 0\n",
      "2023-02-16 00:10:27,608 : INFO : EPOCH 5 - PROGRESS: at 70.57% examples, 447194 words/s, in_qsize 5, out_qsize 0\n",
      "2023-02-16 00:10:28,631 : INFO : EPOCH 5 - PROGRESS: at 81.10% examples, 447830 words/s, in_qsize 5, out_qsize 0\n",
      "2023-02-16 00:10:29,637 : INFO : EPOCH 5 - PROGRESS: at 90.87% examples, 447721 words/s, in_qsize 5, out_qsize 0\n",
      "2023-02-16 00:10:30,475 : INFO : worker thread finished; awaiting finish of 2 more threads\n",
      "2023-02-16 00:10:30,513 : INFO : worker thread finished; awaiting finish of 1 more threads\n",
      "2023-02-16 00:10:30,519 : INFO : worker thread finished; awaiting finish of 0 more threads\n",
      "2023-02-16 00:10:30,520 : INFO : EPOCH - 5 : training on 6022875 raw words (4501134 effective words) took 10.0s, 448686 effective words/s\n",
      "2023-02-16 00:10:30,520 : INFO : Word2Vec lifecycle event {'msg': 'training on 30114375 raw words (22503403 effective words) took 50.9s, 441846 effective words/s', 'datetime': '2023-02-16T00:10:30.520506', 'gensim': '4.1.2', 'python': '3.9.13 (main, Aug 25 2022, 18:29:29) \\n[Clang 12.0.0 ]', 'platform': 'macOS-10.16-x86_64-i386-64bit', 'event': 'train'}\n",
      "2023-02-16 00:10:30,520 : INFO : Word2Vec lifecycle event {'params': 'Word2Vec(vocab=33359, vector_size=100, alpha=0.025)', 'datetime': '2023-02-16T00:10:30.520885', 'gensim': '4.1.2', 'python': '3.9.13 (main, Aug 25 2022, 18:29:29) \\n[Clang 12.0.0 ]', 'platform': 'macOS-10.16-x86_64-i386-64bit', 'event': 'created'}\n"
     ]
    }
   ],
   "source": [
    "import gensim\n",
    "import logging\n",
    "logging.basicConfig(format='%(asctime)s : %(levelname)s : %(message)s', level=logging.INFO)\n",
    "\n",
    "#text = [t.split() for t,p in train]\n",
    "text = [t.split() for t in train_df.text.map(preprocess)]\n",
    "\n",
    "# the following configuration is the default configuration\n",
    "w2v = gensim.models.word2vec.Word2Vec(sentences=text,\n",
    "                                vector_size=100, window=5,               ### here we train a cbow model \n",
    "                                min_count=5,                      \n",
    "                                sample=0.001, workers=3,\n",
    "                                sg=1, hs=0, negative=5,        ### set sg to 1 to train a sg model\n",
    "                                cbow_mean=1, epochs=5)"
   ]
  },
  {
   "cell_type": "code",
   "execution_count": 7,
   "metadata": {},
   "outputs": [
    {
     "name": "stderr",
     "output_type": "stream",
     "text": [
      "2023-02-16 00:10:30,523 : INFO : Word2Vec lifecycle event {'fname_or_handle': 'W2v-movies.dat', 'separately': 'None', 'sep_limit': 10485760, 'ignore': frozenset(), 'datetime': '2023-02-16T00:10:30.523785', 'gensim': '4.1.2', 'python': '3.9.13 (main, Aug 25 2022, 18:29:29) \\n[Clang 12.0.0 ]', 'platform': 'macOS-10.16-x86_64-i386-64bit', 'event': 'saving'}\n",
      "2023-02-16 00:10:30,524 : INFO : not storing attribute cum_table\n",
      "2023-02-16 00:10:30,546 : INFO : saved W2v-movies.dat\n"
     ]
    }
   ],
   "source": [
    "# Worth it to save the previous embedding\n",
    "w2v.save(\"W2v-movies.dat\")\n",
    "# You will be able to reload them:\n",
    "# w2v = gensim.models.Word2Vec.load(\"W2v-movies.dat\")\n",
    "# and you can continue the learning process if needed"
   ]
  },
  {
   "cell_type": "markdown",
   "metadata": {},
   "source": [
    "## STEP 2: Test learnt embeddings\n",
    "\n",
    "The word embedding space directly encodes similarities between words: the vector coding for the word \"great\" will be closer to the vector coding for \"good\" than to the one coding for \"bad\". Generally, [cosine similarity](https://en.wikipedia.org/wiki/Cosine_similarity) is the distance used when considering distance between vectors.\n",
    "\n",
    "KeyedVectors have a built in [similarity](https://radimrehurek.com/gensim/models /keyedvectors.html#gensim.models.keyedvectors.BaseKeyedVectors.similarity) method to compute the cosine similarity between words"
   ]
  },
  {
   "cell_type": "code",
   "execution_count": 8,
   "metadata": {},
   "outputs": [
    {
     "name": "stdout",
     "output_type": "stream",
     "text": [
      "great and good: 0.76782584\n",
      "great and bad: 0.5397215\n"
     ]
    }
   ],
   "source": [
    "# is great really closer to good than to bad ?\n",
    "print(\"great and good:\",w2v.wv.similarity(\"great\",\"good\"))\n",
    "print(\"great and bad:\",w2v.wv.similarity(\"great\",\"bad\"))"
   ]
  },
  {
   "cell_type": "markdown",
   "metadata": {},
   "source": [
    "Since cosine distance encodes similarity, neighboring words are supposed to be similar. The [most_similar](https://radimrehurek.com/gensim/models/keyedvectors.html#gensim.models.keyedvectors.BaseKeyedVectors.most_similar) method returns the `topn` words given a query."
   ]
  },
  {
   "cell_type": "code",
   "execution_count": 9,
   "metadata": {},
   "outputs": [
    {
     "name": "stdout",
     "output_type": "stream",
     "text": [
      "movie :\n",
      "\t ('film', 0.9328461289405823)\n",
      "\t ('programme', 0.7791712284088135)\n",
      "\t ('flick', 0.7638271450996399)\n",
      "\t ('monstrosity', 0.7471099495887756)\n",
      "\t ('it', 0.7395325899124146)\n",
      "awesome :\n",
      "\t ('amazing', 0.7928280830383301)\n",
      "\t ('incredible', 0.7682960629463196)\n",
      "\t ('fantastic', 0.7515002489089966)\n",
      "\t ('cool', 0.7180612683296204)\n",
      "\t ('excellent', 0.7168706059455872)\n",
      "actor :\n",
      "\t ('musician', 0.736379861831665)\n",
      "\t ('actress', 0.7326823472976685)\n",
      "\t ('comedian', 0.7259320616722107)\n",
      "\t ('impersonation', 0.7138898968696594)\n",
      "\t ('songwriter', 0.689059853553772)\n"
     ]
    }
   ],
   "source": [
    "# The query can be as simple as a word, such as \"movie\"\n",
    "\n",
    "# Try changing the word\n",
    "for word in ['movie', 'awesome', 'actor']:\n",
    "    print(word, ':')\n",
    "    for item in w2v.wv.most_similar(word,topn=5):\n",
    "        print('\\t', item)"
   ]
  },
  {
   "cell_type": "markdown",
   "metadata": {},
   "source": [
    "But it can be a more complicated query\n",
    "Word embedding spaces tend to encode much more.\n",
    "\n",
    "The most famous exemple is: `vec(king) - vec(man) + vec(woman) => vec(queen)`"
   ]
  },
  {
   "cell_type": "code",
   "execution_count": 10,
   "metadata": {},
   "outputs": [
    {
     "name": "stdout",
     "output_type": "stream",
     "text": [
      "awesome bad -- good\n",
      "\t ('awful', 0.7341099977493286)\n",
      "\t ('Terrible', 0.6573300361633301)\n",
      "\t ('terrible', 0.6454448103904724)\n",
      "\t ('atrocious', 0.6421670913696289)\n",
      "\t ('horrible', 0.6358762979507446)\n",
      "actor woman -- man\n",
      "\t ('actress', 0.8530353307723999)\n",
      "\t ('comedienne', 0.6491321325302124)\n",
      "\t ('dancer', 0.6273465156555176)\n",
      "\t ('performer', 0.6254771947860718)\n",
      "\t ('gentleman', 0.6113918423652649)\n"
     ]
    }
   ],
   "source": [
    "# What is awesome - good + bad ?\n",
    "positives = [\n",
    "    [\"awesome\",\"bad\"],\n",
    "    [\"actor\",\"woman\"]\n",
    "]\n",
    "\n",
    "negatives = [\n",
    "    [\"good\"],\n",
    "    [\"man\"]\n",
    "]\n",
    "\n",
    "for i in range(2):\n",
    "    print(*positives[i], '--', *negatives[i])\n",
    "    for item in w2v.wv.most_similar(positive=positives[i],negative=negatives[i],topn=5):\n",
    "        print('\\t', item)"
   ]
  },
  {
   "cell_type": "code",
   "execution_count": 11,
   "metadata": {},
   "outputs": [
    {
     "name": "stdout",
     "output_type": "stream",
     "text": [
      "movie movies -- film\n",
      "\t ('flicks', 0.7785832285881042)\n",
      "\t ('films', 0.7654721140861511)\n",
      "\t ('cartoons', 0.7107298374176025)\n",
      "\t ('slashers', 0.6972025632858276)\n",
      "\t ('comedies', 0.6872580051422119)\n",
      "actor actors -- actress\n",
      "\t ('Spacey', 0.6671654582023621)\n",
      "\t ('professionals', 0.634136974811554)\n",
      "\t ('scriptwriters', 0.6328943967819214)\n",
      "\t ('amateurs', 0.6313664317131042)\n",
      "\t ('directors', 0.6313294768333435)\n"
     ]
    }
   ],
   "source": [
    "        \n",
    "#w2v.wv.most_similar(positive=[\"awesome\",\"bad\"],negative=[\"good\"],topn=3)  \n",
    "\n",
    "#w2v.wv.most_similar(positive=[\"actor\",\"woman\"],negative=[\"man\"],topn=3) # do the famous exemple works for actor ?\n",
    "\n",
    "\n",
    "# Try other things like plurals for exemple.\n",
    "positives = [\n",
    "    [\"movie\",\"movies\"],\n",
    "    [\"actor\",\"actors\"]\n",
    "]\n",
    "\n",
    "negatives = [\n",
    "    [\"film\"],\n",
    "    [\"actress\"]\n",
    "]\n",
    "\n",
    "for i in range(2):\n",
    "    print(*positives[i], '--', *negatives[i])\n",
    "    for item in w2v.wv.most_similar(positive=positives[i],negative=negatives[i],topn=5):\n",
    "        print('\\t', item)"
   ]
  },
  {
   "cell_type": "markdown",
   "metadata": {},
   "source": [
    "To test learnt \"synctactic\" and \"semantic\" similarities, Mikolov et al. introduced a special dataset containing a wide variety of three way similarities."
   ]
  },
  {
   "cell_type": "code",
   "execution_count": 12,
   "metadata": {},
   "outputs": [],
   "source": [
    "#out = w2v.wv.evaluate_word_analogies(\"ressources/questions-words.txt\",case_insensitive=True)  #original semantic syntactic dataset."
   ]
  },
  {
   "cell_type": "markdown",
   "metadata": {},
   "source": [
    "**When training the w2v models on the review dataset, since it hasn't been learnt with a lot of data, it does not perform very well.**\n"
   ]
  },
  {
   "cell_type": "markdown",
   "metadata": {},
   "source": [
    "## STEP 3: Loading a pre-trained model"
   ]
  },
  {
   "cell_type": "markdown",
   "metadata": {},
   "source": [
    "In Gensim, embeddings are loaded and can be used via the [\"KeyedVectors\"](https://radimrehurek.com/gensim/models/keyedvectors.html) class\n",
    "\n",
    "> Since trained word vectors are independent from the way they were trained (Word2Vec, FastText, WordRank, VarEmbed etc), they can be represented by a standalone structure, as implemented in this module.\n",
    "\n",
    ">The structure is called “KeyedVectors” and is essentially a mapping between entities and vectors. Each entity is identified by its string id, so this is a mapping between {str => 1D numpy array}.\n",
    "\n",
    ">The entity typically corresponds to a word (so the mapping maps words to 1D vectors), but for some models, they key can also correspond to a document, a graph node etc. To generalize over different use-cases, this module calls the keys entities. Each entity is always represented by its string id, no matter whether the entity is a word, a document or a graph node."
   ]
  },
  {
   "cell_type": "code",
   "execution_count": 13,
   "metadata": {
    "scrolled": false
   },
   "outputs": [
    {
     "name": "stderr",
     "output_type": "stream",
     "text": [
      "2023-02-16 00:10:30,590 : INFO : loading KeyedVectors object from word2vec-google-news-300.dat\n",
      "2023-02-16 00:10:31,509 : INFO : loading vectors from word2vec-google-news-300.dat.vectors.npy with mmap=None\n",
      "2023-02-16 00:10:33,297 : INFO : KeyedVectors lifecycle event {'fname': 'word2vec-google-news-300.dat', 'datetime': '2023-02-16T00:10:33.282893', 'gensim': '4.1.2', 'python': '3.9.13 (main, Aug 25 2022, 18:29:29) \\n[Clang 12.0.0 ]', 'platform': 'macOS-10.16-x86_64-i386-64bit', 'event': 'loaded'}\n"
     ]
    }
   ],
   "source": [
    "#from gensim.test.utils import get_tmpfile\n",
    "import gensim.downloader as api\n",
    "bload = True\n",
    "fname = \"word2vec-google-news-300\"\n",
    "sdir = \"\" # Change\n",
    "\n",
    "if(bload==True):\n",
    "    wv_pre_trained = gensim.models.KeyedVectors.load(sdir+fname+\".dat\")\n",
    "else:    \n",
    "    wv_pre_trained = api.load(fname)\n",
    "    wv_pre_trained.save(sdir+fname+\".dat\")\n",
    "    "
   ]
  },
  {
   "cell_type": "markdown",
   "metadata": {},
   "source": [
    "**Perform the \"synctactic\" and \"semantic\" evaluations again. Conclude on the pre-trained embeddings.**"
   ]
  },
  {
   "cell_type": "code",
   "execution_count": 14,
   "metadata": {},
   "outputs": [
    {
     "name": "stdout",
     "output_type": "stream",
     "text": [
      "great and good: 0.72915095\n",
      "great and bad: 0.3928765\n"
     ]
    }
   ],
   "source": [
    "print(\"great and good:\",wv_pre_trained.similarity(\"great\",\"good\"))\n",
    "print(\"great and bad:\",wv_pre_trained.similarity(\"great\",\"bad\"))"
   ]
  },
  {
   "cell_type": "code",
   "execution_count": 15,
   "metadata": {},
   "outputs": [
    {
     "name": "stdout",
     "output_type": "stream",
     "text": [
      "movie :\n",
      "\t ('film', 0.8676770329475403)\n",
      "\t ('movies', 0.8013108372688293)\n",
      "\t ('films', 0.7363012433052063)\n",
      "\t ('moive', 0.6830361485481262)\n",
      "\t ('Movie', 0.6693679094314575)\n",
      "awesome :\n",
      "\t ('amazing', 0.8282864689826965)\n",
      "\t ('unbelievable', 0.7464959025382996)\n",
      "\t ('fantastic', 0.7453292012214661)\n",
      "\t ('incredible', 0.7390913963317871)\n",
      "\t ('unbelieveable', 0.6678116917610168)\n",
      "actor :\n",
      "\t ('actress', 0.7930010557174683)\n",
      "\t ('Actor', 0.7446157932281494)\n",
      "\t ('thesp', 0.6954971551895142)\n",
      "\t ('thespian', 0.6651668548583984)\n",
      "\t ('actors', 0.6519852876663208)\n"
     ]
    }
   ],
   "source": [
    "for word in ['movie', 'awesome', 'actor']:\n",
    "    print(word, ':')\n",
    "    for item in wv_pre_trained.most_similar(word,topn=5):\n",
    "        print('\\t', item)"
   ]
  },
  {
   "cell_type": "code",
   "execution_count": 16,
   "metadata": {},
   "outputs": [
    {
     "name": "stdout",
     "output_type": "stream",
     "text": [
      "awesome bad -- good\n",
      "\t ('horrible', 0.5953484773635864)\n",
      "\t ('amazing', 0.5928210020065308)\n",
      "\t ('weird', 0.5782380700111389)\n",
      "\t ('freaky', 0.5767403244972229)\n",
      "\t ('unbelievable', 0.5747914910316467)\n",
      "actor woman -- man\n",
      "\t ('actress', 0.8602624535560608)\n",
      "\t ('actresses', 0.6596671342849731)\n",
      "\t ('thesp', 0.6290916800498962)\n",
      "\t ('Actress', 0.6165293455123901)\n",
      "\t ('actress_Rachel_Weisz', 0.5997323393821716)\n"
     ]
    }
   ],
   "source": [
    "positives = [\n",
    "    [\"awesome\",\"bad\"],\n",
    "    [\"actor\",\"woman\"]\n",
    "]\n",
    "\n",
    "negatives = [\n",
    "    [\"good\"],\n",
    "    [\"man\"]\n",
    "]\n",
    "\n",
    "for i in range(2):\n",
    "    print(*positives[i], '--', *negatives[i])\n",
    "    for item in wv_pre_trained.most_similar(positive=positives[i],negative=negatives[i],topn=5):\n",
    "        print('\\t', item)"
   ]
  },
  {
   "cell_type": "code",
   "execution_count": 17,
   "metadata": {},
   "outputs": [
    {
     "name": "stdout",
     "output_type": "stream",
     "text": [
      "movie movies -- film\n",
      "\t ('films', 0.6389263868331909)\n",
      "\t ('Movies', 0.6188486814498901)\n",
      "\t ('flicks', 0.6120561361312866)\n",
      "\t ('Hollywood_blockbusters', 0.5958892703056335)\n",
      "\t ('romcoms', 0.5864962339401245)\n",
      "actor actors -- actress\n",
      "\t ('Actors', 0.6128960251808167)\n",
      "\t ('thesps', 0.5747196674346924)\n",
      "\t ('screenwriters', 0.5588046908378601)\n",
      "\t ('thespians', 0.5531652569770813)\n",
      "\t ('thespian', 0.5476460456848145)\n"
     ]
    }
   ],
   "source": [
    "positives = [\n",
    "    [\"movie\",\"movies\"],\n",
    "    [\"actor\",\"actors\"]\n",
    "]\n",
    "\n",
    "negatives = [\n",
    "    [\"film\"],\n",
    "    [\"actress\"]\n",
    "]\n",
    "\n",
    "for i in range(2):\n",
    "    print(*positives[i], '--', *negatives[i])\n",
    "    for item in wv_pre_trained.most_similar(positive=positives[i],negative=negatives[i],topn=5):\n",
    "        print('\\t', item)"
   ]
  },
  {
   "cell_type": "markdown",
   "metadata": {},
   "source": [
    "## STEP 4:  sentiment classification\n",
    "\n",
    "In the previous practical session, we used a bag of word approach to transform text into vectors.\n",
    "Here, we propose to try to use word vectors (previously learnt or loaded).\n",
    "\n",
    "\n",
    "### <font color='green'> Since we have only word vectors and that sentences are made of multiple words, we need to aggregate them. </font>\n",
    "\n",
    "\n",
    "### (1) Vectorize reviews using word vectors:\n",
    "\n",
    "Word aggregation can be done in different ways:\n",
    "\n",
    "- Sum\n",
    "- Average\n",
    "- Min/feature\n",
    "- Max/feature\n",
    "\n",
    "#### a few pointers:\n",
    "\n",
    "- `w2v.wv.vocab` is a `set()` of the vocabulary (all existing words in your model)\n",
    "- `np.minimum(a,b) and np.maximum(a,b)` respectively return element-wise min/max "
   ]
  },
  {
   "cell_type": "code",
   "execution_count": 18,
   "metadata": {},
   "outputs": [],
   "source": [
    "import numpy as np\n",
    "# We first need to vectorize text:\n",
    "# First we propose to a sum of them\n",
    "\n",
    "\n",
    "def vectorize(text, f=np.sum, model=wv_pre_trained):\n",
    "    \"\"\"\n",
    "    This function should vectorize one review\n",
    "\n",
    "    input: str, numpy agregate function\n",
    "    output: np.array(float)\n",
    "    \"\"\"    \n",
    "    vec = []\n",
    "    for word in preprocess(text):\n",
    "        if word in model.key_to_index:\n",
    "            vec.append(model[word])\n",
    "    return f(vec, axis=0)\n",
    "    "
   ]
  },
  {
   "cell_type": "code",
   "execution_count": 19,
   "metadata": {},
   "outputs": [
    {
     "data": {
      "text/plain": [
       "array([-6.8882080e+01,  5.0358612e+01, -4.2053223e-02,  5.2835480e+01,\n",
       "       -2.5050629e+01,  1.0630341e+01, -3.9978210e+01, -2.2337036e+01,\n",
       "       -1.9577698e+01,  1.1810776e+01, -1.8968021e+01, -3.8820648e+01,\n",
       "       -8.7164398e+01,  1.1624546e+01, -5.5066895e+01,  3.9756592e+01,\n",
       "        4.4158363e+01,  7.1197632e+01, -4.0677338e+00,  1.3945007e-01,\n",
       "       -1.0449817e+02, -1.5634384e+01,  4.9755814e+01,  8.5149994e+00,\n",
       "       -3.4336380e+01,  1.0841086e+01, -1.0523462e+02,  2.0532532e+01,\n",
       "       -1.1974487e+01, -8.8734436e+00, -3.5450745e+00,  1.3266159e+01,\n",
       "       -2.8181610e+01, -4.5545288e+01, -5.4851898e+01,  3.7212555e+01,\n",
       "       -8.4447968e+01,  5.0229980e+01, -2.4678310e+01,  3.7364990e+01,\n",
       "       -1.5668884e+01, -1.7890625e+01,  2.4233398e+01,  3.5927063e+01,\n",
       "        2.1099434e+01, -1.5949348e+01, -1.3954895e+01, -7.5196045e+01,\n",
       "       -5.0344238e+01,  3.2897095e+01, -7.5712280e+01,  1.0140381e+02,\n",
       "       -1.0659912e+01,  9.3589050e+01,  1.5606079e+01,  5.3395996e+01,\n",
       "       -6.4790283e+01, -3.9895462e+01,  5.2529144e-01, -6.5427002e+01,\n",
       "       -5.7098602e+01, -3.1768066e+01, -7.9039368e+01, -2.2490005e+01,\n",
       "       -1.5918243e+01, -8.0413818e+01, -4.6038422e+01,  5.0751221e+01,\n",
       "       -2.3664978e+01,  1.9953957e+01,  1.4124756e+01, -2.8575134e+01,\n",
       "        1.5653076e+01, -6.7405701e+00, -1.6188969e+01, -5.6878662e+00,\n",
       "        5.4065063e+01,  9.7600403e+00,  7.3929138e+00, -3.7852661e+01,\n",
       "       -6.1154419e+01, -2.4195724e+00, -1.4335476e+01, -4.2929688e+00,\n",
       "        4.8793945e+01,  2.8302124e+01, -8.9952393e+00,  9.5622803e+01,\n",
       "        7.7807465e+00,  2.9292519e+01,  1.1280594e+01,  1.0579102e+01,\n",
       "       -1.3919189e+01, -5.2255127e+01,  1.6975586e+01,  4.3367142e+01,\n",
       "       -3.5861206e+01,  4.3778748e+01,  1.0290137e+02, -1.1065529e+01,\n",
       "       -3.3869995e+01,  1.8422241e+00, -2.4602173e+01, -6.5405273e+00,\n",
       "       -2.6351379e+01,  5.6049652e+01, -3.2651001e+01,  1.7404846e+01,\n",
       "       -4.7469482e+00,  9.4433289e+00, -5.9560181e+01, -7.3665436e+01,\n",
       "       -1.3284355e+01, -1.5439667e+01,  2.7445862e+01,  6.4594604e+01,\n",
       "        3.2912125e+01, -1.4444019e+01, -1.2857986e+01, -1.7324921e+01,\n",
       "        4.9555664e+01,  2.8339355e+01, -3.1159058e+00,  8.0742188e+00,\n",
       "        4.5458496e+01, -6.6907349e+01, -4.2538849e+01, -7.2573242e+00,\n",
       "        2.2798130e+01,  4.5603500e+01, -3.1644226e+01, -1.1277710e+01,\n",
       "       -2.9940155e+01, -1.8795105e+01, -6.9766258e+01,  3.1901947e+01,\n",
       "       -1.7119873e+01,  1.4970703e+01,  9.7975830e+01,  5.7806213e+01,\n",
       "        8.0631714e+01, -2.9862011e+01,  2.1298950e+01, -1.9485352e+01,\n",
       "       -2.4480835e+01, -3.8301254e+01, -2.9290527e+01,  6.4237549e+01,\n",
       "       -2.4418945e+01,  1.3951523e+01,  2.8418823e+01, -1.2114172e+02,\n",
       "       -2.1752487e+01, -1.7212219e+01, -4.2718124e+01, -3.2562012e+01,\n",
       "        3.2953674e+01,  7.2873535e+01, -9.8032684e+00, -1.5802277e+01,\n",
       "        6.7636108e+00,  3.7984619e+01, -2.1875000e+00,  1.9942017e+00,\n",
       "       -4.5611267e+00, -2.0503738e+01,  6.7586670e+01,  1.4614243e+01,\n",
       "       -4.2497093e+01,  3.3869202e+01, -4.3817200e+01, -3.9695068e+01,\n",
       "       -1.4638092e+01, -3.1286011e+01, -6.2565231e+00,  9.3530029e+01,\n",
       "        1.0566431e+02, -8.4190430e+01,  1.1244690e+01, -3.5478775e+01,\n",
       "        2.1457214e+00,  1.1929943e+01,  1.6400856e+01, -2.2264404e+01,\n",
       "       -1.0637787e+01,  3.4596161e+01, -1.8946533e+01,  2.6924301e+01,\n",
       "       -1.3759827e+01,  1.6108643e+01,  4.5768860e+01, -1.7854370e+01,\n",
       "       -1.0060608e+02, -4.9949951e+00,  5.1762207e+01,  1.9117310e+01,\n",
       "       -2.7926331e+01, -5.1379395e+00,  2.6325165e+01, -3.7694702e+01,\n",
       "       -4.2099182e+01,  1.0446167e+01, -8.2152222e+01, -5.4556892e+01,\n",
       "        2.6914307e+01, -3.0969955e+01, -1.2377319e+01,  4.1156982e+01,\n",
       "       -1.5810959e+01,  6.5528687e+01,  6.1385803e+01,  3.2758575e+01,\n",
       "       -5.8956329e+01,  6.8284607e-01, -3.4483032e+01,  1.2551792e+01,\n",
       "        6.3923828e+01, -3.0488861e+01, -6.3625000e+01,  9.5935059e-01,\n",
       "       -5.0934174e+01,  5.7905212e+01,  2.6764160e+01, -6.3581848e+00,\n",
       "        2.2050781e+00, -3.2548706e+01,  3.1356567e+01,  2.3768188e+01,\n",
       "        1.3167763e+00, -5.4689301e+01,  1.2605499e+01, -2.0819542e+01,\n",
       "       -3.8497643e+01,  3.1405029e+00,  4.1885986e+00,  8.0888443e+00,\n",
       "        1.9158264e+01,  3.8356445e+01,  4.0995514e+01,  4.0217468e+01,\n",
       "        3.7469086e+01,  3.5427490e+01,  1.1444043e+02, -2.1804565e+01,\n",
       "       -8.6026077e+00,  3.4682098e+01, -6.4529358e+01,  6.3497192e+01,\n",
       "        1.4808777e+01, -2.8199799e+01,  3.0207558e+01,  1.2726807e+01,\n",
       "        2.5735046e+01,  4.2998413e+01, -4.6005859e+00, -5.2063751e+01,\n",
       "       -2.2273376e+01,  2.5625488e+01,  1.2070847e+01, -3.5146606e+01,\n",
       "        2.9009399e+01, -5.6553001e+00,  4.2107315e+01, -8.1582947e+00,\n",
       "       -3.6981026e+01,  1.0448608e+01, -5.0372314e-01,  6.1401367e+00,\n",
       "       -3.6754761e+00, -2.1451599e+01, -3.1900040e+01, -6.6785889e+00,\n",
       "        1.6368774e+01,  1.3072327e+01,  3.1112976e+01, -3.2759705e+01,\n",
       "       -7.0961731e+01, -5.7105713e+01, -4.1383118e+01,  2.8545044e+01,\n",
       "       -4.0392456e+01,  5.9244087e+01,  1.6551819e+00,  3.8143921e-01,\n",
       "        3.1848907e+00,  2.7456787e+01, -3.8246155e+00, -5.9337158e+00,\n",
       "       -2.2854858e+01, -1.3662170e+01,  3.0015858e+01, -9.9426270e-01,\n",
       "       -3.7488022e+01,  3.8440002e+01, -1.1009079e+01, -6.2782959e+01,\n",
       "       -4.2790405e+01, -1.1065491e+01, -4.8208313e+01,  5.7849976e+01],\n",
       "      dtype=float32)"
      ]
     },
     "execution_count": 19,
     "metadata": {},
     "output_type": "execute_result"
    }
   ],
   "source": [
    "vectorize(train_df.text[0])"
   ]
  },
  {
   "cell_type": "code",
   "execution_count": 20,
   "metadata": {},
   "outputs": [
    {
     "name": "stdout",
     "output_type": "stream",
     "text": [
      "[-6.8882080e+01  5.0358612e+01 -4.2053223e-02  5.2835480e+01\n",
      " -2.5050629e+01  1.0630341e+01 -3.9978210e+01 -2.2337036e+01\n",
      " -1.9577698e+01  1.1810776e+01 -1.8968021e+01 -3.8820648e+01\n",
      " -8.7164398e+01  1.1624546e+01 -5.5066895e+01  3.9756592e+01\n",
      "  4.4158363e+01  7.1197632e+01 -4.0677338e+00  1.3945007e-01\n",
      " -1.0449817e+02 -1.5634384e+01  4.9755814e+01  8.5149994e+00\n",
      " -3.4336380e+01  1.0841086e+01 -1.0523462e+02  2.0532532e+01\n",
      " -1.1974487e+01 -8.8734436e+00 -3.5450745e+00  1.3266159e+01\n",
      " -2.8181610e+01 -4.5545288e+01 -5.4851898e+01  3.7212555e+01\n",
      " -8.4447968e+01  5.0229980e+01 -2.4678310e+01  3.7364990e+01\n",
      " -1.5668884e+01 -1.7890625e+01  2.4233398e+01  3.5927063e+01\n",
      "  2.1099434e+01 -1.5949348e+01 -1.3954895e+01 -7.5196045e+01\n",
      " -5.0344238e+01  3.2897095e+01 -7.5712280e+01  1.0140381e+02\n",
      " -1.0659912e+01  9.3589050e+01  1.5606079e+01  5.3395996e+01\n",
      " -6.4790283e+01 -3.9895462e+01  5.2529144e-01 -6.5427002e+01\n",
      " -5.7098602e+01 -3.1768066e+01 -7.9039368e+01 -2.2490005e+01\n",
      " -1.5918243e+01 -8.0413818e+01 -4.6038422e+01  5.0751221e+01\n",
      " -2.3664978e+01  1.9953957e+01  1.4124756e+01 -2.8575134e+01\n",
      "  1.5653076e+01 -6.7405701e+00 -1.6188969e+01 -5.6878662e+00\n",
      "  5.4065063e+01  9.7600403e+00  7.3929138e+00 -3.7852661e+01\n",
      " -6.1154419e+01 -2.4195724e+00 -1.4335476e+01 -4.2929688e+00\n",
      "  4.8793945e+01  2.8302124e+01 -8.9952393e+00  9.5622803e+01\n",
      "  7.7807465e+00  2.9292519e+01  1.1280594e+01  1.0579102e+01\n",
      " -1.3919189e+01 -5.2255127e+01  1.6975586e+01  4.3367142e+01\n",
      " -3.5861206e+01  4.3778748e+01  1.0290137e+02 -1.1065529e+01\n",
      " -3.3869995e+01  1.8422241e+00 -2.4602173e+01 -6.5405273e+00\n",
      " -2.6351379e+01  5.6049652e+01 -3.2651001e+01  1.7404846e+01\n",
      " -4.7469482e+00  9.4433289e+00 -5.9560181e+01 -7.3665436e+01\n",
      " -1.3284355e+01 -1.5439667e+01  2.7445862e+01  6.4594604e+01\n",
      "  3.2912125e+01 -1.4444019e+01 -1.2857986e+01 -1.7324921e+01\n",
      "  4.9555664e+01  2.8339355e+01 -3.1159058e+00  8.0742188e+00\n",
      "  4.5458496e+01 -6.6907349e+01 -4.2538849e+01 -7.2573242e+00\n",
      "  2.2798130e+01  4.5603500e+01 -3.1644226e+01 -1.1277710e+01\n",
      " -2.9940155e+01 -1.8795105e+01 -6.9766258e+01  3.1901947e+01\n",
      " -1.7119873e+01  1.4970703e+01  9.7975830e+01  5.7806213e+01\n",
      "  8.0631714e+01 -2.9862011e+01  2.1298950e+01 -1.9485352e+01\n",
      " -2.4480835e+01 -3.8301254e+01 -2.9290527e+01  6.4237549e+01\n",
      " -2.4418945e+01  1.3951523e+01  2.8418823e+01 -1.2114172e+02\n",
      " -2.1752487e+01 -1.7212219e+01 -4.2718124e+01 -3.2562012e+01\n",
      "  3.2953674e+01  7.2873535e+01 -9.8032684e+00 -1.5802277e+01\n",
      "  6.7636108e+00  3.7984619e+01 -2.1875000e+00  1.9942017e+00\n",
      " -4.5611267e+00 -2.0503738e+01  6.7586670e+01  1.4614243e+01\n",
      " -4.2497093e+01  3.3869202e+01 -4.3817200e+01 -3.9695068e+01\n",
      " -1.4638092e+01 -3.1286011e+01 -6.2565231e+00  9.3530029e+01\n",
      "  1.0566431e+02 -8.4190430e+01  1.1244690e+01 -3.5478775e+01\n",
      "  2.1457214e+00  1.1929943e+01  1.6400856e+01 -2.2264404e+01\n",
      " -1.0637787e+01  3.4596161e+01 -1.8946533e+01  2.6924301e+01\n",
      " -1.3759827e+01  1.6108643e+01  4.5768860e+01 -1.7854370e+01\n",
      " -1.0060608e+02 -4.9949951e+00  5.1762207e+01  1.9117310e+01\n",
      " -2.7926331e+01 -5.1379395e+00  2.6325165e+01 -3.7694702e+01\n",
      " -4.2099182e+01  1.0446167e+01 -8.2152222e+01 -5.4556892e+01\n",
      "  2.6914307e+01 -3.0969955e+01 -1.2377319e+01  4.1156982e+01\n",
      " -1.5810959e+01  6.5528687e+01  6.1385803e+01  3.2758575e+01\n",
      " -5.8956329e+01  6.8284607e-01 -3.4483032e+01  1.2551792e+01\n",
      "  6.3923828e+01 -3.0488861e+01 -6.3625000e+01  9.5935059e-01\n",
      " -5.0934174e+01  5.7905212e+01  2.6764160e+01 -6.3581848e+00\n",
      "  2.2050781e+00 -3.2548706e+01  3.1356567e+01  2.3768188e+01\n",
      "  1.3167763e+00 -5.4689301e+01  1.2605499e+01 -2.0819542e+01\n",
      " -3.8497643e+01  3.1405029e+00  4.1885986e+00  8.0888443e+00\n",
      "  1.9158264e+01  3.8356445e+01  4.0995514e+01  4.0217468e+01\n",
      "  3.7469086e+01  3.5427490e+01  1.1444043e+02 -2.1804565e+01\n",
      " -8.6026077e+00  3.4682098e+01 -6.4529358e+01  6.3497192e+01\n",
      "  1.4808777e+01 -2.8199799e+01  3.0207558e+01  1.2726807e+01\n",
      "  2.5735046e+01  4.2998413e+01 -4.6005859e+00 -5.2063751e+01\n",
      " -2.2273376e+01  2.5625488e+01  1.2070847e+01 -3.5146606e+01\n",
      "  2.9009399e+01 -5.6553001e+00  4.2107315e+01 -8.1582947e+00\n",
      " -3.6981026e+01  1.0448608e+01 -5.0372314e-01  6.1401367e+00\n",
      " -3.6754761e+00 -2.1451599e+01 -3.1900040e+01 -6.6785889e+00\n",
      "  1.6368774e+01  1.3072327e+01  3.1112976e+01 -3.2759705e+01\n",
      " -7.0961731e+01 -5.7105713e+01 -4.1383118e+01  2.8545044e+01\n",
      " -4.0392456e+01  5.9244087e+01  1.6551819e+00  3.8143921e-01\n",
      "  3.1848907e+00  2.7456787e+01 -3.8246155e+00 -5.9337158e+00\n",
      " -2.2854858e+01 -1.3662170e+01  3.0015858e+01 -9.9426270e-01\n",
      " -3.7488022e+01  3.8440002e+01 -1.1009079e+01 -6.2782959e+01\n",
      " -4.2790405e+01 -1.1065491e+01 -4.8208313e+01  5.7849976e+01]\n"
     ]
    }
   ],
   "source": [
    "#X = [vectorize(text) for text,pol in train]\n",
    "X = list(train_df.text.map(vectorize))\n",
    "y = np.array(train_df.label)\n",
    "\n",
    "#X_test = [vectorize(text) for text,pol in test]\n",
    "X_test = list(test_df.text.map(vectorize))\n",
    "y_test = np.array(test_df.label)\n",
    "\n",
    "#let's see what a review vector looks like.\n",
    "print(X[0])"
   ]
  },
  {
   "cell_type": "markdown",
   "metadata": {},
   "source": [
    "### (2) Train a classifier \n",
    "as in the previous practical session, train a logistic regression to do sentiment classification with word vectors\n",
    "\n"
   ]
  },
  {
   "cell_type": "code",
   "execution_count": 21,
   "metadata": {},
   "outputs": [
    {
     "name": "stdout",
     "output_type": "stream",
     "text": [
      "Accuracy : 0.62832\n"
     ]
    },
    {
     "name": "stderr",
     "output_type": "stream",
     "text": [
      "/Users/benkabongo25/opt/anaconda3/lib/python3.9/site-packages/sklearn/linear_model/_logistic.py:444: ConvergenceWarning: lbfgs failed to converge (status=1):\n",
      "STOP: TOTAL NO. of ITERATIONS REACHED LIMIT.\n",
      "\n",
      "Increase the number of iterations (max_iter) or scale the data as shown in:\n",
      "    https://scikit-learn.org/stable/modules/preprocessing.html\n",
      "Please also refer to the documentation for alternative solver options:\n",
      "    https://scikit-learn.org/stable/modules/linear_model.html#logistic-regression\n",
      "  n_iter_i = _check_optimize_result(\n"
     ]
    }
   ],
   "source": [
    "from sklearn.linear_model import LogisticRegression\n",
    "from sklearn.metrics import accuracy_score\n",
    "\n",
    "\n",
    "# Scikit Logistic Regression\n",
    "lr = LogisticRegression()\n",
    "lr.fit(X, y)\n",
    "\n",
    "y_pred = lr.predict(X_test)\n",
    "\n",
    "print('Accuracy :', accuracy_score(y_pred, y_test))"
   ]
  },
  {
   "cell_type": "code",
   "execution_count": 22,
   "metadata": {},
   "outputs": [],
   "source": [
    "def vectorize_train_test(f, m=wv_pre_trained):\n",
    "    l = lambda x: vectorize(x, f, m)\n",
    "    \n",
    "    #X = [vectorize(text) for text,pol in train]\n",
    "    X = list(train_df.text.map(l))\n",
    "    y = np.array(train_df.label)\n",
    "\n",
    "    #X_test = [vectorize(text) for text,pol in test]\n",
    "    X_test = list(test_df.text.map(l))\n",
    "    y_test = np.array(test_df.label)\n",
    "    \n",
    "    lr = LogisticRegression()\n",
    "    lr.fit(X, y)\n",
    "\n",
    "    y_pred = lr.predict(X_test)\n",
    "\n",
    "    return accuracy_score(y_pred, y_test)"
   ]
  },
  {
   "cell_type": "code",
   "execution_count": 23,
   "metadata": {},
   "outputs": [
    {
     "data": {
      "text/plain": [
       "0.6118"
      ]
     },
     "execution_count": 23,
     "metadata": {},
     "output_type": "execute_result"
    }
   ],
   "source": [
    "vectorize_train_test(np.mean)"
   ]
  },
  {
   "cell_type": "code",
   "execution_count": 24,
   "metadata": {},
   "outputs": [
    {
     "name": "stderr",
     "output_type": "stream",
     "text": [
      "/Users/benkabongo25/opt/anaconda3/lib/python3.9/site-packages/sklearn/linear_model/_logistic.py:444: ConvergenceWarning: lbfgs failed to converge (status=1):\n",
      "STOP: TOTAL NO. of ITERATIONS REACHED LIMIT.\n",
      "\n",
      "Increase the number of iterations (max_iter) or scale the data as shown in:\n",
      "    https://scikit-learn.org/stable/modules/preprocessing.html\n",
      "Please also refer to the documentation for alternative solver options:\n",
      "    https://scikit-learn.org/stable/modules/linear_model.html#logistic-regression\n",
      "  n_iter_i = _check_optimize_result(\n"
     ]
    },
    {
     "data": {
      "text/plain": [
       "0.5644"
      ]
     },
     "execution_count": 24,
     "metadata": {},
     "output_type": "execute_result"
    }
   ],
   "source": [
    "vectorize_train_test(np.min)"
   ]
  },
  {
   "cell_type": "code",
   "execution_count": null,
   "metadata": {},
   "outputs": [],
   "source": []
  },
  {
   "cell_type": "markdown",
   "metadata": {},
   "source": [
    "performance should be worst than with bag of word (~80%). Sum/Mean aggregation does not work well on long reviews (especially with many frequent words). This adds a lot of noise.\n",
    "\n",
    "## **Todo** :  Try answering the following questions:\n",
    "\n",
    "- Which word2vec model works best: skip-gram or cbow\n",
    "- Do pretrained vectors work best than those learnt on the train dataset ?\n"
   ]
  },
  {
   "cell_type": "code",
   "execution_count": 25,
   "metadata": {
    "scrolled": false
   },
   "outputs": [
    {
     "name": "stderr",
     "output_type": "stream",
     "text": [
      "2023-02-16 00:14:22,383 : INFO : collecting all words and their counts\n",
      "2023-02-16 00:14:22,385 : INFO : PROGRESS: at sentence #0, processed 0 words, keeping 0 word types\n",
      "2023-02-16 00:14:22,895 : INFO : PROGRESS: at sentence #10000, processed 2426102 words, keeping 61702 word types\n",
      "2023-02-16 00:14:23,464 : INFO : PROGRESS: at sentence #20000, processed 4816878 words, keeping 84298 word types\n",
      "2023-02-16 00:14:23,721 : INFO : collected 93201 word types from a corpus of 6022875 raw words and 25000 sentences\n",
      "2023-02-16 00:14:23,722 : INFO : Creating a fresh vocabulary\n",
      "2023-02-16 00:14:23,815 : INFO : Word2Vec lifecycle event {'msg': 'effective_min_count=5 retains 33359 unique words (35.79253441486679%% of original 93201, drops 59842)', 'datetime': '2023-02-16T00:14:23.815879', 'gensim': '4.1.2', 'python': '3.9.13 (main, Aug 25 2022, 18:29:29) \\n[Clang 12.0.0 ]', 'platform': 'macOS-10.16-x86_64-i386-64bit', 'event': 'prepare_vocab'}\n",
      "2023-02-16 00:14:23,816 : INFO : Word2Vec lifecycle event {'msg': 'effective_min_count=5 leaves 5924674 word corpus (98.36953282277982%% of original 6022875, drops 98201)', 'datetime': '2023-02-16T00:14:23.816319', 'gensim': '4.1.2', 'python': '3.9.13 (main, Aug 25 2022, 18:29:29) \\n[Clang 12.0.0 ]', 'platform': 'macOS-10.16-x86_64-i386-64bit', 'event': 'prepare_vocab'}\n",
      "2023-02-16 00:14:23,931 : INFO : deleting the raw counts dictionary of 93201 items\n",
      "2023-02-16 00:14:23,932 : INFO : sample=0.001 downsamples 47 most-common words\n",
      "2023-02-16 00:14:23,932 : INFO : Word2Vec lifecycle event {'msg': 'downsampling leaves estimated 4500851.640108086 word corpus (76.0%% of prior 5924674)', 'datetime': '2023-02-16T00:14:23.932860', 'gensim': '4.1.2', 'python': '3.9.13 (main, Aug 25 2022, 18:29:29) \\n[Clang 12.0.0 ]', 'platform': 'macOS-10.16-x86_64-i386-64bit', 'event': 'prepare_vocab'}\n",
      "2023-02-16 00:14:24,158 : INFO : estimated required memory for 33359 words and 100 dimensions: 43366700 bytes\n",
      "2023-02-16 00:14:24,160 : INFO : resetting layer weights\n",
      "2023-02-16 00:14:24,175 : INFO : Word2Vec lifecycle event {'update': False, 'trim_rule': 'None', 'datetime': '2023-02-16T00:14:24.175174', 'gensim': '4.1.2', 'python': '3.9.13 (main, Aug 25 2022, 18:29:29) \\n[Clang 12.0.0 ]', 'platform': 'macOS-10.16-x86_64-i386-64bit', 'event': 'build_vocab'}\n",
      "2023-02-16 00:14:24,175 : INFO : Word2Vec lifecycle event {'msg': 'training model with 3 workers on 33359 vocabulary and 100 features, using sg=1 hs=0 sample=0.001 negative=5 window=5 shrink_windows=True', 'datetime': '2023-02-16T00:14:24.175669', 'gensim': '4.1.2', 'python': '3.9.13 (main, Aug 25 2022, 18:29:29) \\n[Clang 12.0.0 ]', 'platform': 'macOS-10.16-x86_64-i386-64bit', 'event': 'train'}\n",
      "2023-02-16 00:14:25,197 : INFO : EPOCH 1 - PROGRESS: at 9.78% examples, 438430 words/s, in_qsize 5, out_qsize 0\n",
      "2023-02-16 00:14:26,207 : INFO : EPOCH 1 - PROGRESS: at 20.02% examples, 447068 words/s, in_qsize 5, out_qsize 0\n",
      "2023-02-16 00:14:27,218 : INFO : EPOCH 1 - PROGRESS: at 30.21% examples, 449841 words/s, in_qsize 5, out_qsize 0\n",
      "2023-02-16 00:14:28,231 : INFO : EPOCH 1 - PROGRESS: at 40.38% examples, 450555 words/s, in_qsize 5, out_qsize 0\n",
      "2023-02-16 00:14:29,249 : INFO : EPOCH 1 - PROGRESS: at 50.42% examples, 451160 words/s, in_qsize 5, out_qsize 0\n",
      "2023-02-16 00:14:30,265 : INFO : EPOCH 1 - PROGRESS: at 60.72% examples, 451714 words/s, in_qsize 5, out_qsize 0\n",
      "2023-02-16 00:14:31,286 : INFO : EPOCH 1 - PROGRESS: at 71.30% examples, 451935 words/s, in_qsize 5, out_qsize 0\n",
      "2023-02-16 00:14:32,302 : INFO : EPOCH 1 - PROGRESS: at 81.78% examples, 452403 words/s, in_qsize 5, out_qsize 0\n",
      "2023-02-16 00:14:33,330 : INFO : EPOCH 1 - PROGRESS: at 91.82% examples, 452245 words/s, in_qsize 5, out_qsize 0\n",
      "2023-02-16 00:14:34,076 : INFO : worker thread finished; awaiting finish of 2 more threads\n",
      "2023-02-16 00:14:34,108 : INFO : worker thread finished; awaiting finish of 1 more threads\n",
      "2023-02-16 00:14:34,113 : INFO : worker thread finished; awaiting finish of 0 more threads\n",
      "2023-02-16 00:14:34,114 : INFO : EPOCH - 1 : training on 6022875 raw words (4500700 effective words) took 9.9s, 452946 effective words/s\n",
      "2023-02-16 00:14:35,134 : INFO : EPOCH 2 - PROGRESS: at 9.78% examples, 439601 words/s, in_qsize 5, out_qsize 0\n",
      "2023-02-16 00:14:36,146 : INFO : EPOCH 2 - PROGRESS: at 20.02% examples, 447239 words/s, in_qsize 5, out_qsize 0\n",
      "2023-02-16 00:14:37,168 : INFO : EPOCH 2 - PROGRESS: at 30.21% examples, 448382 words/s, in_qsize 5, out_qsize 0\n",
      "2023-02-16 00:14:38,175 : INFO : EPOCH 2 - PROGRESS: at 40.38% examples, 450064 words/s, in_qsize 5, out_qsize 0\n",
      "2023-02-16 00:14:39,198 : INFO : EPOCH 2 - PROGRESS: at 50.42% examples, 450426 words/s, in_qsize 5, out_qsize 0\n",
      "2023-02-16 00:14:40,220 : INFO : EPOCH 2 - PROGRESS: at 60.72% examples, 450677 words/s, in_qsize 5, out_qsize 0\n",
      "2023-02-16 00:14:41,243 : INFO : EPOCH 2 - PROGRESS: at 71.30% examples, 450963 words/s, in_qsize 5, out_qsize 0\n",
      "2023-02-16 00:14:42,255 : INFO : EPOCH 2 - PROGRESS: at 81.78% examples, 451773 words/s, in_qsize 5, out_qsize 0\n",
      "2023-02-16 00:14:43,280 : INFO : EPOCH 2 - PROGRESS: at 91.82% examples, 451846 words/s, in_qsize 5, out_qsize 0\n",
      "2023-02-16 00:14:44,016 : INFO : worker thread finished; awaiting finish of 2 more threads\n",
      "2023-02-16 00:14:44,055 : INFO : worker thread finished; awaiting finish of 1 more threads\n",
      "2023-02-16 00:14:44,060 : INFO : worker thread finished; awaiting finish of 0 more threads\n",
      "2023-02-16 00:14:44,060 : INFO : EPOCH - 2 : training on 6022875 raw words (4501270 effective words) took 9.9s, 452698 effective words/s\n",
      "2023-02-16 00:14:45,079 : INFO : EPOCH 3 - PROGRESS: at 9.78% examples, 439644 words/s, in_qsize 5, out_qsize 0\n",
      "2023-02-16 00:14:46,086 : INFO : EPOCH 3 - PROGRESS: at 20.02% examples, 448491 words/s, in_qsize 5, out_qsize 0\n",
      "2023-02-16 00:14:47,098 : INFO : EPOCH 3 - PROGRESS: at 30.21% examples, 450652 words/s, in_qsize 5, out_qsize 0\n",
      "2023-02-16 00:14:48,102 : INFO : EPOCH 3 - PROGRESS: at 40.38% examples, 452125 words/s, in_qsize 5, out_qsize 0\n",
      "2023-02-16 00:14:49,118 : INFO : EPOCH 3 - PROGRESS: at 50.42% examples, 452485 words/s, in_qsize 6, out_qsize 0\n",
      "2023-02-16 00:14:50,136 : INFO : EPOCH 3 - PROGRESS: at 60.72% examples, 452746 words/s, in_qsize 5, out_qsize 0\n",
      "2023-02-16 00:14:51,143 : INFO : EPOCH 3 - PROGRESS: at 71.10% examples, 452636 words/s, in_qsize 5, out_qsize 0\n",
      "2023-02-16 00:14:52,161 : INFO : EPOCH 3 - PROGRESS: at 81.63% examples, 452862 words/s, in_qsize 5, out_qsize 0\n",
      "2023-02-16 00:14:53,164 : INFO : EPOCH 3 - PROGRESS: at 91.32% examples, 452234 words/s, in_qsize 6, out_qsize 0\n",
      "2023-02-16 00:14:53,965 : INFO : worker thread finished; awaiting finish of 2 more threads\n",
      "2023-02-16 00:14:54,004 : INFO : worker thread finished; awaiting finish of 1 more threads\n",
      "2023-02-16 00:14:54,009 : INFO : worker thread finished; awaiting finish of 0 more threads\n",
      "2023-02-16 00:14:54,009 : INFO : EPOCH - 3 : training on 6022875 raw words (4500313 effective words) took 9.9s, 452365 effective words/s\n",
      "2023-02-16 00:14:55,026 : INFO : EPOCH 4 - PROGRESS: at 9.78% examples, 440981 words/s, in_qsize 5, out_qsize 0\n",
      "2023-02-16 00:14:56,037 : INFO : EPOCH 4 - PROGRESS: at 20.02% examples, 448144 words/s, in_qsize 5, out_qsize 0\n",
      "2023-02-16 00:14:57,050 : INFO : EPOCH 4 - PROGRESS: at 30.21% examples, 450185 words/s, in_qsize 5, out_qsize 0\n",
      "2023-02-16 00:14:58,057 : INFO : EPOCH 4 - PROGRESS: at 40.38% examples, 451481 words/s, in_qsize 5, out_qsize 0\n",
      "2023-02-16 00:14:59,076 : INFO : EPOCH 4 - PROGRESS: at 50.42% examples, 451810 words/s, in_qsize 5, out_qsize 0\n",
      "2023-02-16 00:15:00,095 : INFO : EPOCH 4 - PROGRESS: at 60.72% examples, 452061 words/s, in_qsize 5, out_qsize 0\n",
      "2023-02-16 00:15:01,113 : INFO : EPOCH 4 - PROGRESS: at 71.30% examples, 452412 words/s, in_qsize 5, out_qsize 0\n",
      "2023-02-16 00:15:02,132 : INFO : EPOCH 4 - PROGRESS: at 81.78% examples, 452601 words/s, in_qsize 5, out_qsize 0\n",
      "2023-02-16 00:15:03,162 : INFO : EPOCH 4 - PROGRESS: at 91.82% examples, 452383 words/s, in_qsize 5, out_qsize 0\n",
      "2023-02-16 00:15:03,906 : INFO : worker thread finished; awaiting finish of 2 more threads\n",
      "2023-02-16 00:15:03,944 : INFO : worker thread finished; awaiting finish of 1 more threads\n",
      "2023-02-16 00:15:03,950 : INFO : worker thread finished; awaiting finish of 0 more threads\n"
     ]
    },
    {
     "name": "stderr",
     "output_type": "stream",
     "text": [
      "2023-02-16 00:15:03,950 : INFO : EPOCH - 4 : training on 6022875 raw words (4500226 effective words) took 9.9s, 452823 effective words/s\n",
      "2023-02-16 00:15:04,952 : INFO : EPOCH 5 - PROGRESS: at 9.24% examples, 425093 words/s, in_qsize 5, out_qsize 0\n",
      "2023-02-16 00:15:05,964 : INFO : EPOCH 5 - PROGRESS: at 19.53% examples, 440294 words/s, in_qsize 5, out_qsize 0\n",
      "2023-02-16 00:15:06,964 : INFO : EPOCH 5 - PROGRESS: at 28.83% examples, 434708 words/s, in_qsize 5, out_qsize 0\n",
      "2023-02-16 00:15:07,966 : INFO : EPOCH 5 - PROGRESS: at 38.48% examples, 434881 words/s, in_qsize 5, out_qsize 0\n",
      "2023-02-16 00:15:08,968 : INFO : EPOCH 5 - PROGRESS: at 48.30% examples, 437066 words/s, in_qsize 5, out_qsize 0\n",
      "2023-02-16 00:15:09,992 : INFO : EPOCH 5 - PROGRESS: at 58.68% examples, 439585 words/s, in_qsize 5, out_qsize 0\n",
      "2023-02-16 00:15:11,015 : INFO : EPOCH 5 - PROGRESS: at 69.07% examples, 441439 words/s, in_qsize 5, out_qsize 0\n",
      "2023-02-16 00:15:12,043 : INFO : EPOCH 5 - PROGRESS: at 79.62% examples, 442499 words/s, in_qsize 5, out_qsize 0\n",
      "2023-02-16 00:15:13,070 : INFO : EPOCH 5 - PROGRESS: at 89.80% examples, 443586 words/s, in_qsize 5, out_qsize 0\n",
      "2023-02-16 00:15:14,046 : INFO : worker thread finished; awaiting finish of 2 more threads\n",
      "2023-02-16 00:15:14,061 : INFO : worker thread finished; awaiting finish of 1 more threads\n",
      "2023-02-16 00:15:14,067 : INFO : worker thread finished; awaiting finish of 0 more threads\n",
      "2023-02-16 00:15:14,067 : INFO : EPOCH - 5 : training on 6022875 raw words (4501806 effective words) took 10.1s, 444995 effective words/s\n",
      "2023-02-16 00:15:14,068 : INFO : Word2Vec lifecycle event {'msg': 'training on 30114375 raw words (22504315 effective words) took 49.9s, 451041 effective words/s', 'datetime': '2023-02-16T00:15:14.067964', 'gensim': '4.1.2', 'python': '3.9.13 (main, Aug 25 2022, 18:29:29) \\n[Clang 12.0.0 ]', 'platform': 'macOS-10.16-x86_64-i386-64bit', 'event': 'train'}\n",
      "2023-02-16 00:15:14,068 : INFO : Word2Vec lifecycle event {'params': 'Word2Vec(vocab=33359, vector_size=100, alpha=0.025)', 'datetime': '2023-02-16T00:15:14.068303', 'gensim': '4.1.2', 'python': '3.9.13 (main, Aug 25 2022, 18:29:29) \\n[Clang 12.0.0 ]', 'platform': 'macOS-10.16-x86_64-i386-64bit', 'event': 'created'}\n"
     ]
    }
   ],
   "source": [
    "w2v_sg = gensim.models.word2vec.Word2Vec(sentences=text,\n",
    "                                vector_size=100, window=5,               ### here we train a cbow model \n",
    "                                min_count=5,                      \n",
    "                                sample=0.001, workers=3,\n",
    "                                sg=1, hs=0, negative=5,        ### set sg to 1 to train a sg model\n",
    "                                cbow_mean=1, epochs=5)"
   ]
  },
  {
   "cell_type": "code",
   "execution_count": 26,
   "metadata": {
    "scrolled": false
   },
   "outputs": [
    {
     "name": "stderr",
     "output_type": "stream",
     "text": [
      "2023-02-16 00:15:14,074 : INFO : collecting all words and their counts\n",
      "2023-02-16 00:15:14,074 : INFO : PROGRESS: at sentence #0, processed 0 words, keeping 0 word types\n",
      "2023-02-16 00:15:14,339 : INFO : PROGRESS: at sentence #10000, processed 2426102 words, keeping 61702 word types\n",
      "2023-02-16 00:15:14,600 : INFO : PROGRESS: at sentence #20000, processed 4816878 words, keeping 84298 word types\n",
      "2023-02-16 00:15:14,736 : INFO : collected 93201 word types from a corpus of 6022875 raw words and 25000 sentences\n",
      "2023-02-16 00:15:14,737 : INFO : Creating a fresh vocabulary\n",
      "2023-02-16 00:15:14,823 : INFO : Word2Vec lifecycle event {'msg': 'effective_min_count=5 retains 33359 unique words (35.79253441486679%% of original 93201, drops 59842)', 'datetime': '2023-02-16T00:15:14.823505', 'gensim': '4.1.2', 'python': '3.9.13 (main, Aug 25 2022, 18:29:29) \\n[Clang 12.0.0 ]', 'platform': 'macOS-10.16-x86_64-i386-64bit', 'event': 'prepare_vocab'}\n",
      "2023-02-16 00:15:14,823 : INFO : Word2Vec lifecycle event {'msg': 'effective_min_count=5 leaves 5924674 word corpus (98.36953282277982%% of original 6022875, drops 98201)', 'datetime': '2023-02-16T00:15:14.823885', 'gensim': '4.1.2', 'python': '3.9.13 (main, Aug 25 2022, 18:29:29) \\n[Clang 12.0.0 ]', 'platform': 'macOS-10.16-x86_64-i386-64bit', 'event': 'prepare_vocab'}\n",
      "2023-02-16 00:15:14,939 : INFO : deleting the raw counts dictionary of 93201 items\n",
      "2023-02-16 00:15:14,940 : INFO : sample=0.001 downsamples 47 most-common words\n",
      "2023-02-16 00:15:14,941 : INFO : Word2Vec lifecycle event {'msg': 'downsampling leaves estimated 4500851.640108086 word corpus (76.0%% of prior 5924674)', 'datetime': '2023-02-16T00:15:14.941195', 'gensim': '4.1.2', 'python': '3.9.13 (main, Aug 25 2022, 18:29:29) \\n[Clang 12.0.0 ]', 'platform': 'macOS-10.16-x86_64-i386-64bit', 'event': 'prepare_vocab'}\n",
      "2023-02-16 00:15:15,165 : INFO : estimated required memory for 33359 words and 100 dimensions: 43366700 bytes\n",
      "2023-02-16 00:15:15,165 : INFO : resetting layer weights\n",
      "2023-02-16 00:15:15,179 : INFO : Word2Vec lifecycle event {'update': False, 'trim_rule': 'None', 'datetime': '2023-02-16T00:15:15.179256', 'gensim': '4.1.2', 'python': '3.9.13 (main, Aug 25 2022, 18:29:29) \\n[Clang 12.0.0 ]', 'platform': 'macOS-10.16-x86_64-i386-64bit', 'event': 'build_vocab'}\n",
      "2023-02-16 00:15:15,179 : INFO : Word2Vec lifecycle event {'msg': 'training model with 3 workers on 33359 vocabulary and 100 features, using sg=0 hs=0 sample=0.001 negative=5 window=5 shrink_windows=True', 'datetime': '2023-02-16T00:15:15.179753', 'gensim': '4.1.2', 'python': '3.9.13 (main, Aug 25 2022, 18:29:29) \\n[Clang 12.0.0 ]', 'platform': 'macOS-10.16-x86_64-i386-64bit', 'event': 'train'}\n",
      "2023-02-16 00:15:16,186 : INFO : EPOCH 1 - PROGRESS: at 35.36% examples, 1599807 words/s, in_qsize 5, out_qsize 0\n",
      "2023-02-16 00:15:17,187 : INFO : EPOCH 1 - PROGRESS: at 71.82% examples, 1612966 words/s, in_qsize 5, out_qsize 0\n",
      "2023-02-16 00:15:17,951 : INFO : worker thread finished; awaiting finish of 2 more threads\n",
      "2023-02-16 00:15:17,960 : INFO : worker thread finished; awaiting finish of 1 more threads\n",
      "2023-02-16 00:15:17,962 : INFO : worker thread finished; awaiting finish of 0 more threads\n",
      "2023-02-16 00:15:17,963 : INFO : EPOCH - 1 : training on 6022875 raw words (4500700 effective words) took 2.8s, 1618162 effective words/s\n",
      "2023-02-16 00:15:18,968 : INFO : EPOCH 2 - PROGRESS: at 35.36% examples, 1599060 words/s, in_qsize 5, out_qsize 0\n",
      "2023-02-16 00:15:19,971 : INFO : EPOCH 2 - PROGRESS: at 71.30% examples, 1600564 words/s, in_qsize 5, out_qsize 0\n",
      "2023-02-16 00:15:20,762 : INFO : worker thread finished; awaiting finish of 2 more threads\n",
      "2023-02-16 00:15:20,771 : INFO : worker thread finished; awaiting finish of 1 more threads\n",
      "2023-02-16 00:15:20,774 : INFO : worker thread finished; awaiting finish of 0 more threads\n",
      "2023-02-16 00:15:20,774 : INFO : EPOCH - 2 : training on 6022875 raw words (4500307 effective words) took 2.8s, 1601285 effective words/s\n",
      "2023-02-16 00:15:21,778 : INFO : EPOCH 3 - PROGRESS: at 34.88% examples, 1583135 words/s, in_qsize 5, out_qsize 0\n",
      "2023-02-16 00:15:22,785 : INFO : EPOCH 3 - PROGRESS: at 70.28% examples, 1577845 words/s, in_qsize 5, out_qsize 0\n",
      "2023-02-16 00:15:23,629 : INFO : worker thread finished; awaiting finish of 2 more threads\n",
      "2023-02-16 00:15:23,638 : INFO : worker thread finished; awaiting finish of 1 more threads\n",
      "2023-02-16 00:15:23,641 : INFO : worker thread finished; awaiting finish of 0 more threads\n",
      "2023-02-16 00:15:23,641 : INFO : EPOCH - 3 : training on 6022875 raw words (4500732 effective words) took 2.9s, 1571411 effective words/s\n",
      "2023-02-16 00:15:24,646 : INFO : EPOCH 4 - PROGRESS: at 34.72% examples, 1574040 words/s, in_qsize 5, out_qsize 0\n",
      "2023-02-16 00:15:25,646 : INFO : EPOCH 4 - PROGRESS: at 69.77% examples, 1571946 words/s, in_qsize 5, out_qsize 0\n",
      "2023-02-16 00:15:26,488 : INFO : worker thread finished; awaiting finish of 2 more threads\n",
      "2023-02-16 00:15:26,496 : INFO : worker thread finished; awaiting finish of 1 more threads\n",
      "2023-02-16 00:15:26,499 : INFO : worker thread finished; awaiting finish of 0 more threads\n",
      "2023-02-16 00:15:26,499 : INFO : EPOCH - 4 : training on 6022875 raw words (4500772 effective words) took 2.9s, 1576395 effective words/s\n",
      "2023-02-16 00:15:27,507 : INFO : EPOCH 5 - PROGRESS: at 34.36% examples, 1554915 words/s, in_qsize 5, out_qsize 0\n",
      "2023-02-16 00:15:28,509 : INFO : EPOCH 5 - PROGRESS: at 69.96% examples, 1572032 words/s, in_qsize 5, out_qsize 0\n",
      "2023-02-16 00:15:29,361 : INFO : worker thread finished; awaiting finish of 2 more threads\n",
      "2023-02-16 00:15:29,369 : INFO : worker thread finished; awaiting finish of 1 more threads\n",
      "2023-02-16 00:15:29,372 : INFO : worker thread finished; awaiting finish of 0 more threads\n",
      "2023-02-16 00:15:29,372 : INFO : EPOCH - 5 : training on 6022875 raw words (4500626 effective words) took 2.9s, 1568094 effective words/s\n",
      "2023-02-16 00:15:29,372 : INFO : Word2Vec lifecycle event {'msg': 'training on 30114375 raw words (22503137 effective words) took 14.2s, 1585477 effective words/s', 'datetime': '2023-02-16T00:15:29.372702', 'gensim': '4.1.2', 'python': '3.9.13 (main, Aug 25 2022, 18:29:29) \\n[Clang 12.0.0 ]', 'platform': 'macOS-10.16-x86_64-i386-64bit', 'event': 'train'}\n",
      "2023-02-16 00:15:29,373 : INFO : Word2Vec lifecycle event {'params': 'Word2Vec(vocab=33359, vector_size=100, alpha=0.025)', 'datetime': '2023-02-16T00:15:29.373091', 'gensim': '4.1.2', 'python': '3.9.13 (main, Aug 25 2022, 18:29:29) \\n[Clang 12.0.0 ]', 'platform': 'macOS-10.16-x86_64-i386-64bit', 'event': 'created'}\n"
     ]
    }
   ],
   "source": [
    "w2v_cbow = gensim.models.word2vec.Word2Vec(sentences=text,\n",
    "                                vector_size=100, window=5,               ### here we train a cbow model \n",
    "                                min_count=5,                      \n",
    "                                sample=0.001, workers=3,\n",
    "                                sg=0, hs=0, negative=5,        ### set sg to 1 to train a sg model\n",
    "                                cbow_mean=1, epochs=5)"
   ]
  },
  {
   "cell_type": "code",
   "execution_count": 27,
   "metadata": {},
   "outputs": [
    {
     "name": "stderr",
     "output_type": "stream",
     "text": [
      "/Users/benkabongo25/opt/anaconda3/lib/python3.9/site-packages/sklearn/linear_model/_logistic.py:444: ConvergenceWarning: lbfgs failed to converge (status=1):\n",
      "STOP: TOTAL NO. of ITERATIONS REACHED LIMIT.\n",
      "\n",
      "Increase the number of iterations (max_iter) or scale the data as shown in:\n",
      "    https://scikit-learn.org/stable/modules/preprocessing.html\n",
      "Please also refer to the documentation for alternative solver options:\n",
      "    https://scikit-learn.org/stable/modules/linear_model.html#logistic-regression\n",
      "  n_iter_i = _check_optimize_result(\n",
      "/Users/benkabongo25/opt/anaconda3/lib/python3.9/site-packages/sklearn/linear_model/_logistic.py:444: ConvergenceWarning: lbfgs failed to converge (status=1):\n",
      "STOP: TOTAL NO. of ITERATIONS REACHED LIMIT.\n",
      "\n",
      "Increase the number of iterations (max_iter) or scale the data as shown in:\n",
      "    https://scikit-learn.org/stable/modules/preprocessing.html\n",
      "Please also refer to the documentation for alternative solver options:\n",
      "    https://scikit-learn.org/stable/modules/linear_model.html#logistic-regression\n",
      "  n_iter_i = _check_optimize_result(\n",
      "/Users/benkabongo25/opt/anaconda3/lib/python3.9/site-packages/sklearn/linear_model/_logistic.py:444: ConvergenceWarning: lbfgs failed to converge (status=1):\n",
      "STOP: TOTAL NO. of ITERATIONS REACHED LIMIT.\n",
      "\n",
      "Increase the number of iterations (max_iter) or scale the data as shown in:\n",
      "    https://scikit-learn.org/stable/modules/preprocessing.html\n",
      "Please also refer to the documentation for alternative solver options:\n",
      "    https://scikit-learn.org/stable/modules/linear_model.html#logistic-regression\n",
      "  n_iter_i = _check_optimize_result(\n",
      "/Users/benkabongo25/opt/anaconda3/lib/python3.9/site-packages/sklearn/linear_model/_logistic.py:444: ConvergenceWarning: lbfgs failed to converge (status=1):\n",
      "STOP: TOTAL NO. of ITERATIONS REACHED LIMIT.\n",
      "\n",
      "Increase the number of iterations (max_iter) or scale the data as shown in:\n",
      "    https://scikit-learn.org/stable/modules/preprocessing.html\n",
      "Please also refer to the documentation for alternative solver options:\n",
      "    https://scikit-learn.org/stable/modules/linear_model.html#logistic-regression\n",
      "  n_iter_i = _check_optimize_result(\n",
      "/Users/benkabongo25/opt/anaconda3/lib/python3.9/site-packages/sklearn/linear_model/_logistic.py:444: ConvergenceWarning: lbfgs failed to converge (status=1):\n",
      "STOP: TOTAL NO. of ITERATIONS REACHED LIMIT.\n",
      "\n",
      "Increase the number of iterations (max_iter) or scale the data as shown in:\n",
      "    https://scikit-learn.org/stable/modules/preprocessing.html\n",
      "Please also refer to the documentation for alternative solver options:\n",
      "    https://scikit-learn.org/stable/modules/linear_model.html#logistic-regression\n",
      "  n_iter_i = _check_optimize_result(\n",
      "/Users/benkabongo25/opt/anaconda3/lib/python3.9/site-packages/sklearn/linear_model/_logistic.py:444: ConvergenceWarning: lbfgs failed to converge (status=1):\n",
      "STOP: TOTAL NO. of ITERATIONS REACHED LIMIT.\n",
      "\n",
      "Increase the number of iterations (max_iter) or scale the data as shown in:\n",
      "    https://scikit-learn.org/stable/modules/preprocessing.html\n",
      "Please also refer to the documentation for alternative solver options:\n",
      "    https://scikit-learn.org/stable/modules/linear_model.html#logistic-regression\n",
      "  n_iter_i = _check_optimize_result(\n",
      "/Users/benkabongo25/opt/anaconda3/lib/python3.9/site-packages/sklearn/linear_model/_logistic.py:444: ConvergenceWarning: lbfgs failed to converge (status=1):\n",
      "STOP: TOTAL NO. of ITERATIONS REACHED LIMIT.\n",
      "\n",
      "Increase the number of iterations (max_iter) or scale the data as shown in:\n",
      "    https://scikit-learn.org/stable/modules/preprocessing.html\n",
      "Please also refer to the documentation for alternative solver options:\n",
      "    https://scikit-learn.org/stable/modules/linear_model.html#logistic-regression\n",
      "  n_iter_i = _check_optimize_result(\n",
      "/Users/benkabongo25/opt/anaconda3/lib/python3.9/site-packages/sklearn/linear_model/_logistic.py:444: ConvergenceWarning: lbfgs failed to converge (status=1):\n",
      "STOP: TOTAL NO. of ITERATIONS REACHED LIMIT.\n",
      "\n",
      "Increase the number of iterations (max_iter) or scale the data as shown in:\n",
      "    https://scikit-learn.org/stable/modules/preprocessing.html\n",
      "Please also refer to the documentation for alternative solver options:\n",
      "    https://scikit-learn.org/stable/modules/linear_model.html#logistic-regression\n",
      "  n_iter_i = _check_optimize_result(\n",
      "/Users/benkabongo25/opt/anaconda3/lib/python3.9/site-packages/sklearn/linear_model/_logistic.py:444: ConvergenceWarning: lbfgs failed to converge (status=1):\n",
      "STOP: TOTAL NO. of ITERATIONS REACHED LIMIT.\n",
      "\n",
      "Increase the number of iterations (max_iter) or scale the data as shown in:\n",
      "    https://scikit-learn.org/stable/modules/preprocessing.html\n",
      "Please also refer to the documentation for alternative solver options:\n",
      "    https://scikit-learn.org/stable/modules/linear_model.html#logistic-regression\n",
      "  n_iter_i = _check_optimize_result(\n",
      "/Users/benkabongo25/opt/anaconda3/lib/python3.9/site-packages/sklearn/linear_model/_logistic.py:444: ConvergenceWarning: lbfgs failed to converge (status=1):\n",
      "STOP: TOTAL NO. of ITERATIONS REACHED LIMIT.\n",
      "\n",
      "Increase the number of iterations (max_iter) or scale the data as shown in:\n",
      "    https://scikit-learn.org/stable/modules/preprocessing.html\n",
      "Please also refer to the documentation for alternative solver options:\n",
      "    https://scikit-learn.org/stable/modules/linear_model.html#logistic-regression\n",
      "  n_iter_i = _check_optimize_result(\n"
     ]
    }
   ],
   "source": [
    "f_names = ['sum', 'mean', 'min', 'max']\n",
    "m_names = ['SG', 'CBOW', 'Pre_trained']\n",
    "\n",
    "scores = np.zeros((4, 3))\n",
    "\n",
    "for fi, f in enumerate([np.sum, np.mean, np.min, np.max]):\n",
    "    for mi, m in enumerate([w2v_sg.wv, w2v_cbow.wv, wv_pre_trained]):\n",
    "        scores[fi, mi] = vectorize_train_test(f, m)"
   ]
  },
  {
   "cell_type": "code",
   "execution_count": 28,
   "metadata": {},
   "outputs": [
    {
     "name": "stdout",
     "output_type": "stream",
     "text": [
      "sum\n",
      "\t SG : 0.63072\n",
      "\t CBOW : 0.62176\n",
      "\t Pre_trained : 0.62832\n",
      "mean\n",
      "\t SG : 0.60324\n",
      "\t CBOW : 0.61224\n",
      "\t Pre_trained : 0.6118\n",
      "min\n",
      "\t SG : 0.55156\n",
      "\t CBOW : 0.5482\n",
      "\t Pre_trained : 0.5644\n",
      "max\n",
      "\t SG : 0.54976\n",
      "\t CBOW : 0.53988\n",
      "\t Pre_trained : 0.56132\n"
     ]
    }
   ],
   "source": [
    "for fi in range(4):\n",
    "    print(f_names[fi])\n",
    "    for mi in range(3):\n",
    "        print('\\t', m_names[mi], ':', scores[fi, mi])"
   ]
  },
  {
   "cell_type": "code",
   "execution_count": 29,
   "metadata": {},
   "outputs": [
    {
     "data": {
      "image/png": "[encoded data removed]",
      "text/plain": [
       "<Figure size 640x480 with 1 Axes>"
      ]
     },
     "metadata": {},
     "output_type": "display_data"
    }
   ],
   "source": [
    "import matplotlib.pyplot as plt\n",
    "plt.style.use('seaborn-whitegrid')\n",
    "\n",
    "plt.title('Word2Vec - Functions - Scores')\n",
    "for fi in range(4):\n",
    "    plt.plot(m_names, scores[fi], label=f_names[fi])\n",
    "plt.xlabel('Word2Vec')\n",
    "plt.ylabel('Scores')\n",
    "plt.legend()\n",
    "plt.show()"
   ]
  },
  {
   "cell_type": "markdown",
   "metadata": {},
   "source": [
    "\n",
    "**(Bonus)** To have a better accuracy, we could try two things:\n",
    "- Better aggregation methods (weight by tf-idf ?)\n",
    "- Another word vectorizing method such as [fasttext](https://radimrehurek.com/gensim/models/fasttext.html)\n",
    "- A document vectorizing method such as [Doc2Vec](https://radimrehurek.com/gensim/models/doc2vec.html)"
   ]
  },
  {
   "cell_type": "markdown",
   "metadata": {},
   "source": [
    "#### FastText"
   ]
  },
  {
   "cell_type": "code",
   "execution_count": 30,
   "metadata": {
    "scrolled": false
   },
   "outputs": [
    {
     "name": "stderr",
     "output_type": "stream",
     "text": [
      "2023-02-16 00:44:03,967 : INFO : collecting all words and their counts\n",
      "2023-02-16 00:44:03,968 : INFO : PROGRESS: at sentence #0, processed 0 words, keeping 0 word types\n",
      "2023-02-16 00:44:04,248 : INFO : PROGRESS: at sentence #10000, processed 2426102 words, keeping 61702 word types\n",
      "2023-02-16 00:44:04,520 : INFO : PROGRESS: at sentence #20000, processed 4816878 words, keeping 84298 word types\n",
      "2023-02-16 00:44:04,662 : INFO : collected 93201 word types from a corpus of 6022875 raw words and 25000 sentences\n",
      "2023-02-16 00:44:04,662 : INFO : Creating a fresh vocabulary\n",
      "2023-02-16 00:44:04,750 : INFO : FastText lifecycle event {'msg': 'effective_min_count=5 retains 33359 unique words (35.79253441486679%% of original 93201, drops 59842)', 'datetime': '2023-02-16T00:44:04.750266', 'gensim': '4.1.2', 'python': '3.9.13 (main, Aug 25 2022, 18:29:29) \\n[Clang 12.0.0 ]', 'platform': 'macOS-10.16-x86_64-i386-64bit', 'event': 'prepare_vocab'}\n",
      "2023-02-16 00:44:04,750 : INFO : FastText lifecycle event {'msg': 'effective_min_count=5 leaves 5924674 word corpus (98.36953282277982%% of original 6022875, drops 98201)', 'datetime': '2023-02-16T00:44:04.750689', 'gensim': '4.1.2', 'python': '3.9.13 (main, Aug 25 2022, 18:29:29) \\n[Clang 12.0.0 ]', 'platform': 'macOS-10.16-x86_64-i386-64bit', 'event': 'prepare_vocab'}\n",
      "2023-02-16 00:44:04,865 : INFO : deleting the raw counts dictionary of 93201 items\n",
      "2023-02-16 00:44:04,867 : INFO : sample=0.001 downsamples 47 most-common words\n",
      "2023-02-16 00:44:04,867 : INFO : FastText lifecycle event {'msg': 'downsampling leaves estimated 4500851.640108086 word corpus (76.0%% of prior 5924674)', 'datetime': '2023-02-16T00:44:04.867717', 'gensim': '4.1.2', 'python': '3.9.13 (main, Aug 25 2022, 18:29:29) \\n[Clang 12.0.0 ]', 'platform': 'macOS-10.16-x86_64-i386-64bit', 'event': 'prepare_vocab'}\n",
      "2023-02-16 00:44:05,277 : INFO : estimated required memory for 33359 words, 2000000 buckets and 100 dimensions: 849607464 bytes\n",
      "2023-02-16 00:44:05,278 : INFO : resetting layer weights\n",
      "2023-02-16 00:44:07,439 : INFO : FastText lifecycle event {'update': False, 'trim_rule': 'None', 'datetime': '2023-02-16T00:44:07.439882', 'gensim': '4.1.2', 'python': '3.9.13 (main, Aug 25 2022, 18:29:29) \\n[Clang 12.0.0 ]', 'platform': 'macOS-10.16-x86_64-i386-64bit', 'event': 'build_vocab'}\n",
      "2023-02-16 00:44:07,440 : INFO : FastText lifecycle event {'msg': 'training model with 3 workers on 33359 vocabulary and 100 features, using sg=0 hs=0 sample=0.001 negative=5 window=5 shrink_windows=True', 'datetime': '2023-02-16T00:44:07.440580', 'gensim': '4.1.2', 'python': '3.9.13 (main, Aug 25 2022, 18:29:29) \\n[Clang 12.0.0 ]', 'platform': 'macOS-10.16-x86_64-i386-64bit', 'event': 'train'}\n",
      "2023-02-16 00:44:08,460 : INFO : EPOCH 1 - PROGRESS: at 7.74% examples, 352476 words/s, in_qsize 5, out_qsize 0\n",
      "2023-02-16 00:44:09,473 : INFO : EPOCH 1 - PROGRESS: at 16.18% examples, 361412 words/s, in_qsize 5, out_qsize 0\n",
      "2023-02-16 00:44:10,477 : INFO : EPOCH 1 - PROGRESS: at 24.61% examples, 366435 words/s, in_qsize 5, out_qsize 0\n",
      "2023-02-16 00:44:11,487 : INFO : EPOCH 1 - PROGRESS: at 32.60% examples, 364934 words/s, in_qsize 5, out_qsize 0\n",
      "2023-02-16 00:44:12,496 : INFO : EPOCH 1 - PROGRESS: at 40.91% examples, 365796 words/s, in_qsize 5, out_qsize 0\n",
      "2023-02-16 00:44:13,510 : INFO : EPOCH 1 - PROGRESS: at 48.97% examples, 366239 words/s, in_qsize 5, out_qsize 0\n",
      "2023-02-16 00:44:14,530 : INFO : EPOCH 1 - PROGRESS: at 57.67% examples, 368343 words/s, in_qsize 5, out_qsize 0\n",
      "2023-02-16 00:44:15,543 : INFO : EPOCH 1 - PROGRESS: at 66.18% examples, 369513 words/s, in_qsize 5, out_qsize 0\n",
      "2023-02-16 00:44:16,562 : INFO : EPOCH 1 - PROGRESS: at 75.07% examples, 370745 words/s, in_qsize 5, out_qsize 0\n",
      "2023-02-16 00:44:17,585 : INFO : EPOCH 1 - PROGRESS: at 83.63% examples, 371184 words/s, in_qsize 5, out_qsize 0\n",
      "2023-02-16 00:44:18,588 : INFO : EPOCH 1 - PROGRESS: at 91.82% examples, 371474 words/s, in_qsize 5, out_qsize 0\n",
      "2023-02-16 00:44:19,473 : INFO : worker thread finished; awaiting finish of 2 more threads\n",
      "2023-02-16 00:44:19,522 : INFO : worker thread finished; awaiting finish of 1 more threads\n",
      "2023-02-16 00:44:19,526 : INFO : worker thread finished; awaiting finish of 0 more threads\n",
      "2023-02-16 00:44:19,526 : INFO : EPOCH - 1 : training on 6022875 raw words (4501315 effective words) took 12.1s, 372504 effective words/s\n",
      "2023-02-16 00:44:20,542 : INFO : EPOCH 2 - PROGRESS: at 7.74% examples, 354309 words/s, in_qsize 5, out_qsize 0\n",
      "2023-02-16 00:44:21,543 : INFO : EPOCH 2 - PROGRESS: at 14.50% examples, 327998 words/s, in_qsize 5, out_qsize 0\n",
      "2023-02-16 00:44:22,566 : INFO : EPOCH 2 - PROGRESS: at 21.98% examples, 327805 words/s, in_qsize 5, out_qsize 0\n",
      "2023-02-16 00:44:23,571 : INFO : EPOCH 2 - PROGRESS: at 29.17% examples, 327565 words/s, in_qsize 5, out_qsize 0\n",
      "2023-02-16 00:44:24,622 : INFO : EPOCH 2 - PROGRESS: at 36.36% examples, 324034 words/s, in_qsize 5, out_qsize 0\n",
      "2023-02-16 00:44:25,635 : INFO : EPOCH 2 - PROGRESS: at 42.95% examples, 318277 words/s, in_qsize 5, out_qsize 0\n",
      "2023-02-16 00:44:26,669 : INFO : EPOCH 2 - PROGRESS: at 49.45% examples, 314276 words/s, in_qsize 5, out_qsize 0\n",
      "2023-02-16 00:44:27,685 : INFO : EPOCH 2 - PROGRESS: at 56.38% examples, 312866 words/s, in_qsize 5, out_qsize 0\n",
      "2023-02-16 00:44:28,688 : INFO : EPOCH 2 - PROGRESS: at 63.21% examples, 313061 words/s, in_qsize 5, out_qsize 0\n",
      "2023-02-16 00:44:29,696 : INFO : EPOCH 2 - PROGRESS: at 70.71% examples, 313809 words/s, in_qsize 5, out_qsize 0\n",
      "2023-02-16 00:44:30,698 : INFO : EPOCH 2 - PROGRESS: at 78.57% examples, 316486 words/s, in_qsize 5, out_qsize 0\n",
      "2023-02-16 00:44:31,721 : INFO : EPOCH 2 - PROGRESS: at 85.98% examples, 317724 words/s, in_qsize 5, out_qsize 0\n",
      "2023-02-16 00:44:32,740 : INFO : EPOCH 2 - PROGRESS: at 93.84% examples, 319998 words/s, in_qsize 5, out_qsize 0\n",
      "2023-02-16 00:44:33,429 : INFO : worker thread finished; awaiting finish of 2 more threads\n",
      "2023-02-16 00:44:33,480 : INFO : worker thread finished; awaiting finish of 1 more threads\n",
      "2023-02-16 00:44:33,485 : INFO : worker thread finished; awaiting finish of 0 more threads\n",
      "2023-02-16 00:44:33,485 : INFO : EPOCH - 2 : training on 6022875 raw words (4500239 effective words) took 14.0s, 322441 effective words/s\n",
      "2023-02-16 00:44:34,490 : INFO : EPOCH 3 - PROGRESS: at 7.39% examples, 342522 words/s, in_qsize 5, out_qsize 0\n",
      "2023-02-16 00:44:35,492 : INFO : EPOCH 3 - PROGRESS: at 15.31% examples, 347394 words/s, in_qsize 5, out_qsize 0\n",
      "2023-02-16 00:44:36,504 : INFO : EPOCH 3 - PROGRESS: at 23.25% examples, 348863 words/s, in_qsize 5, out_qsize 0\n",
      "2023-02-16 00:44:37,512 : INFO : EPOCH 3 - PROGRESS: at 30.84% examples, 346993 words/s, in_qsize 5, out_qsize 0\n",
      "2023-02-16 00:44:38,526 : INFO : EPOCH 3 - PROGRESS: at 38.16% examples, 343550 words/s, in_qsize 5, out_qsize 0\n",
      "2023-02-16 00:44:39,539 : INFO : EPOCH 3 - PROGRESS: at 45.43% examples, 340509 words/s, in_qsize 5, out_qsize 0\n",
      "2023-02-16 00:44:40,540 : INFO : EPOCH 3 - PROGRESS: at 52.30% examples, 336873 words/s, in_qsize 5, out_qsize 0\n",
      "2023-02-16 00:44:41,564 : INFO : EPOCH 3 - PROGRESS: at 59.65% examples, 334149 words/s, in_qsize 5, out_qsize 0\n",
      "2023-02-16 00:44:42,570 : INFO : EPOCH 3 - PROGRESS: at 66.70% examples, 331992 words/s, in_qsize 5, out_qsize 0\n",
      "2023-02-16 00:44:43,588 : INFO : EPOCH 3 - PROGRESS: at 73.75% examples, 328939 words/s, in_qsize 5, out_qsize 0\n",
      "2023-02-16 00:44:44,611 : INFO : EPOCH 3 - PROGRESS: at 80.95% examples, 327148 words/s, in_qsize 5, out_qsize 0\n",
      "2023-02-16 00:44:45,637 : INFO : EPOCH 3 - PROGRESS: at 87.93% examples, 326213 words/s, in_qsize 5, out_qsize 0\n",
      "2023-02-16 00:44:46,656 : INFO : EPOCH 3 - PROGRESS: at 95.18% examples, 325613 words/s, in_qsize 6, out_qsize 0\n",
      "2023-02-16 00:44:47,292 : INFO : worker thread finished; awaiting finish of 2 more threads\n",
      "2023-02-16 00:44:47,347 : INFO : worker thread finished; awaiting finish of 1 more threads\n",
      "2023-02-16 00:44:47,352 : INFO : worker thread finished; awaiting finish of 0 more threads\n",
      "2023-02-16 00:44:47,352 : INFO : EPOCH - 3 : training on 6022875 raw words (4501495 effective words) took 13.9s, 324637 effective words/s\n",
      "2023-02-16 00:44:48,364 : INFO : EPOCH 4 - PROGRESS: at 6.75% examples, 311892 words/s, in_qsize 5, out_qsize 0\n"
     ]
    },
    {
     "name": "stderr",
     "output_type": "stream",
     "text": [
      "2023-02-16 00:44:49,372 : INFO : EPOCH 4 - PROGRESS: at 14.36% examples, 323838 words/s, in_qsize 5, out_qsize 0\n",
      "2023-02-16 00:44:50,374 : INFO : EPOCH 4 - PROGRESS: at 21.82% examples, 327356 words/s, in_qsize 5, out_qsize 0\n",
      "2023-02-16 00:44:51,379 : INFO : EPOCH 4 - PROGRESS: at 29.00% examples, 327287 words/s, in_qsize 5, out_qsize 0\n",
      "2023-02-16 00:44:52,389 : INFO : EPOCH 4 - PROGRESS: at 36.19% examples, 326419 words/s, in_qsize 5, out_qsize 0\n",
      "2023-02-16 00:44:53,406 : INFO : EPOCH 4 - PROGRESS: at 43.60% examples, 326073 words/s, in_qsize 5, out_qsize 0\n",
      "2023-02-16 00:44:54,411 : INFO : EPOCH 4 - PROGRESS: at 50.57% examples, 325450 words/s, in_qsize 5, out_qsize 0\n",
      "2023-02-16 00:44:55,436 : INFO : EPOCH 4 - PROGRESS: at 58.21% examples, 325877 words/s, in_qsize 5, out_qsize 0\n",
      "2023-02-16 00:44:56,440 : INFO : EPOCH 4 - PROGRESS: at 65.35% examples, 325446 words/s, in_qsize 5, out_qsize 0\n",
      "2023-02-16 00:44:57,458 : INFO : EPOCH 4 - PROGRESS: at 72.83% examples, 324567 words/s, in_qsize 5, out_qsize 0\n",
      "2023-02-16 00:44:58,496 : INFO : EPOCH 4 - PROGRESS: at 80.29% examples, 324031 words/s, in_qsize 5, out_qsize 0\n",
      "2023-02-16 00:44:59,499 : INFO : EPOCH 4 - PROGRESS: at 87.34% examples, 323891 words/s, in_qsize 5, out_qsize 0\n",
      "2023-02-16 00:45:00,550 : INFO : EPOCH 4 - PROGRESS: at 94.34% examples, 322128 words/s, in_qsize 5, out_qsize 0\n",
      "2023-02-16 00:45:01,262 : INFO : worker thread finished; awaiting finish of 2 more threads\n",
      "2023-02-16 00:45:01,320 : INFO : worker thread finished; awaiting finish of 1 more threads\n",
      "2023-02-16 00:45:01,325 : INFO : worker thread finished; awaiting finish of 0 more threads\n",
      "2023-02-16 00:45:01,325 : INFO : EPOCH - 4 : training on 6022875 raw words (4500947 effective words) took 14.0s, 322187 effective words/s\n",
      "2023-02-16 00:45:02,375 : INFO : EPOCH 5 - PROGRESS: at 6.75% examples, 299536 words/s, in_qsize 5, out_qsize 0\n",
      "2023-02-16 00:45:03,410 : INFO : EPOCH 5 - PROGRESS: at 14.19% examples, 309632 words/s, in_qsize 5, out_qsize 0\n",
      "2023-02-16 00:45:04,434 : INFO : EPOCH 5 - PROGRESS: at 21.45% examples, 312921 words/s, in_qsize 5, out_qsize 0\n",
      "2023-02-16 00:45:05,458 : INFO : EPOCH 5 - PROGRESS: at 28.69% examples, 314891 words/s, in_qsize 5, out_qsize 0\n",
      "2023-02-16 00:45:06,481 : INFO : EPOCH 5 - PROGRESS: at 35.86% examples, 315815 words/s, in_qsize 5, out_qsize 0\n",
      "2023-02-16 00:45:07,511 : INFO : EPOCH 5 - PROGRESS: at 43.27% examples, 316445 words/s, in_qsize 5, out_qsize 0\n",
      "2023-02-16 00:45:08,524 : INFO : EPOCH 5 - PROGRESS: at 50.24% examples, 316752 words/s, in_qsize 5, out_qsize 0\n",
      "2023-02-16 00:45:09,526 : INFO : EPOCH 5 - PROGRESS: at 57.49% examples, 317359 words/s, in_qsize 5, out_qsize 0\n",
      "2023-02-16 00:45:10,534 : INFO : EPOCH 5 - PROGRESS: at 64.46% examples, 316980 words/s, in_qsize 5, out_qsize 0\n",
      "2023-02-16 00:45:11,557 : INFO : EPOCH 5 - PROGRESS: at 71.82% examples, 316153 words/s, in_qsize 5, out_qsize 0\n",
      "2023-02-16 00:45:12,566 : INFO : EPOCH 5 - PROGRESS: at 78.92% examples, 315806 words/s, in_qsize 5, out_qsize 0\n",
      "2023-02-16 00:45:13,623 : INFO : EPOCH 5 - PROGRESS: at 85.98% examples, 315002 words/s, in_qsize 5, out_qsize 0\n",
      "2023-02-16 00:45:14,629 : INFO : EPOCH 5 - PROGRESS: at 92.79% examples, 314483 words/s, in_qsize 5, out_qsize 0\n",
      "2023-02-16 00:45:15,555 : INFO : worker thread finished; awaiting finish of 2 more threads\n",
      "2023-02-16 00:45:15,614 : INFO : worker thread finished; awaiting finish of 1 more threads\n",
      "2023-02-16 00:45:15,620 : INFO : worker thread finished; awaiting finish of 0 more threads\n",
      "2023-02-16 00:45:15,620 : INFO : EPOCH - 5 : training on 6022875 raw words (4499807 effective words) took 14.3s, 314800 effective words/s\n",
      "2023-02-16 00:45:15,621 : INFO : FastText lifecycle event {'msg': 'training on 30114375 raw words (22503803 effective words) took 68.2s, 330051 effective words/s', 'datetime': '2023-02-16T00:45:15.621237', 'gensim': '4.1.2', 'python': '3.9.13 (main, Aug 25 2022, 18:29:29) \\n[Clang 12.0.0 ]', 'platform': 'macOS-10.16-x86_64-i386-64bit', 'event': 'train'}\n",
      "2023-02-16 00:45:16,516 : INFO : FastText lifecycle event {'params': 'FastText(vocab=33359, vector_size=100, alpha=0.025)', 'datetime': '2023-02-16T00:45:16.516409', 'gensim': '4.1.2', 'python': '3.9.13 (main, Aug 25 2022, 18:29:29) \\n[Clang 12.0.0 ]', 'platform': 'macOS-10.16-x86_64-i386-64bit', 'event': 'created'}\n"
     ]
    }
   ],
   "source": [
    "# fasttext\n",
    "ft = gensim.models.FastText(text)"
   ]
  },
  {
   "cell_type": "code",
   "execution_count": 31,
   "metadata": {},
   "outputs": [
    {
     "name": "stdout",
     "output_type": "stream",
     "text": [
      "great and good: 0.7687962\n",
      "great and bad: 0.5416878\n"
     ]
    }
   ],
   "source": [
    "print(\"great and good:\",ft.wv.similarity(\"great\",\"good\"))\n",
    "print(\"great and bad:\",ft.wv.similarity(\"great\",\"bad\"))"
   ]
  },
  {
   "cell_type": "code",
   "execution_count": 34,
   "metadata": {
    "scrolled": true
   },
   "outputs": [
    {
     "name": "stdout",
     "output_type": "stream",
     "text": [
      "movie :\n",
      "\t ('moovie', 0.96757572889328)\n",
      "\t ('film', 0.9341885447502136)\n",
      "\t ('telemovie', 0.9299285411834717)\n",
      "\t ('moviegoer', 0.9175208806991577)\n",
      "\t ('microfilm', 0.8816311955451965)\n",
      "awesome :\n",
      "\t ('Awesome', 0.9397410154342651)\n",
      "\t ('awsome', 0.8085961937904358)\n",
      "\t ('gruesome', 0.8025217652320862)\n",
      "\t ('tiresome', 0.7847380638122559)\n",
      "\t ('amazing', 0.7798058986663818)\n",
      "actor :\n",
      "\t ('Factor', 0.920687735080719)\n",
      "\t ('tractor', 0.8570579290390015)\n",
      "\t ('Contractor', 0.8470588326454163)\n",
      "\t ('benefactor', 0.8426493406295776)\n",
      "\t ('actress', 0.8383766412734985)\n"
     ]
    }
   ],
   "source": [
    "for word in ['movie', 'awesome', 'actor']:\n",
    "    print(word, ':')\n",
    "    for item in ft.wv.most_similar(word,topn=5):\n",
    "        print('\\t', item)"
   ]
  },
  {
   "cell_type": "code",
   "execution_count": 40,
   "metadata": {
    "scrolled": false
   },
   "outputs": [
    {
     "name": "stderr",
     "output_type": "stream",
     "text": [
      "/Users/benkabongo25/opt/anaconda3/lib/python3.9/site-packages/sklearn/linear_model/_logistic.py:444: ConvergenceWarning: lbfgs failed to converge (status=1):\n",
      "STOP: TOTAL NO. of ITERATIONS REACHED LIMIT.\n",
      "\n",
      "Increase the number of iterations (max_iter) or scale the data as shown in:\n",
      "    https://scikit-learn.org/stable/modules/preprocessing.html\n",
      "Please also refer to the documentation for alternative solver options:\n",
      "    https://scikit-learn.org/stable/modules/linear_model.html#logistic-regression\n",
      "  n_iter_i = _check_optimize_result(\n"
     ]
    },
    {
     "data": {
      "text/plain": [
       "0.59228"
      ]
     },
     "execution_count": 40,
     "metadata": {},
     "output_type": "execute_result"
    }
   ],
   "source": [
    "vectorize_train_test(np.sum, ft.wv)"
   ]
  },
  {
   "cell_type": "code",
   "execution_count": 41,
   "metadata": {},
   "outputs": [
    {
     "name": "stderr",
     "output_type": "stream",
     "text": [
      "/Users/benkabongo25/opt/anaconda3/lib/python3.9/site-packages/sklearn/linear_model/_logistic.py:444: ConvergenceWarning: lbfgs failed to converge (status=1):\n",
      "STOP: TOTAL NO. of ITERATIONS REACHED LIMIT.\n",
      "\n",
      "Increase the number of iterations (max_iter) or scale the data as shown in:\n",
      "    https://scikit-learn.org/stable/modules/preprocessing.html\n",
      "Please also refer to the documentation for alternative solver options:\n",
      "    https://scikit-learn.org/stable/modules/linear_model.html#logistic-regression\n",
      "  n_iter_i = _check_optimize_result(\n"
     ]
    },
    {
     "data": {
      "text/plain": [
       "0.59196"
      ]
     },
     "execution_count": 41,
     "metadata": {},
     "output_type": "execute_result"
    }
   ],
   "source": [
    "vectorize_train_test(np.mean, ft.wv)"
   ]
  },
  {
   "cell_type": "markdown",
   "metadata": {},
   "source": [
    "#### Doc2vec"
   ]
  },
  {
   "cell_type": "code",
   "execution_count": 43,
   "metadata": {
    "scrolled": false
   },
   "outputs": [
    {
     "name": "stderr",
     "output_type": "stream",
     "text": [
      "2023-02-16 09:48:57,615 : INFO : collecting all words and their counts\n",
      "2023-02-16 09:48:57,616 : WARNING : Each 'words' should be a list of words (usually unicode strings). First 'words' here is instead plain <class 'str'>.\n",
      "2023-02-16 09:48:57,616 : INFO : PROGRESS: at example #0, processed 0 words (0/s), 0 word types, 0 tags\n",
      "2023-02-16 09:48:58,550 : INFO : PROGRESS: at example #10000, processed 13421008 words (14388678/s), 163 word types, 0 tags\n",
      "2023-02-16 09:48:59,458 : INFO : PROGRESS: at example #20000, processed 26524225 words (14423886/s), 174 word types, 0 tags\n",
      "2023-02-16 09:48:59,918 : INFO : collected 178 word types and 25000 unique tags from a corpus of 25000 examples and 33126715 words\n",
      "2023-02-16 09:48:59,918 : INFO : Creating a fresh vocabulary\n",
      "2023-02-16 09:48:59,919 : INFO : Doc2Vec lifecycle event {'msg': 'effective_min_count=5 retains 147 unique words (82.58426966292134%% of original 178, drops 31)', 'datetime': '2023-02-16T09:48:59.919687', 'gensim': '4.1.2', 'python': '3.9.13 (main, Aug 25 2022, 18:29:29) \\n[Clang 12.0.0 ]', 'platform': 'macOS-10.16-x86_64-i386-64bit', 'event': 'prepare_vocab'}\n",
      "2023-02-16 09:48:59,919 : INFO : Doc2Vec lifecycle event {'msg': 'effective_min_count=5 leaves 33126655 word corpus (99.9998188773019%% of original 33126715, drops 60)', 'datetime': '2023-02-16T09:48:59.919971', 'gensim': '4.1.2', 'python': '3.9.13 (main, Aug 25 2022, 18:29:29) \\n[Clang 12.0.0 ]', 'platform': 'macOS-10.16-x86_64-i386-64bit', 'event': 'prepare_vocab'}\n",
      "2023-02-16 09:48:59,921 : INFO : deleting the raw counts dictionary of 178 items\n",
      "2023-02-16 09:48:59,921 : INFO : sample=0.001 downsamples 31 most-common words\n",
      "2023-02-16 09:48:59,921 : INFO : Doc2Vec lifecycle event {'msg': 'downsampling leaves estimated 7201799.570360168 word corpus (21.7%% of prior 33126655)', 'datetime': '2023-02-16T09:48:59.921918', 'gensim': '4.1.2', 'python': '3.9.13 (main, Aug 25 2022, 18:29:29) \\n[Clang 12.0.0 ]', 'platform': 'macOS-10.16-x86_64-i386-64bit', 'event': 'prepare_vocab'}\n",
      "2023-02-16 09:48:59,923 : INFO : estimated required memory for 147 words and 100 dimensions: 15191100 bytes\n",
      "2023-02-16 09:48:59,924 : INFO : resetting layer weights\n",
      "2023-02-16 09:48:59,937 : INFO : Doc2Vec lifecycle event {'msg': 'training model with 3 workers on 147 vocabulary and 100 features, using sg=0 hs=0 sample=0.001 negative=5 window=5 shrink_windows=True', 'datetime': '2023-02-16T09:48:59.937770', 'gensim': '4.1.2', 'python': '3.9.13 (main, Aug 25 2022, 18:29:29) \\n[Clang 12.0.0 ]', 'platform': 'macOS-10.16-x86_64-i386-64bit', 'event': 'train'}\n",
      "2023-02-16 09:49:00,943 : INFO : EPOCH 1 - PROGRESS: at 18.30% examples, 1338447 words/s, in_qsize 6, out_qsize 0\n",
      "2023-02-16 09:49:01,943 : INFO : EPOCH 1 - PROGRESS: at 36.49% examples, 1334550 words/s, in_qsize 4, out_qsize 0\n",
      "2023-02-16 09:49:02,944 : INFO : EPOCH 1 - PROGRESS: at 54.82% examples, 1334215 words/s, in_qsize 5, out_qsize 0\n",
      "2023-02-16 09:49:03,944 : INFO : EPOCH 1 - PROGRESS: at 73.85% examples, 1336741 words/s, in_qsize 6, out_qsize 0\n",
      "2023-02-16 09:49:04,945 : INFO : EPOCH 1 - PROGRESS: at 92.43% examples, 1337366 words/s, in_qsize 5, out_qsize 1\n",
      "2023-02-16 09:49:05,341 : INFO : worker thread finished; awaiting finish of 2 more threads\n",
      "2023-02-16 09:49:05,342 : INFO : worker thread finished; awaiting finish of 1 more threads\n",
      "2023-02-16 09:49:05,342 : INFO : worker thread finished; awaiting finish of 0 more threads\n",
      "2023-02-16 09:49:05,342 : INFO : EPOCH - 1 : training on 33126715 raw words (7227137 effective words) took 5.4s, 1338015 effective words/s\n",
      "2023-02-16 09:49:06,345 : INFO : EPOCH 2 - PROGRESS: at 17.90% examples, 1310341 words/s, in_qsize 6, out_qsize 0\n",
      "2023-02-16 09:49:07,347 : INFO : EPOCH 2 - PROGRESS: at 35.86% examples, 1311781 words/s, in_qsize 5, out_qsize 0\n",
      "2023-02-16 09:49:08,347 : INFO : EPOCH 2 - PROGRESS: at 54.20% examples, 1320835 words/s, in_qsize 6, out_qsize 0\n",
      "2023-02-16 09:49:09,349 : INFO : EPOCH 2 - PROGRESS: at 73.20% examples, 1324284 words/s, in_qsize 6, out_qsize 0\n",
      "2023-02-16 09:49:10,350 : INFO : EPOCH 2 - PROGRESS: at 91.73% examples, 1327713 words/s, in_qsize 6, out_qsize 0\n",
      "2023-02-16 09:49:10,780 : INFO : worker thread finished; awaiting finish of 2 more threads\n",
      "2023-02-16 09:49:10,782 : INFO : worker thread finished; awaiting finish of 1 more threads\n",
      "2023-02-16 09:49:10,783 : INFO : worker thread finished; awaiting finish of 0 more threads\n",
      "2023-02-16 09:49:10,783 : INFO : EPOCH - 2 : training on 33126715 raw words (7229051 effective words) took 5.4s, 1328888 effective words/s\n",
      "2023-02-16 09:49:11,785 : INFO : EPOCH 3 - PROGRESS: at 18.24% examples, 1332188 words/s, in_qsize 6, out_qsize 0\n",
      "2023-02-16 09:49:12,785 : INFO : EPOCH 3 - PROGRESS: at 36.06% examples, 1319971 words/s, in_qsize 5, out_qsize 0\n",
      "2023-02-16 09:49:13,786 : INFO : EPOCH 3 - PROGRESS: at 54.21% examples, 1321704 words/s, in_qsize 5, out_qsize 0\n",
      "2023-02-16 09:49:14,789 : INFO : EPOCH 3 - PROGRESS: at 73.12% examples, 1322264 words/s, in_qsize 5, out_qsize 0\n",
      "2023-02-16 09:49:15,789 : INFO : EPOCH 3 - PROGRESS: at 91.32% examples, 1320956 words/s, in_qsize 5, out_qsize 0\n",
      "2023-02-16 09:49:16,244 : INFO : worker thread finished; awaiting finish of 2 more threads\n",
      "2023-02-16 09:49:16,244 : INFO : worker thread finished; awaiting finish of 1 more threads\n",
      "2023-02-16 09:49:16,245 : INFO : worker thread finished; awaiting finish of 0 more threads\n",
      "2023-02-16 09:49:16,245 : INFO : EPOCH - 3 : training on 33126715 raw words (7222837 effective words) took 5.5s, 1322746 effective words/s\n",
      "2023-02-16 09:49:17,248 : INFO : EPOCH 4 - PROGRESS: at 18.26% examples, 1331833 words/s, in_qsize 5, out_qsize 1\n",
      "2023-02-16 09:49:18,251 : INFO : EPOCH 4 - PROGRESS: at 36.61% examples, 1335754 words/s, in_qsize 5, out_qsize 0\n",
      "2023-02-16 09:49:19,252 : INFO : EPOCH 4 - PROGRESS: at 55.08% examples, 1338249 words/s, in_qsize 6, out_qsize 0\n",
      "2023-02-16 09:49:20,252 : INFO : EPOCH 4 - PROGRESS: at 74.08% examples, 1339282 words/s, in_qsize 5, out_qsize 0\n",
      "2023-02-16 09:49:21,253 : INFO : EPOCH 4 - PROGRESS: at 92.62% examples, 1339215 words/s, in_qsize 6, out_qsize 1\n",
      "2023-02-16 09:49:21,634 : INFO : worker thread finished; awaiting finish of 2 more threads\n",
      "2023-02-16 09:49:21,635 : INFO : worker thread finished; awaiting finish of 1 more threads\n",
      "2023-02-16 09:49:21,636 : INFO : worker thread finished; awaiting finish of 0 more threads\n",
      "2023-02-16 09:49:21,636 : INFO : EPOCH - 4 : training on 33126715 raw words (7224990 effective words) took 5.4s, 1340302 effective words/s\n",
      "2023-02-16 09:49:22,640 : INFO : EPOCH 5 - PROGRESS: at 18.35% examples, 1340021 words/s, in_qsize 5, out_qsize 0\n",
      "2023-02-16 09:49:23,640 : INFO : EPOCH 5 - PROGRESS: at 36.45% examples, 1333237 words/s, in_qsize 5, out_qsize 0\n",
      "2023-02-16 09:49:24,642 : INFO : EPOCH 5 - PROGRESS: at 54.60% examples, 1328700 words/s, in_qsize 6, out_qsize 0\n",
      "2023-02-16 09:49:25,642 : INFO : EPOCH 5 - PROGRESS: at 73.34% examples, 1326167 words/s, in_qsize 5, out_qsize 0\n",
      "2023-02-16 09:49:26,645 : INFO : EPOCH 5 - PROGRESS: at 91.92% examples, 1328686 words/s, in_qsize 6, out_qsize 2\n",
      "2023-02-16 09:49:27,063 : INFO : worker thread finished; awaiting finish of 2 more threads\n",
      "2023-02-16 09:49:27,064 : INFO : worker thread finished; awaiting finish of 1 more threads\n",
      "2023-02-16 09:49:27,064 : INFO : worker thread finished; awaiting finish of 0 more threads\n",
      "2023-02-16 09:49:27,065 : INFO : EPOCH - 5 : training on 33126715 raw words (7222568 effective words) took 5.4s, 1330813 effective words/s\n",
      "2023-02-16 09:49:28,069 : INFO : EPOCH 6 - PROGRESS: at 18.30% examples, 1338837 words/s, in_qsize 5, out_qsize 0\n",
      "2023-02-16 09:49:29,069 : INFO : EPOCH 6 - PROGRESS: at 36.51% examples, 1336472 words/s, in_qsize 5, out_qsize 0\n",
      "2023-02-16 09:49:30,070 : INFO : EPOCH 6 - PROGRESS: at 55.00% examples, 1338706 words/s, in_qsize 6, out_qsize 0\n",
      "2023-02-16 09:49:31,071 : INFO : EPOCH 6 - PROGRESS: at 74.06% examples, 1340362 words/s, in_qsize 6, out_qsize 0\n",
      "2023-02-16 09:49:32,072 : INFO : EPOCH 6 - PROGRESS: at 92.59% examples, 1339969 words/s, in_qsize 5, out_qsize 1\n",
      "2023-02-16 09:49:32,460 : INFO : worker thread finished; awaiting finish of 2 more threads\n",
      "2023-02-16 09:49:32,461 : INFO : worker thread finished; awaiting finish of 1 more threads\n"
     ]
    },
    {
     "name": "stderr",
     "output_type": "stream",
     "text": [
      "2023-02-16 09:49:32,463 : INFO : worker thread finished; awaiting finish of 0 more threads\n",
      "2023-02-16 09:49:32,463 : INFO : EPOCH - 6 : training on 33126715 raw words (7228642 effective words) took 5.4s, 1339671 effective words/s\n",
      "2023-02-16 09:49:33,467 : INFO : EPOCH 7 - PROGRESS: at 17.88% examples, 1307155 words/s, in_qsize 5, out_qsize 0\n",
      "2023-02-16 09:49:34,467 : INFO : EPOCH 7 - PROGRESS: at 35.92% examples, 1314184 words/s, in_qsize 5, out_qsize 0\n",
      "2023-02-16 09:49:35,468 : INFO : EPOCH 7 - PROGRESS: at 54.29% examples, 1323443 words/s, in_qsize 5, out_qsize 0\n",
      "2023-02-16 09:49:36,469 : INFO : EPOCH 7 - PROGRESS: at 73.43% examples, 1329329 words/s, in_qsize 6, out_qsize 0\n",
      "2023-02-16 09:49:37,470 : INFO : EPOCH 7 - PROGRESS: at 92.04% examples, 1331951 words/s, in_qsize 6, out_qsize 0\n",
      "2023-02-16 09:49:37,885 : INFO : worker thread finished; awaiting finish of 2 more threads\n",
      "2023-02-16 09:49:37,885 : INFO : worker thread finished; awaiting finish of 1 more threads\n",
      "2023-02-16 09:49:37,887 : INFO : worker thread finished; awaiting finish of 0 more threads\n",
      "2023-02-16 09:49:37,887 : INFO : EPOCH - 7 : training on 33126715 raw words (7228970 effective words) took 5.4s, 1333124 effective words/s\n",
      "2023-02-16 09:49:38,890 : INFO : EPOCH 8 - PROGRESS: at 18.30% examples, 1337043 words/s, in_qsize 6, out_qsize 0\n",
      "2023-02-16 09:49:39,890 : INFO : EPOCH 8 - PROGRESS: at 36.60% examples, 1337870 words/s, in_qsize 6, out_qsize 0\n",
      "2023-02-16 09:49:40,891 : INFO : EPOCH 8 - PROGRESS: at 54.60% examples, 1329537 words/s, in_qsize 5, out_qsize 0\n",
      "2023-02-16 09:49:41,891 : INFO : EPOCH 8 - PROGRESS: at 73.59% examples, 1332306 words/s, in_qsize 6, out_qsize 0\n",
      "2023-02-16 09:49:42,891 : INFO : EPOCH 8 - PROGRESS: at 92.08% examples, 1332535 words/s, in_qsize 5, out_qsize 0\n",
      "2023-02-16 09:49:43,305 : INFO : worker thread finished; awaiting finish of 2 more threads\n",
      "2023-02-16 09:49:43,307 : INFO : worker thread finished; awaiting finish of 1 more threads\n",
      "2023-02-16 09:49:43,308 : INFO : worker thread finished; awaiting finish of 0 more threads\n",
      "2023-02-16 09:49:43,308 : INFO : EPOCH - 8 : training on 33126715 raw words (7224812 effective words) took 5.4s, 1333033 effective words/s\n",
      "2023-02-16 09:49:44,310 : INFO : EPOCH 9 - PROGRESS: at 18.26% examples, 1334406 words/s, in_qsize 5, out_qsize 0\n",
      "2023-02-16 09:49:45,312 : INFO : EPOCH 9 - PROGRESS: at 36.62% examples, 1338493 words/s, in_qsize 5, out_qsize 1\n",
      "2023-02-16 09:49:46,313 : INFO : EPOCH 9 - PROGRESS: at 55.14% examples, 1340850 words/s, in_qsize 6, out_qsize 0\n",
      "2023-02-16 09:49:47,314 : INFO : EPOCH 9 - PROGRESS: at 74.15% examples, 1341384 words/s, in_qsize 5, out_qsize 0\n",
      "2023-02-16 09:49:48,315 : INFO : EPOCH 9 - PROGRESS: at 92.74% examples, 1341388 words/s, in_qsize 5, out_qsize 0\n",
      "2023-02-16 09:49:48,691 : INFO : worker thread finished; awaiting finish of 2 more threads\n",
      "2023-02-16 09:49:48,691 : INFO : worker thread finished; awaiting finish of 1 more threads\n",
      "2023-02-16 09:49:48,692 : INFO : worker thread finished; awaiting finish of 0 more threads\n",
      "2023-02-16 09:49:48,693 : INFO : EPOCH - 9 : training on 33126715 raw words (7227544 effective words) took 5.4s, 1342425 effective words/s\n",
      "2023-02-16 09:49:49,696 : INFO : EPOCH 10 - PROGRESS: at 18.24% examples, 1330941 words/s, in_qsize 5, out_qsize 0\n",
      "2023-02-16 09:49:50,697 : INFO : EPOCH 10 - PROGRESS: at 36.51% examples, 1334983 words/s, in_qsize 6, out_qsize 0\n",
      "2023-02-16 09:49:51,699 : INFO : EPOCH 10 - PROGRESS: at 54.96% examples, 1336681 words/s, in_qsize 5, out_qsize 0\n",
      "2023-02-16 09:49:52,699 : INFO : EPOCH 10 - PROGRESS: at 74.04% examples, 1339290 words/s, in_qsize 6, out_qsize 0\n",
      "2023-02-16 09:49:53,700 : INFO : EPOCH 10 - PROGRESS: at 92.69% examples, 1340598 words/s, in_qsize 6, out_qsize 0\n",
      "2023-02-16 09:49:54,078 : INFO : worker thread finished; awaiting finish of 2 more threads\n",
      "2023-02-16 09:49:54,079 : INFO : worker thread finished; awaiting finish of 1 more threads\n",
      "2023-02-16 09:49:54,080 : INFO : worker thread finished; awaiting finish of 0 more threads\n",
      "2023-02-16 09:49:54,080 : INFO : EPOCH - 10 : training on 33126715 raw words (7226707 effective words) took 5.4s, 1341697 effective words/s\n",
      "2023-02-16 09:49:54,080 : INFO : Doc2Vec lifecycle event {'msg': 'training on 331267150 raw words (72263258 effective words) took 54.1s, 1334638 effective words/s', 'datetime': '2023-02-16T09:49:54.080739', 'gensim': '4.1.2', 'python': '3.9.13 (main, Aug 25 2022, 18:29:29) \\n[Clang 12.0.0 ]', 'platform': 'macOS-10.16-x86_64-i386-64bit', 'event': 'train'}\n",
      "2023-02-16 09:49:54,081 : INFO : Doc2Vec lifecycle event {'params': 'Doc2Vec(dm/m,d100,n5,w5,mc5,s0.001,t3)', 'datetime': '2023-02-16T09:49:54.081123', 'gensim': '4.1.2', 'python': '3.9.13 (main, Aug 25 2022, 18:29:29) \\n[Clang 12.0.0 ]', 'platform': 'macOS-10.16-x86_64-i386-64bit', 'event': 'created'}\n"
     ]
    }
   ],
   "source": [
    "from gensim.models.doc2vec import Doc2Vec, TaggedDocument\n",
    "\n",
    "train_documents = [TaggedDocument(doc, [i]) for i, doc in enumerate(train_df.text)]\n",
    "d2v = Doc2Vec(train_documents)"
   ]
  },
  {
   "cell_type": "code",
   "execution_count": 45,
   "metadata": {},
   "outputs": [
    {
     "name": "stdout",
     "output_type": "stream",
     "text": [
      "Accuracy : 0.5604\n"
     ]
    },
    {
     "name": "stderr",
     "output_type": "stream",
     "text": [
      "/Users/benkabongo25/opt/anaconda3/lib/python3.9/site-packages/sklearn/linear_model/_logistic.py:444: ConvergenceWarning: lbfgs failed to converge (status=1):\n",
      "STOP: TOTAL NO. of ITERATIONS REACHED LIMIT.\n",
      "\n",
      "Increase the number of iterations (max_iter) or scale the data as shown in:\n",
      "    https://scikit-learn.org/stable/modules/preprocessing.html\n",
      "Please also refer to the documentation for alternative solver options:\n",
      "    https://scikit-learn.org/stable/modules/linear_model.html#logistic-regression\n",
      "  n_iter_i = _check_optimize_result(\n"
     ]
    }
   ],
   "source": [
    "train_text = train_df.text.map(preprocess)\n",
    "test_text = test_df.text.map(preprocess)\n",
    "\n",
    "y = np.array(train_df.label)\n",
    "y_test = np.array(test_df.label)\n",
    "\n",
    "X = [d2v.infer_vector(t.split()) for t in train_text]\n",
    "X_test = [d2v.infer_vector(t.split()) for t in test_text]\n",
    "\n",
    "lr = LogisticRegression()\n",
    "lr.fit(X, y)\n",
    "\n",
    "y_pred = lr.predict(X_test)\n",
    "print('Accuracy :', accuracy_score(y_pred, y_test))"
   ]
  },
  {
   "cell_type": "markdown",
   "metadata": {},
   "source": [
    "#### Tf-idf"
   ]
  },
  {
   "cell_type": "code",
   "execution_count": null,
   "metadata": {},
   "outputs": [],
   "source": [
    "train_corpus = train_df.text.map(preprocess)\n",
    "test_corpus = test_df.text.map(preprocess)"
   ]
  },
  {
   "cell_type": "code",
   "execution_count": null,
   "metadata": {},
   "outputs": [],
   "source": [
    "# tf-idf\n",
    "\n",
    "from sklearn.feature_extraction.text import TfidfVectorizer\n",
    "\n",
    "vectorizer = TfidfVectorizer(lowercase=True)\n",
    "vectors = vectorizer.fit_transform(train_corpus)\n",
    "matrix = vectors.toarray()\n",
    "\n",
    "# features trick\n",
    "features = vectorizer.get_feature_names_out()\n",
    "# clé : mot, valeur : index\n",
    "vk_features = dict(zip(features, np.arange(0, len(features))))"
   ]
  },
  {
   "cell_type": "code",
   "execution_count": null,
   "metadata": {},
   "outputs": [],
   "source": [
    "test_vectors = vectorizer.transform(test_df.text)\n",
    "test_matrix = test_vectors.toarray()"
   ]
  },
  {
   "cell_type": "code",
   "execution_count": null,
   "metadata": {},
   "outputs": [],
   "source": [
    "def vectorize_tfidf(document_index, \n",
    "                    f=np.mean,\n",
    "                    corpus=train_df.text, \n",
    "                    matrix=matrix, \n",
    "                    vk_features=vk_features,\n",
    "                    model=wv_pre_trained):\n",
    "    \n",
    "    doc = corpus[document_index]\n",
    "    doc_matrix = matrix[document_index]\n",
    "    \n",
    "    vec = []\n",
    "    for word in doc:\n",
    "        if word.lower() in vk_features and word in model.key_to_index:\n",
    "            tf_idf_score = doc_matrix[ vk_features[word.lower()] ]\n",
    "            w2v_matrix = np.array(model[word])\n",
    "            vec.append( list( tf_idf_score * w2v_matrix ) )\n",
    "            \n",
    "    print(vec)\n",
    "    return f(vec, axis=0)"
   ]
  },
  {
   "cell_type": "code",
   "execution_count": null,
   "metadata": {},
   "outputs": [],
   "source": [
    "X = [vectorize_tfidf(i) for i in range(len(train_corpus))]\n",
    "y = np.array(train_df.label)\n",
    "\n",
    "lr = LogisticRegression()\n",
    "lr.fit(X, y)"
   ]
  },
  {
   "cell_type": "code",
   "execution_count": null,
   "metadata": {},
   "outputs": [],
   "source": [
    "X_test = [vectorize_tfidf(i, corpus=test_corpus, matrix=test_matrix) for i in range(len(test_corpus))]\n",
    "y_test = np.array(test_df.label)\n",
    "\n",
    "y_pred = lr.predict(X_test)\n",
    "accuracy_score(y_pred, y_test)"
   ]
  },
  {
   "cell_type": "code",
   "execution_count": null,
   "metadata": {},
   "outputs": [],
   "source": []
  },
  {
   "cell_type": "code",
   "execution_count": null,
   "metadata": {},
   "outputs": [],
   "source": []
  }
 ],
 "metadata": {
  "kernelspec": {
   "display_name": "Python 3 (ipykernel)",
   "language": "python",
   "name": "python3"
  },
  "language_info": {
   "codemirror_mode": {
    "name": "ipython",
    "version": 3
   },
   "file_extension": ".py",
   "mimetype": "text/x-python",
   "name": "python",
   "nbconvert_exporter": "python",
   "pygments_lexer": "ipython3",
   "version": "3.9.13"
  },
  "vscode": {
   "interpreter": {
    "hash": "902a52bcf4503a473db011f1937bdfe17613b08622219712e0110e48c4958c23"
   }
  }
 },
 "nbformat": 4,
 "nbformat_minor": 2
}
