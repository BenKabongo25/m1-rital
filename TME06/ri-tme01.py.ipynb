{
 "cells": [
  {
   "cell_type": "markdown",
   "id": "b06c2e55",
   "metadata": {},
   "source": [
    "# RITAL\n",
    "\n",
    "## Recherche d'information : Indexation\n",
    "\n",
    "**Ben Kabongo**, 21116436, *Master DAC*"
   ]
  },
  {
   "cell_type": "code",
   "execution_count": 1,
   "id": "1f71de80",
   "metadata": {},
   "outputs": [],
   "source": [
    "from utils import *"
   ]
  },
  {
   "cell_type": "markdown",
   "id": "4337df32",
   "metadata": {},
   "source": [
    "### Exercice 1 – Exercice de compréhension : indexation d’un petit jeu de données"
   ]
  },
  {
   "cell_type": "code",
   "execution_count": 2,
   "id": "85f6f1d7",
   "metadata": {},
   "outputs": [],
   "source": [
    "docs = {\n",
    "    'doc1': 'the new home has been saled on top forecasts',\n",
    "    'doc2': 'the home sales rise in july',\n",
    "    'doc3': 'there is an increase in home sales in july',\n",
    "    'doc4': 'july encounter a new home sales rise'\n",
    "}"
   ]
  },
  {
   "cell_type": "code",
   "execution_count": 3,
   "id": "0906a1f1",
   "metadata": {},
   "outputs": [
    {
     "name": "stdout",
     "output_type": "stream",
     "text": [
      "the new home has been saled on top forecasts\n",
      "{'the': 1, 'new': 1, 'home': 1, 'ha': 1, 'been': 1, 'sale': 1, 'on': 1, 'top': 1, 'forecast': 1}\n",
      "--------------------------------------------\n",
      "the home sales rise in july\n",
      "{'the': 1, 'home': 1, 'sale': 1, 'rise': 1, 'in': 1, 'juli': 1}\n",
      "--------------------------------------------\n",
      "there is an increase in home sales in july\n",
      "{'there': 1, 'is': 1, 'an': 1, 'increas': 1, 'in': 2, 'home': 1, 'sale': 1, 'juli': 1}\n",
      "--------------------------------------------\n",
      "july encounter a new home sales rise\n",
      "{'juli': 1, 'encount': 1, 'a': 1, 'new': 1, 'home': 1, 'sale': 1, 'rise': 1}\n",
      "--------------------------------------------\n"
     ]
    }
   ],
   "source": [
    "# question 1.1\n",
    "for _, doc in docs.items():\n",
    "    print(doc)\n",
    "    wc = words_count(doc)\n",
    "    print(wc)\n",
    "    print('--------------------------------------------')"
   ]
  },
  {
   "cell_type": "code",
   "execution_count": 4,
   "id": "10319cd8",
   "metadata": {},
   "outputs": [
    {
     "name": "stdout",
     "output_type": "stream",
     "text": [
      "doc1 : {'the': 1, 'new': 1, 'home': 1, 'ha': 1, 'been': 1, 'sale': 1, 'on': 1, 'top': 1, 'forecast': 1}\n",
      "doc2 : {'the': 1, 'home': 1, 'sale': 1, 'rise': 1, 'in': 1, 'juli': 1}\n",
      "doc3 : {'there': 1, 'is': 1, 'an': 1, 'increas': 1, 'in': 2, 'home': 1, 'sale': 1, 'juli': 1}\n",
      "doc4 : {'juli': 1, 'encount': 1, 'a': 1, 'new': 1, 'home': 1, 'sale': 1, 'rise': 1}\n"
     ]
    }
   ],
   "source": [
    "# question 1.2\n",
    "index = create_index(docs)\n",
    "for k, v in index.items():\n",
    "    print(k, ':', v)"
   ]
  },
  {
   "cell_type": "code",
   "execution_count": 5,
   "id": "8e06bdcb",
   "metadata": {},
   "outputs": [
    {
     "name": "stdout",
     "output_type": "stream",
     "text": [
      "the : {'doc1': 1, 'doc2': 1}\n",
      "new : {'doc1': 1, 'doc4': 1}\n",
      "home : {'doc1': 1, 'doc2': 1, 'doc3': 1, 'doc4': 1}\n",
      "ha : {'doc1': 1}\n",
      "been : {'doc1': 1}\n",
      "sale : {'doc1': 1, 'doc2': 1, 'doc3': 1, 'doc4': 1}\n",
      "on : {'doc1': 1}\n",
      "top : {'doc1': 1}\n",
      "forecast : {'doc1': 1}\n",
      "rise : {'doc2': 1, 'doc4': 1}\n",
      "in : {'doc2': 1, 'doc3': 2}\n",
      "juli : {'doc2': 1, 'doc3': 1, 'doc4': 1}\n",
      "there : {'doc3': 1}\n",
      "is : {'doc3': 1}\n",
      "an : {'doc3': 1}\n",
      "increas : {'doc3': 1}\n",
      "encount : {'doc4': 1}\n",
      "a : {'doc4': 1}\n"
     ]
    }
   ],
   "source": [
    "reversed_index = reverse_index(index)\n",
    "for k, v in reversed_index.items():\n",
    "    print(k, ':', v)"
   ]
  },
  {
   "cell_type": "code",
   "execution_count": 6,
   "id": "0c255d03",
   "metadata": {},
   "outputs": [
    {
     "name": "stdout",
     "output_type": "stream",
     "text": [
      "doc1 : {'the': 0.05675840264066563, 'new': 0.05675840264066563, 'home': 0.0, 'ha': 0.10181008131935056, 'been': 0.10181008131935056, 'sale': 0.0, 'on': 0.10181008131935056, 'top': 0.10181008131935056, 'forecast': 0.10181008131935056}\n",
      "doc2 : {'the': 0.08513760396099845, 'home': 0.0, 'sale': 0.0, 'rise': 0.08513760396099845, 'in': 0.08513760396099845, 'juli': 0.037190591885701625}\n",
      "doc3 : {'there': 0.10181008131935056, 'is': 0.10181008131935056, 'an': 0.10181008131935056, 'increas': 0.10181008131935056, 'in': 0.11351680528133126, 'home': 0.0, 'sale': 0.0, 'juli': 0.024793727923801082}\n",
      "doc4 : {'juli': 0.03187765018774425, 'encount': 0.13089867598202215, 'a': 0.13089867598202215, 'new': 0.07297508910942724, 'home': 0.0, 'sale': 0.0, 'rise': 0.07297508910942724}\n"
     ]
    }
   ],
   "source": [
    "# question 1.3\n",
    "tfidf_index = tfidf(docs)\n",
    "for k, v in tfidf_index.items():\n",
    "    print(k, ':', v)"
   ]
  },
  {
   "cell_type": "markdown",
   "id": "4c454042",
   "metadata": {},
   "source": [
    "### Exercice 2 – Rechercher avec des index"
   ]
  },
  {
   "cell_type": "markdown",
   "id": "049b6a12",
   "metadata": {},
   "source": [
    "#### Test"
   ]
  },
  {
   "cell_type": "code",
   "execution_count": 7,
   "id": "4114cce1",
   "metadata": {},
   "outputs": [
    {
     "name": "stdout",
     "output_type": "stream",
     "text": [
      "doc1 : 0.26037856527936676\n",
      "doc4 : 0.07297508910942724\n"
     ]
    }
   ],
   "source": [
    "query = 'new home has been'\n",
    "res = TAAT(query, docs, 2)\n",
    "for k, v in res.items():\n",
    "    print(k, ':', v)"
   ]
  },
  {
   "cell_type": "code",
   "execution_count": 23,
   "id": "c21133e5",
   "metadata": {},
   "outputs": [
    {
     "name": "stdout",
     "output_type": "stream",
     "text": [
      "the new home has been saled on top forecasts\n"
     ]
    }
   ],
   "source": [
    "print(docs['doc1'])"
   ]
  },
  {
   "cell_type": "code",
   "execution_count": 24,
   "id": "bf600ec7",
   "metadata": {},
   "outputs": [
    {
     "name": "stdout",
     "output_type": "stream",
     "text": [
      "july encounter a new home sales rise\n"
     ]
    }
   ],
   "source": [
    "print(docs['doc4'])"
   ]
  },
  {
   "cell_type": "code",
   "execution_count": 8,
   "id": "21755454",
   "metadata": {},
   "outputs": [],
   "source": [
    "import ir_datasets"
   ]
  },
  {
   "cell_type": "markdown",
   "id": "984ca1b8",
   "metadata": {},
   "source": [
    "#### Dataset CRANFIELD"
   ]
  },
  {
   "cell_type": "code",
   "execution_count": 9,
   "id": "1d4e9c38",
   "metadata": {},
   "outputs": [],
   "source": [
    "cranfield_dataset = ir_datasets.load('cranfield')"
   ]
  },
  {
   "cell_type": "code",
   "execution_count": 10,
   "id": "81aaac12",
   "metadata": {},
   "outputs": [
    {
     "data": {
      "text/plain": [
       "1400"
      ]
     },
     "execution_count": 10,
     "metadata": {},
     "output_type": "execute_result"
    }
   ],
   "source": [
    "# nombre de documents\n",
    "cranfield_dataset.docs_count()"
   ]
  },
  {
   "cell_type": "code",
   "execution_count": 11,
   "id": "b14d3955",
   "metadata": {
    "scrolled": false
   },
   "outputs": [
    {
     "name": "stdout",
     "output_type": "stream",
     "text": [
      "CranfieldDoc(doc_id='1', title='experimental investigation of the aerodynamics of a\\nwing in a slipstream .', text='experimental investigation of the aerodynamics of a\\nwing in a slipstream .\\n  an experimental study of a wing in a propeller slipstream was\\nmade in order to determine the spanwise distribution of the lift\\nincrease due to slipstream at different angles of attack of the wing\\nand at different free stream to slipstream velocity ratios .  the\\nresults were intended in part as an evaluation basis for different\\ntheoretical treatments of this problem .\\n  the comparative span loading curves, together with\\nsupporting evidence, showed that a substantial part of the lift increment\\nproduced by the slipstream was due to a /destalling/ or\\nboundary-layer-control effect .  the integrated remaining lift\\nincrement, after subtracting this destalling lift, was found to agree\\nwell with a potential flow theory .\\n  an empirical evaluation of the destalling effects was made for\\nthe specific configuration of the experiment .', author='brenckman,m.', bib='j. ae. scs. 25, 1958, 324.')\n",
      "\n",
      "CranfieldDoc(doc_id='2', title='simple shear flow past a flat plate in an incompressible fluid of small\\nviscosity .', text=\"simple shear flow past a flat plate in an incompressible fluid of small\\nviscosity .\\nin the study of high-speed viscous flow past a two-dimensional body it\\nis usually necessary to consider a curved shock wave emitting from the\\nnose or leading edge of the body .  consequently, there exists an\\ninviscid rotational flow region between the shock wave and the boundary\\nlayer .  such a situation arises, for instance, in the study of the\\nhypersonic viscous flow past a flat plate .  the situation is somewhat\\ndifferent from prandtl's classical boundary-layer problem . in prandtl's\\noriginal problem the inviscid free stream outside the boundary layer is\\nirrotational while in a hypersonic boundary-layer problem the inviscid\\nfree stream must be considered as rotational .  the possible effects of\\nvorticity have been recently discussed by ferri and libby .  in the\\npresent paper, the simple shear flow past a flat plate in a fluid of small\\nviscosity is investigated .  it can be shown that this problem can again\\nbe treated by the boundary-layer approximation, the only novel feature\\nbeing that the free stream has a constant vorticity .  the discussion\\nhere is restricted to two-dimensional incompressible steady flow .\", author='ting-yili', bib='department of aeronautical engineering, rensselaer polytechnic\\ninstitute\\ntroy, n.y.')\n",
      "\n",
      "CranfieldDoc(doc_id='3', title='the boundary layer in simple shear flow past a flat plate .', text='the boundary layer in simple shear flow past a flat plate .\\nthe boundary-layer equations are presented for steady\\nincompressible flow with no pressure gradient .', author='m. b. glauert', bib='department of mathematics, university of manchester, manchester,\\nengland')\n",
      "\n"
     ]
    }
   ],
   "source": [
    "for doc in cranfield_dataset.docs_iter()[:3]:\n",
    "    print(doc)\n",
    "    print()"
   ]
  },
  {
   "cell_type": "code",
   "execution_count": 12,
   "id": "2581bfab",
   "metadata": {},
   "outputs": [
    {
     "data": {
      "text/plain": [
       "ir_datasets.datasets.cranfield.CranfieldDoc"
      ]
     },
     "execution_count": 12,
     "metadata": {},
     "output_type": "execute_result"
    }
   ],
   "source": [
    "type(cranfield_dataset.docs_iter()[0])"
   ]
  },
  {
   "cell_type": "code",
   "execution_count": 13,
   "id": "4dec0062",
   "metadata": {},
   "outputs": [
    {
     "name": "stdout",
     "output_type": "stream",
     "text": [
      "Doc id : 1\n",
      "Title : experimental investigation of the aerodynamics of a\n",
      "wing in a slipstream .\n",
      "Text : experimental investigation of the aerodynamics of a\n",
      "wing in a slipstream .\n",
      "  an experimental study of a wing in a propeller slipstream was\n",
      "made in order to determine the spanwise distribution of the lift\n",
      "increase due to slipstream at different angles of attack of the wing\n",
      "and at different free stream to slipstream velocity ratios .  the\n",
      "results were intended in part as an evaluation basis for different\n",
      "theoretical treatments of this problem .\n",
      "  the comparative span loading curves, together with\n",
      "supporting evidence, showed that a substantial part of the lift increment\n",
      "produced by the slipstream was due to a /destalling/ or\n",
      "boundary-layer-control effect .  the integrated remaining lift\n",
      "increment, after subtracting this destalling lift, was found to agree\n",
      "well with a potential flow theory .\n",
      "  an empirical evaluation of the destalling effects was made for\n",
      "the specific configuration of the experiment .\n"
     ]
    }
   ],
   "source": [
    "doc = cranfield_dataset.docs_iter()[0]\n",
    "print('Doc id :', doc.doc_id)\n",
    "print('Title :', doc.title)\n",
    "print('Text :', doc.text)"
   ]
  },
  {
   "cell_type": "code",
   "execution_count": 14,
   "id": "7d12f743",
   "metadata": {},
   "outputs": [
    {
     "data": {
      "text/plain": [
       "('doc_id', 'title', 'text', 'author', 'bib')"
      ]
     },
     "execution_count": 14,
     "metadata": {},
     "output_type": "execute_result"
    }
   ],
   "source": [
    "cranfield_dataset.docs_cls()._fields"
   ]
  },
  {
   "cell_type": "code",
   "execution_count": 15,
   "id": "1beced76",
   "metadata": {},
   "outputs": [
    {
     "data": {
      "text/plain": [
       "{'doc_id': str, 'title': str, 'text': str, 'author': str, 'bib': str}"
      ]
     },
     "execution_count": 15,
     "metadata": {},
     "output_type": "execute_result"
    }
   ],
   "source": [
    "cranfield_dataset.docs_cls().__annotations__"
   ]
  },
  {
   "cell_type": "code",
   "execution_count": 16,
   "id": "957ff2f8",
   "metadata": {},
   "outputs": [
    {
     "data": {
      "text/plain": [
       "225"
      ]
     },
     "execution_count": 16,
     "metadata": {},
     "output_type": "execute_result"
    }
   ],
   "source": [
    "# nombre de requêtes\n",
    "cranfield_dataset.queries_count()"
   ]
  },
  {
   "cell_type": "code",
   "execution_count": 17,
   "id": "ed8c6a3c",
   "metadata": {},
   "outputs": [
    {
     "data": {
      "text/plain": [
       "('query_id', 'text')"
      ]
     },
     "execution_count": 17,
     "metadata": {},
     "output_type": "execute_result"
    }
   ],
   "source": [
    "cranfield_dataset.queries_cls()._fields"
   ]
  },
  {
   "cell_type": "code",
   "execution_count": 18,
   "id": "fab99abc",
   "metadata": {},
   "outputs": [
    {
     "data": {
      "text/plain": [
       "{'query_id': str, 'text': str}"
      ]
     },
     "execution_count": 18,
     "metadata": {},
     "output_type": "execute_result"
    }
   ],
   "source": [
    "cranfield_dataset.queries_cls().__annotations__"
   ]
  },
  {
   "cell_type": "code",
   "execution_count": 19,
   "id": "80417180",
   "metadata": {},
   "outputs": [],
   "source": [
    "# récupération des documents et de query sous forme de dictionnaires\n",
    "def dataset_todict(dataset):\n",
    "    docs_dict = {}\n",
    "    query_dict = {}\n",
    "    for doc in dataset.docs_iter():\n",
    "        docs_dict['D-' + doc.doc_id] = doc.text\n",
    "    for query in dataset.queries_iter():\n",
    "        query_dict['Q-' + query.query_id] = query.text\n",
    "    return docs_dict, query_dict"
   ]
  },
  {
   "cell_type": "code",
   "execution_count": 20,
   "id": "764ab43e",
   "metadata": {},
   "outputs": [
    {
     "name": "stdout",
     "output_type": "stream",
     "text": [
      "1400 225\n"
     ]
    }
   ],
   "source": [
    "docs_dict, query_dict = dataset_todict(cranfield_dataset)\n",
    "print(len(docs_dict), len(query_dict))"
   ]
  },
  {
   "cell_type": "code",
   "execution_count": 21,
   "id": "78c90641",
   "metadata": {},
   "outputs": [
    {
     "name": "stdout",
     "output_type": "stream",
     "text": [
      "D-1:\n",
      "experimental investigation of the aerodynamics of a\n",
      "wing in a slipstream .\n",
      "  an experimental study of a wing in a propeller slipstream was\n",
      "made in order to determine the spanwise distribution of the lift\n",
      "increase due to slipstream at different angles of attack of the wing\n",
      "and at different free stream to slipstream velocity ratios .  the\n",
      "results were intended in part as an evaluation basis for different\n",
      "theoretical treatments of this problem .\n",
      "  the comparative span loading curves, together with\n",
      "supporting evidence, showed that a substantial part of the lift increment\n",
      "produced by the slipstream was due to a /destalling/ or\n",
      "boundary-layer-control effect .  the integrated remaining lift\n",
      "increment, after subtracting this destalling lift, was found to agree\n",
      "well with a potential flow theory .\n",
      "  an empirical evaluation of the destalling effects was made for\n",
      "the specific configuration of the experiment .\n"
     ]
    }
   ],
   "source": [
    "print(*list(docs_dict.items())[0], sep=':\\n')"
   ]
  },
  {
   "cell_type": "code",
   "execution_count": 22,
   "id": "88ef9f00",
   "metadata": {},
   "outputs": [
    {
     "name": "stdout",
     "output_type": "stream",
     "text": [
      "Q-1:\n",
      "what similarity laws must be obeyed when constructing aeroelastic models\n",
      "of heated high speed aircraft .\n"
     ]
    }
   ],
   "source": [
    "print(*list(query_dict.items())[0], sep=':\\n')"
   ]
  },
  {
   "cell_type": "code",
   "execution_count": 25,
   "id": "b0c05940",
   "metadata": {},
   "outputs": [
    {
     "name": "stdout",
     "output_type": "stream",
     "text": [
      "['D-359', 'D-51', 'D-429', 'D-879', 'D-5', 'D-13', 'D-746', 'D-817', 'D-158', 'D-378', 'D-509', 'D-1111', 'D-925', 'D-1042', 'D-1361', 'D-663', 'D-875', 'D-56', 'D-1328', 'D-758']\n"
     ]
    }
   ],
   "source": [
    "query = query_dict['Q-1']\n",
    "res = TAAT(query, docs_dict, 20)\n",
    "print(list(res.keys()))"
   ]
  },
  {
   "cell_type": "code",
   "execution_count": 26,
   "id": "1161309a",
   "metadata": {},
   "outputs": [
    {
     "name": "stdout",
     "output_type": "stream",
     "text": [
      "note on the hypersonic similarity law for an unyawed\n",
      "cone .\n",
      "  it is now known that the hypersonic similarity law derived for\n",
      "slender cones and ogival bodies under the assumption, is\n",
      "applicable for mach numbers as low as 3 .  this note makes use of\n",
      "a series development to infer the hypersonic similarity law for\n",
      "unyawed cones from the taylor-maccoll differential equations and\n",
      "associated boundary conditions .  a simple approximate formula\n",
      "for the function of the similarity law is obtained,\n",
      "and the drag function computed with this formula is compared\n",
      "with kopal's numerical results and, for very slender cones, with\n",
      "von karman's linearized formula .\n"
     ]
    }
   ],
   "source": [
    "print(docs_dict['D-359'])"
   ]
  },
  {
   "cell_type": "code",
   "execution_count": 27,
   "id": "b02054e0",
   "metadata": {},
   "outputs": [
    {
     "name": "stdout",
     "output_type": "stream",
     "text": [
      "theory of aircraft structural models subjected to aerodynamic\n",
      "heating and external loads .\n",
      "  the problem of investigating the simultaneous effects of transient\n",
      "aerodynamic heating and external loads on aircraft structures for the\n",
      "purpose of determining the ability of the structure to withstand flight\n",
      "to supersonic speeds is studied .  by dimensional analyses it is shown\n",
      "that ..\n",
      "constructed of the same materials as the aircraft will be thermally\n",
      "similar to the aircraft with respect to\n",
      "the flow of heat through the structure\n",
      "will be similar to those of the aircraft when the structural model is\n",
      "constructed at the same temperature as the aircraft .\n",
      "external loads will be similar to those of the aircraft .\n",
      "subjected to heating and cooling that correctly simulate the aerodynamic\n",
      "heating of the aircraft, except with respect to angular velocities and\n",
      "angular accelerations, without requiring determination of the heat flux\n",
      "at each point on the surface and its variation with time .\n",
      "acting on the aerodynamically heated structural model to those acting\n",
      "on the aircraft is determined for the case of zero angular velocity and\n",
      "zero angular acceleration, so that the structural model may be subjected\n",
      "to the external loads required for simultaneous simulation of stresses\n",
      "and deformations due to external loads .\n"
     ]
    }
   ],
   "source": [
    "print(docs_dict['D-51'])"
   ]
  },
  {
   "cell_type": "code",
   "execution_count": 28,
   "id": "659d955c",
   "metadata": {},
   "outputs": [
    {
     "data": {
      "text/plain": [
       "{'D-359': 0.24949505072613826,\n",
       " 'D-51': 0.2438066100369015,\n",
       " 'D-429': 0.19093034977454967,\n",
       " 'D-879': 0.17405746493808288,\n",
       " 'D-5': 0.17124095070267872,\n",
       " 'D-13': 0.15165088355336734,\n",
       " 'D-746': 0.14403219650087615,\n",
       " 'D-817': 0.14282734884936474,\n",
       " 'D-158': 0.13562209129339173,\n",
       " 'D-378': 0.1301964216910955,\n",
       " 'D-509': 0.12925463165140472,\n",
       " 'D-1111': 0.1257076603372679,\n",
       " 'D-925': 0.12358899142817407,\n",
       " 'D-1042': 0.12007023475312315,\n",
       " 'D-1361': 0.11835501119178488,\n",
       " 'D-663': 0.11834507888996323,\n",
       " 'D-875': 0.11820952471303207,\n",
       " 'D-56': 0.11804893318319519,\n",
       " 'D-1328': 0.11675240250347996,\n",
       " 'D-758': 0.11597185444617988}"
      ]
     },
     "execution_count": 28,
     "metadata": {},
     "output_type": "execute_result"
    }
   ],
   "source": [
    "res"
   ]
  },
  {
   "cell_type": "code",
   "execution_count": null,
   "id": "65d7dd1a",
   "metadata": {},
   "outputs": [],
   "source": []
  },
  {
   "cell_type": "code",
   "execution_count": null,
   "id": "c1e2f2d7",
   "metadata": {},
   "outputs": [],
   "source": []
  }
 ],
 "metadata": {
  "kernelspec": {
   "display_name": "Python 3 (ipykernel)",
   "language": "python",
   "name": "python3"
  },
  "language_info": {
   "codemirror_mode": {
    "name": "ipython",
    "version": 3
   },
   "file_extension": ".py",
   "mimetype": "text/x-python",
   "name": "python",
   "nbconvert_exporter": "python",
   "pygments_lexer": "ipython3",
   "version": "3.9.13"
  }
 },
 "nbformat": 4,
 "nbformat_minor": 5
}
